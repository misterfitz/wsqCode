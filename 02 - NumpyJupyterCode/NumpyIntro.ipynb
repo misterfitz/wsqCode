{
 "cells": [
  {
   "cell_type": "markdown",
   "metadata": {},
   "source": [
    "# Numpy\n",
    "Numpy - \"Numerical Python\". Foundation for Pandas and high performance scientific computing / data analysis\n",
    "\n",
    "1. Numpy Arrays\n",
    "2. Basic Operations\n",
    "3. Indexing\n",
    "4. Universal Functions\n",
    "5. Array Methods for Data Analysis\n",
    "6. Linear Algebra (and transposing)\n"
   ]
  },
  {
   "cell_type": "code",
   "execution_count": 1,
   "metadata": {},
   "outputs": [],
   "source": [
    "import numpy as np\n",
    "# use np.some_numpy_method to use numpy "
   ]
  },
  {
   "cell_type": "code",
   "execution_count": null,
   "metadata": {},
   "outputs": [],
   "source": [
    "np.abs(-5)"
   ]
  },
  {
   "cell_type": "code",
   "execution_count": null,
   "metadata": {},
   "outputs": [],
   "source": [
    "# import only the absolute value function from numpy \n",
    "from numpy import array, dot, sign\n",
    "\n",
    "# import all functions from numpy\n",
    "from numpy import *"
   ]
  }
 ],
 "metadata": {
  "kernelspec": {
   "display_name": "Python 3",
   "language": "python",
   "name": "python3"
  },
  "language_info": {
   "codemirror_mode": {
    "name": "ipython",
    "version": 3
   },
   "file_extension": ".py",
   "mimetype": "text/x-python",
   "name": "python",
   "nbconvert_exporter": "python",
   "pygments_lexer": "ipython3",
   "version": "3.8.8"
  }
 },
 "nbformat": 4,
 "nbformat_minor": 4
}
