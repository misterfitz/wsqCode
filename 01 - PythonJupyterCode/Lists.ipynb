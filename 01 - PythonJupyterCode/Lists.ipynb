{
 "cells": [
  {
   "cell_type": "markdown",
   "metadata": {},
   "source": [
    "# Lists"
   ]
  },
  {
   "cell_type": "code",
   "execution_count": null,
   "metadata": {},
   "outputs": [],
   "source": [
    "# create a list using square brackets\n",
    "stocks = ['AAPL','BAC','XOM','LULU']\n",
    "print (stocks)\n",
    "print (type(stocks))"
   ]
  },
  {
   "cell_type": "code",
   "execution_count": null,
   "metadata": {},
   "outputs": [],
   "source": [
    "# lists can be of any data type\n",
    "returns = [0.01,-0.01,0.02,0.03]\n",
    "print (returns)\n",
    "print (type(returns))"
   ]
  },
  {
   "cell_type": "code",
   "execution_count": null,
   "metadata": {},
   "outputs": [],
   "source": [
    "# Retrieving values\n",
    "\n",
    "# positive indexing\n",
    "print (stocks[0])\n",
    "print (stocks[2])\n",
    "print (stocks[3])"
   ]
  },
  {
   "cell_type": "code",
   "execution_count": null,
   "metadata": {},
   "outputs": [],
   "source": [
    "# Negative indexing\n",
    "print (stocks[-1])\n",
    "print (stocks[-2])\n",
    "print (stocks[-4])"
   ]
  },
  {
   "cell_type": "code",
   "execution_count": null,
   "metadata": {},
   "outputs": [],
   "source": [
    "# Index Range w/ Positives\n",
    "print (stocks[1:3])\n",
    "print (stocks[:4])\n",
    "print (stocks[2:])"
   ]
  },
  {
   "cell_type": "code",
   "execution_count": null,
   "metadata": {},
   "outputs": [],
   "source": [
    "# Index Range w/ Negatives\n",
    "print (stocks[-3:-1])\n",
    "print (stocks[-3:])\n",
    "print (stocks[:-2])"
   ]
  },
  {
   "cell_type": "code",
   "execution_count": null,
   "metadata": {},
   "outputs": [],
   "source": [
    "# check if an item exists \n",
    "print ('TSLA' in stocks) \n",
    "print ('AAPL' in stocks) "
   ]
  },
  {
   "cell_type": "code",
   "execution_count": null,
   "metadata": {},
   "outputs": [],
   "source": [
    "# changing values\n",
    "stocks[0]='MSFT'\n",
    "print (stocks)\n",
    "\n",
    "# inserting values\n",
    "stocks.insert(1,'AAPL')\n",
    "print (stocks)"
   ]
  },
  {
   "cell_type": "code",
   "execution_count": null,
   "metadata": {},
   "outputs": [],
   "source": [
    "stocks.append('TWTR')\n",
    "print (stocks)"
   ]
  },
  {
   "cell_type": "code",
   "execution_count": null,
   "metadata": {},
   "outputs": [],
   "source": [
    "stocks.remove('AAPL')\n",
    "print (stocks)"
   ]
  },
  {
   "cell_type": "code",
   "execution_count": null,
   "metadata": {},
   "outputs": [],
   "source": [
    "stocks.pop()\n",
    "print (stocks)"
   ]
  },
  {
   "cell_type": "code",
   "execution_count": null,
   "metadata": {},
   "outputs": [],
   "source": [
    "# combining lists\n",
    "tech = ['AAPL','MSFT','FB']\n",
    "fin = ['BAC','JPM','GS']\n",
    "both = tech + fin\n",
    "print (both)"
   ]
  },
  {
   "cell_type": "code",
   "execution_count": null,
   "metadata": {},
   "outputs": [],
   "source": [
    "# tab completion\n",
    "both.sort()\n",
    "both"
   ]
  },
  {
   "cell_type": "code",
   "execution_count": null,
   "metadata": {},
   "outputs": [],
   "source": [
    "both.sort?"
   ]
  }
 ],
 "metadata": {
  "kernelspec": {
   "display_name": "Python 3",
   "language": "python",
   "name": "python3"
  },
  "language_info": {
   "codemirror_mode": {
    "name": "ipython",
    "version": 3
   },
   "file_extension": ".py",
   "mimetype": "text/x-python",
   "name": "python",
   "nbconvert_exporter": "python",
   "pygments_lexer": "ipython3",
   "version": "3.8.5"
  }
 },
 "nbformat": 4,
 "nbformat_minor": 4
}
