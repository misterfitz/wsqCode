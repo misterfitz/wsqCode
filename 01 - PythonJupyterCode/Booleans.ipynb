{
 "cells": [
  {
   "cell_type": "markdown",
   "metadata": {},
   "source": [
    "# Booleans\n",
    "1. Used in loops & if/else statements\n",
    "2. Used for indexing arrays"
   ]
  },
  {
   "cell_type": "code",
   "execution_count": null,
   "metadata": {},
   "outputs": [],
   "source": [
    "a=True\n",
    "b=False\n",
    "\n",
    "print (a)\n",
    "print (b)"
   ]
  },
  {
   "cell_type": "code",
   "execution_count": null,
   "metadata": {},
   "outputs": [],
   "source": [
    "print (type(a))\n",
    "print (type(b))"
   ]
  },
  {
   "cell_type": "code",
   "execution_count": null,
   "metadata": {},
   "outputs": [],
   "source": [
    "# generating booleans using operators on numbers\n",
    "x = 2\n",
    "y = 3\n",
    "\n",
    "print (x==y) # equal\n",
    "print (x!=y) # not equal\n",
    "print (x>y) # greater than\n",
    "print (x<y) # less than\n",
    "print (x>=y) # greater than or equal to\n",
    "print (x<=y) # less than or equal to"
   ]
  },
  {
   "cell_type": "code",
   "execution_count": null,
   "metadata": {},
   "outputs": [],
   "source": [
    "# generating booleans using operators on strings\n",
    "x = 'TSLA US Equity'\n",
    "y = 'AAPL US Equity'\n",
    "\n",
    "print ('TSLA' in x)\n",
    "print (x==y)\n",
    "print (x!=y)"
   ]
  },
  {
   "cell_type": "code",
   "execution_count": null,
   "metadata": {},
   "outputs": [],
   "source": [
    "# logical operators\n",
    "x = 3\n",
    "\n",
    "print (x<10 and x>5)\n",
    "print (not(x<10 and x>5))\n",
    "print (x<10 or x>5)"
   ]
  }
 ],
 "metadata": {
  "kernelspec": {
   "display_name": "Python 3",
   "language": "python",
   "name": "python3"
  },
  "language_info": {
   "codemirror_mode": {
    "name": "ipython",
    "version": 3
   },
   "file_extension": ".py",
   "mimetype": "text/x-python",
   "name": "python",
   "nbconvert_exporter": "python",
   "pygments_lexer": "ipython3",
   "version": "3.8.5"
  }
 },
 "nbformat": 4,
 "nbformat_minor": 4
}
