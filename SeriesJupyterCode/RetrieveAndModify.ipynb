{
 "cells": [
  {
   "cell_type": "markdown",
   "metadata": {},
   "source": [
    "# Retrieving Values from Series"
   ]
  },
  {
   "cell_type": "code",
   "metadata": {
    "ExecuteTime": {
     "end_time": "2024-10-29T16:37:15.917769Z",
     "start_time": "2024-10-29T16:37:15.914051Z"
    }
   },
   "source": [
    "# Imports\n",
    "import pandas as pd\n",
    "ret_dict={'AAPL':-0.01,'MSFT':-0.02,'TSLA':0.015,'LULU':-0.005}\n",
    "ser=pd.Series(ret_dict)\n",
    "ser"
   ],
   "outputs": [
    {
     "data": {
      "text/plain": [
       "AAPL   -0.010\n",
       "MSFT   -0.020\n",
       "TSLA    0.015\n",
       "LULU   -0.005\n",
       "dtype: float64"
      ]
     },
     "execution_count": 4,
     "metadata": {},
     "output_type": "execute_result"
    }
   ],
   "execution_count": 4
  },
  {
   "metadata": {},
   "cell_type": "code",
   "outputs": [
    {
     "data": {
      "text/plain": [
       "-0.02"
      ]
     },
     "execution_count": 4,
     "metadata": {},
     "output_type": "execute_result"
    }
   ],
   "execution_count": 4,
   "source": [
    "# retrieval using integers\n",
    "ser[1]"
   ]
  },
  {
   "metadata": {
    "ExecuteTime": {
     "end_time": "2024-10-29T16:37:17.064882Z",
     "start_time": "2024-10-29T16:37:17.060392Z"
    }
   },
   "cell_type": "code",
   "outputs": [
    {
     "data": {
      "text/plain": [
       "-0.02"
      ]
     },
     "execution_count": 5,
     "metadata": {},
     "output_type": "execute_result"
    }
   ],
   "execution_count": 5,
   "source": [
    "# retrieval using key\n",
    "ser['MSFT']"
   ]
  },
  {
   "cell_type": "code",
   "execution_count": 5,
   "metadata": {},
   "outputs": [
    {
     "data": {
      "text/plain": [
       "AAPL   -0.010\n",
       "TSLA    0.015\n",
       "dtype: float64"
      ]
     },
     "execution_count": 5,
     "metadata": {},
     "output_type": "execute_result"
    }
   ],
   "source": [
    "# multi-item retrieval using keys\n",
    "ser[['AAPL','TSLA']]"
   ]
  },
  {
   "cell_type": "code",
   "metadata": {
    "ExecuteTime": {
     "end_time": "2024-10-29T16:37:26.888667Z",
     "start_time": "2024-10-29T16:37:26.882602Z"
    }
   },
   "source": [
    "# multi-item integer retrieval using integers\n",
    "ser[[0,2]]"
   ],
   "outputs": [
    {
     "name": "stderr",
     "output_type": "stream",
     "text": [
      "/var/folders/4f/9230q1tn743gqfht8kjmqts40000gn/T/ipykernel_20547/1709465979.py:2: FutureWarning: Series.__getitem__ treating keys as positions is deprecated. In a future version, integer keys will always be treated as labels (consistent with DataFrame behavior). To access a value by position, use `ser.iloc[pos]`\n",
      "  ser[[0,2]]\n"
     ]
    },
    {
     "data": {
      "text/plain": [
       "AAPL   -0.010\n",
       "TSLA    0.015\n",
       "dtype: float64"
      ]
     },
     "execution_count": 6,
     "metadata": {},
     "output_type": "execute_result"
    }
   ],
   "execution_count": 6
  },
  {
   "cell_type": "code",
   "metadata": {
    "ExecuteTime": {
     "end_time": "2024-10-29T16:37:30.094350Z",
     "start_time": "2024-10-29T16:37:30.088178Z"
    }
   },
   "source": [
    "# multi-item \"slicing\"\n",
    "index=['20201201','20201202','20201203','20201204']\n",
    "tser = pd.Series([-0.01,0.015,-0.025,-0.03],index=index)\n",
    "tser"
   ],
   "outputs": [
    {
     "data": {
      "text/plain": [
       "20201201   -0.010\n",
       "20201202    0.015\n",
       "20201203   -0.025\n",
       "20201204   -0.030\n",
       "dtype: float64"
      ]
     },
     "execution_count": 7,
     "metadata": {},
     "output_type": "execute_result"
    }
   ],
   "execution_count": 7
  },
  {
   "cell_type": "code",
   "metadata": {
    "ExecuteTime": {
     "end_time": "2024-10-29T16:37:32.524044Z",
     "start_time": "2024-10-29T16:37:32.517404Z"
    }
   },
   "source": [
    "# slicing using keys\n",
    "tser['20201202':'20201204']"
   ],
   "outputs": [
    {
     "data": {
      "text/plain": [
       "20201202    0.015\n",
       "20201203   -0.025\n",
       "20201204   -0.030\n",
       "dtype: float64"
      ]
     },
     "execution_count": 8,
     "metadata": {},
     "output_type": "execute_result"
    }
   ],
   "execution_count": 8
  },
  {
   "cell_type": "code",
   "metadata": {
    "ExecuteTime": {
     "end_time": "2024-10-29T16:37:37.006709Z",
     "start_time": "2024-10-29T16:37:37.001558Z"
    }
   },
   "source": [
    "# slicing using integers\n",
    "tser[0:3]"
   ],
   "outputs": [
    {
     "data": {
      "text/plain": [
       "20201201   -0.010\n",
       "20201202    0.015\n",
       "20201203   -0.025\n",
       "dtype: float64"
      ]
     },
     "execution_count": 9,
     "metadata": {},
     "output_type": "execute_result"
    }
   ],
   "execution_count": 9
  },
  {
   "cell_type": "code",
   "metadata": {
    "ExecuteTime": {
     "end_time": "2024-10-29T16:37:39.713800Z",
     "start_time": "2024-10-29T16:37:39.709200Z"
    }
   },
   "source": [
    "# get only positive values\n",
    "filt = ser > 0\n",
    "filt"
   ],
   "outputs": [
    {
     "data": {
      "text/plain": [
       "AAPL    False\n",
       "MSFT    False\n",
       "TSLA     True\n",
       "LULU    False\n",
       "dtype: bool"
      ]
     },
     "execution_count": 10,
     "metadata": {},
     "output_type": "execute_result"
    }
   ],
   "execution_count": 10
  },
  {
   "cell_type": "code",
   "metadata": {
    "ExecuteTime": {
     "end_time": "2024-10-29T16:38:01.745253Z",
     "start_time": "2024-10-29T16:38:01.740628Z"
    }
   },
   "source": [
    "ser[filt]"
   ],
   "outputs": [
    {
     "data": {
      "text/plain": [
       "TSLA    0.015\n",
       "dtype: float64"
      ]
     },
     "execution_count": 11,
     "metadata": {},
     "output_type": "execute_result"
    }
   ],
   "execution_count": 11
  },
  {
   "cell_type": "code",
   "metadata": {
    "ExecuteTime": {
     "end_time": "2024-10-29T16:38:07.735901Z",
     "start_time": "2024-10-29T16:38:07.729646Z"
    }
   },
   "source": [
    "# get only negative values\n",
    "ser[ser<0]"
   ],
   "outputs": [
    {
     "data": {
      "text/plain": [
       "AAPL   -0.010\n",
       "MSFT   -0.020\n",
       "LULU   -0.005\n",
       "dtype: float64"
      ]
     },
     "execution_count": 12,
     "metadata": {},
     "output_type": "execute_result"
    }
   ],
   "execution_count": 12
  },
  {
   "cell_type": "code",
   "metadata": {
    "ExecuteTime": {
     "end_time": "2024-10-29T16:38:11.513336Z",
     "start_time": "2024-10-29T16:38:11.509441Z"
    }
   },
   "source": [
    "# get only returns > 5%\n",
    "ser[ser>0.05]"
   ],
   "outputs": [
    {
     "data": {
      "text/plain": [
       "Series([], dtype: float64)"
      ]
     },
     "execution_count": 13,
     "metadata": {},
     "output_type": "execute_result"
    }
   ],
   "execution_count": 13
  },
  {
   "cell_type": "markdown",
   "metadata": {},
   "source": [
    "# Modifying Values in Series"
   ]
  },
  {
   "cell_type": "code",
   "metadata": {
    "ExecuteTime": {
     "end_time": "2024-10-29T16:38:14.792101Z",
     "start_time": "2024-10-29T16:38:14.787743Z"
    }
   },
   "source": [
    "ser"
   ],
   "outputs": [
    {
     "data": {
      "text/plain": [
       "AAPL   -0.010\n",
       "MSFT   -0.020\n",
       "TSLA    0.015\n",
       "LULU   -0.005\n",
       "dtype: float64"
      ]
     },
     "execution_count": 14,
     "metadata": {},
     "output_type": "execute_result"
    }
   ],
   "execution_count": 14
  },
  {
   "cell_type": "code",
   "metadata": {
    "ExecuteTime": {
     "end_time": "2024-10-29T16:38:16.543753Z",
     "start_time": "2024-10-29T16:38:16.539320Z"
    }
   },
   "source": [
    "ser['AAPL']=-0.02\n",
    "ser"
   ],
   "outputs": [
    {
     "data": {
      "text/plain": [
       "AAPL   -0.020\n",
       "MSFT   -0.020\n",
       "TSLA    0.015\n",
       "LULU   -0.005\n",
       "dtype: float64"
      ]
     },
     "execution_count": 15,
     "metadata": {},
     "output_type": "execute_result"
    }
   ],
   "execution_count": 15
  },
  {
   "cell_type": "code",
   "metadata": {
    "ExecuteTime": {
     "end_time": "2024-10-29T16:38:19.687098Z",
     "start_time": "2024-10-29T16:38:19.680960Z"
    }
   },
   "source": [
    "ser[['AAPL','TSLA']]=[-0.03,0.03]\n",
    "ser"
   ],
   "outputs": [
    {
     "data": {
      "text/plain": [
       "AAPL   -0.030\n",
       "MSFT   -0.020\n",
       "TSLA    0.030\n",
       "LULU   -0.005\n",
       "dtype: float64"
      ]
     },
     "execution_count": 16,
     "metadata": {},
     "output_type": "execute_result"
    }
   ],
   "execution_count": 16
  },
  {
   "cell_type": "code",
   "metadata": {
    "ExecuteTime": {
     "end_time": "2024-10-29T16:38:22.049685Z",
     "start_time": "2024-10-29T16:38:22.044334Z"
    }
   },
   "source": [
    "ser[ser<0]=0\n",
    "ser"
   ],
   "outputs": [
    {
     "data": {
      "text/plain": [
       "AAPL    0.00\n",
       "MSFT    0.00\n",
       "TSLA    0.03\n",
       "LULU    0.00\n",
       "dtype: float64"
      ]
     },
     "execution_count": 17,
     "metadata": {},
     "output_type": "execute_result"
    }
   ],
   "execution_count": 17
  },
  {
   "cell_type": "code",
   "metadata": {
    "ExecuteTime": {
     "end_time": "2024-10-29T16:38:23.534646Z",
     "start_time": "2024-10-29T16:38:23.528242Z"
    }
   },
   "source": [
    "ser['MSFT':'LULU']=0\n",
    "ser"
   ],
   "outputs": [
    {
     "data": {
      "text/plain": [
       "AAPL    0.0\n",
       "MSFT    0.0\n",
       "TSLA    0.0\n",
       "LULU    0.0\n",
       "dtype: float64"
      ]
     },
     "execution_count": 18,
     "metadata": {},
     "output_type": "execute_result"
    }
   ],
   "execution_count": 18
  },
  {
   "cell_type": "code",
   "metadata": {
    "ExecuteTime": {
     "end_time": "2024-10-29T16:38:24.625657Z",
     "start_time": "2024-10-29T16:38:24.622143Z"
    }
   },
   "source": [
    "ser.index=['TSLA','MSFT','AAPL','GOOGL']\n",
    "ser"
   ],
   "outputs": [
    {
     "data": {
      "text/plain": [
       "TSLA     0.0\n",
       "MSFT     0.0\n",
       "AAPL     0.0\n",
       "GOOGL    0.0\n",
       "dtype: float64"
      ]
     },
     "execution_count": 19,
     "metadata": {},
     "output_type": "execute_result"
    }
   ],
   "execution_count": 19
  }
 ],
 "metadata": {
  "kernelspec": {
   "display_name": "Python 3",
   "language": "python",
   "name": "python3"
  },
  "language_info": {
   "codemirror_mode": {
    "name": "ipython",
    "version": 3
   },
   "file_extension": ".py",
   "mimetype": "text/x-python",
   "name": "python",
   "nbconvert_exporter": "python",
   "pygments_lexer": "ipython3",
   "version": "3.8.8"
  }
 },
 "nbformat": 4,
 "nbformat_minor": 4
}
