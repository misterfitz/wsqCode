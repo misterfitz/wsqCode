{
 "cells": [
  {
   "cell_type": "markdown",
   "metadata": {},
   "source": [
    "# Series Methods for Data Analysis\n",
    "1. Arithmetic & boolean operations with scalars operates element-wise\n",
    "2. Numpy universal functions operate element-wise as they do with arrays\n",
    "3. Series map - apply any function element-wise\n",
    "4. Series have many built in methods similar to numpy arrays"
   ]
  },
  {
   "cell_type": "markdown",
   "metadata": {},
   "source": [
    "#### Arithmetic & boolean operations"
   ]
  },
  {
   "cell_type": "code",
   "metadata": {
    "ExecuteTime": {
     "end_time": "2024-10-29T16:42:05.276915Z",
     "start_time": "2024-10-29T16:42:05.273105Z"
    }
   },
   "source": [
    "# Series construction w/ dict\n",
    "import pandas as pd \n",
    "\n",
    "ret_dict={'AAPL':-0.01,'MSFT':-0.02,'TSLA':0.015,'LULU':-0.005}\n",
    "ser=pd.Series(ret_dict)\n",
    "print (ser)"
   ],
   "outputs": [
    {
     "name": "stdout",
     "output_type": "stream",
     "text": [
      "AAPL   -0.010\n",
      "MSFT   -0.020\n",
      "TSLA    0.015\n",
      "LULU   -0.005\n",
      "dtype: float64\n"
     ]
    }
   ],
   "execution_count": 2
  },
  {
   "cell_type": "code",
   "metadata": {
    "ExecuteTime": {
     "end_time": "2024-10-29T16:42:06.837090Z",
     "start_time": "2024-10-29T16:42:06.829217Z"
    }
   },
   "source": [
    "# scalar arithmetic is much easier with a series\n",
    "mkt_ret=0.005\n",
    "ser - mkt_ret"
   ],
   "outputs": [
    {
     "data": {
      "text/plain": [
       "AAPL   -0.015\n",
       "MSFT   -0.025\n",
       "TSLA    0.010\n",
       "LULU   -0.010\n",
       "dtype: float64"
      ]
     },
     "execution_count": 3,
     "metadata": {},
     "output_type": "execute_result"
    }
   ],
   "execution_count": 3
  },
  {
   "cell_type": "code",
   "metadata": {
    "ExecuteTime": {
     "end_time": "2024-10-29T16:42:08.126162Z",
     "start_time": "2024-10-29T16:42:08.121815Z"
    }
   },
   "source": [
    "# scalar arithmetic is very hard with a dict...need to use a loop\n",
    "mkt_ret=0.005\n",
    "ret_dict={'AAPL':-0.01,'MSFT':-0.02,'TSLA':0.015}\n",
    "\n",
    "dict_excess={}\n",
    "for key in ret_dict:\n",
    "    dict_excess[key]=ret_dict[key]-mkt_ret\n",
    "dict_excess"
   ],
   "outputs": [
    {
     "data": {
      "text/plain": [
       "{'AAPL': -0.015, 'MSFT': -0.025, 'TSLA': 0.009999999999999998}"
      ]
     },
     "execution_count": 4,
     "metadata": {},
     "output_type": "execute_result"
    }
   ],
   "execution_count": 4
  },
  {
   "cell_type": "code",
   "metadata": {
    "ExecuteTime": {
     "end_time": "2024-10-29T16:42:11.491821Z",
     "start_time": "2024-10-29T16:42:11.487641Z"
    }
   },
   "source": [
    "# boolean logic operates element-wise\n",
    "ser > 0 "
   ],
   "outputs": [
    {
     "data": {
      "text/plain": [
       "AAPL    False\n",
       "MSFT    False\n",
       "TSLA     True\n",
       "LULU    False\n",
       "dtype: bool"
      ]
     },
     "execution_count": 5,
     "metadata": {},
     "output_type": "execute_result"
    }
   ],
   "execution_count": 5
  },
  {
   "cell_type": "markdown",
   "metadata": {},
   "source": [
    "#### Numpy universal functions operate element-wise as they do with arrays"
   ]
  },
  {
   "cell_type": "code",
   "metadata": {
    "ExecuteTime": {
     "end_time": "2024-10-29T16:42:13.708521Z",
     "start_time": "2024-10-29T16:42:13.703017Z"
    }
   },
   "source": [
    "# get sign of returns\n",
    "import numpy as np \n",
    "np.sign(ser)"
   ],
   "outputs": [
    {
     "data": {
      "text/plain": [
       "AAPL   -1.0\n",
       "MSFT   -1.0\n",
       "TSLA    1.0\n",
       "LULU   -1.0\n",
       "dtype: float64"
      ]
     },
     "execution_count": 6,
     "metadata": {},
     "output_type": "execute_result"
    }
   ],
   "execution_count": 6
  },
  {
   "cell_type": "markdown",
   "metadata": {},
   "source": [
    "#### Series map - apply any function element-wise"
   ]
  },
  {
   "cell_type": "code",
   "metadata": {
    "ExecuteTime": {
     "end_time": "2024-10-29T16:44:08.797840Z",
     "start_time": "2024-10-29T16:44:08.789051Z"
    }
   },
   "source": [
    "# map\n",
    "def thresh(x):\n",
    "    if x > mkt_ret:\n",
    "        return x\n",
    "    else:\n",
    "        return mkt_ret\n",
    "\n",
    "ser.map(thresh)"
   ],
   "outputs": [
    {
     "data": {
      "text/plain": [
       "AAPL    0.005\n",
       "MSFT    0.005\n",
       "TSLA    0.015\n",
       "LULU    0.005\n",
       "dtype: float64"
      ]
     },
     "execution_count": 7,
     "metadata": {},
     "output_type": "execute_result"
    }
   ],
   "execution_count": 7
  },
  {
   "cell_type": "code",
   "metadata": {
    "ExecuteTime": {
     "end_time": "2024-10-29T16:44:09.613564Z",
     "start_time": "2024-10-29T16:44:09.608624Z"
    }
   },
   "source": [
    "ser.map(lambda x: x if x > mkt_ret else mkt_ret)"
   ],
   "outputs": [
    {
     "data": {
      "text/plain": [
       "AAPL    0.005\n",
       "MSFT    0.005\n",
       "TSLA    0.015\n",
       "LULU    0.005\n",
       "dtype: float64"
      ]
     },
     "execution_count": 8,
     "metadata": {},
     "output_type": "execute_result"
    }
   ],
   "execution_count": 8
  },
  {
   "cell_type": "markdown",
   "metadata": {},
   "source": [
    "#### Series have many built in methods similar to numpy arrays"
   ]
  },
  {
   "cell_type": "code",
   "metadata": {
    "ExecuteTime": {
     "end_time": "2024-10-29T16:44:11.541999Z",
     "start_time": "2024-10-29T16:44:11.533452Z"
    }
   },
   "source": [
    "# average Return\n",
    "print (ser.mean())\n",
    "\n",
    "# min return\n",
    "print (ser.min())\n",
    "\n",
    "# standard deviation\n",
    "print (ser.std())"
   ],
   "outputs": [
    {
     "name": "stdout",
     "output_type": "stream",
     "text": [
      "-0.005\n",
      "-0.02\n",
      "0.014719601443879744\n"
     ]
    }
   ],
   "execution_count": 9
  },
  {
   "cell_type": "code",
   "metadata": {
    "ExecuteTime": {
     "end_time": "2024-10-29T16:44:12.539136Z",
     "start_time": "2024-10-29T16:44:12.534757Z"
    }
   },
   "source": [
    "## Do NOT do this for the average\n",
    "## Whenever you find yourself writing a loop, check if there's a better way\n",
    "\n",
    "avg=0\n",
    "for x in ser.values:\n",
    "    avg+=x\n",
    "avg=avg/len(ser)\n",
    "avg"
   ],
   "outputs": [
    {
     "data": {
      "text/plain": [
       "-0.005"
      ]
     },
     "execution_count": 10,
     "metadata": {},
     "output_type": "execute_result"
    }
   ],
   "execution_count": 10
  },
  {
   "cell_type": "code",
   "metadata": {
    "ExecuteTime": {
     "end_time": "2024-10-29T16:44:13.476548Z",
     "start_time": "2024-10-29T16:44:13.471075Z"
    }
   },
   "source": [
    "# return the ascending order rank of items\n",
    "ser.rank()"
   ],
   "outputs": [
    {
     "data": {
      "text/plain": [
       "AAPL    2.0\n",
       "MSFT    1.0\n",
       "TSLA    4.0\n",
       "LULU    3.0\n",
       "dtype: float64"
      ]
     },
     "execution_count": 11,
     "metadata": {},
     "output_type": "execute_result"
    }
   ],
   "execution_count": 11
  },
  {
   "cell_type": "code",
   "metadata": {
    "ExecuteTime": {
     "end_time": "2024-10-29T16:44:14.416183Z",
     "start_time": "2024-10-29T16:44:14.409774Z"
    }
   },
   "source": [
    "# summary stats\n",
    "ser.describe()"
   ],
   "outputs": [
    {
     "data": {
      "text/plain": [
       "count    4.00000\n",
       "mean    -0.00500\n",
       "std      0.01472\n",
       "min     -0.02000\n",
       "25%     -0.01250\n",
       "50%     -0.00750\n",
       "75%      0.00000\n",
       "max      0.01500\n",
       "dtype: float64"
      ]
     },
     "execution_count": 12,
     "metadata": {},
     "output_type": "execute_result"
    }
   ],
   "execution_count": 12
  },
  {
   "cell_type": "code",
   "metadata": {
    "ExecuteTime": {
     "end_time": "2024-10-29T16:44:15.416320Z",
     "start_time": "2024-10-29T16:44:15.414053Z"
    }
   },
   "source": [],
   "outputs": [],
   "execution_count": null
  },
  {
   "metadata": {},
   "cell_type": "code",
   "outputs": [],
   "execution_count": null,
   "source": ""
  }
 ],
 "metadata": {
  "kernelspec": {
   "display_name": "Python 3",
   "language": "python",
   "name": "python3"
  },
  "language_info": {
   "codemirror_mode": {
    "name": "ipython",
    "version": 3
   },
   "file_extension": ".py",
   "mimetype": "text/x-python",
   "name": "python",
   "nbconvert_exporter": "python",
   "pygments_lexer": "ipython3",
   "version": "3.8.8"
  }
 },
 "nbformat": 4,
 "nbformat_minor": 4
}
