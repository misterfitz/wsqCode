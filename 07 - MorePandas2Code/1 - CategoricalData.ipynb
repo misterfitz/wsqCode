{
 "cells": [
  {
   "cell_type": "markdown",
   "metadata": {},
   "source": [
    "# Categorical Data: Unique Values, Membership, Dummies"
   ]
  },
  {
   "cell_type": "code",
   "metadata": {
    "ExecuteTime": {
     "end_time": "2024-11-04T23:31:15.553160Z",
     "start_time": "2024-11-04T23:31:15.060762Z"
    }
   },
   "source": [
    "import pandas as pd \n",
    "ser = pd.Series({'AAPL':'Tech','XOM':'Energy','MSFT':'Tech','LULU':'Consumer','TSLA':'Consumer','GS':'Financials',\n",
    "                'BAC':'Financials'})\n",
    "ser"
   ],
   "outputs": [
    {
     "data": {
      "text/plain": [
       "AAPL          Tech\n",
       "XOM         Energy\n",
       "MSFT          Tech\n",
       "LULU      Consumer\n",
       "TSLA      Consumer\n",
       "GS      Financials\n",
       "BAC     Financials\n",
       "dtype: object"
      ]
     },
     "execution_count": 1,
     "metadata": {},
     "output_type": "execute_result"
    }
   ],
   "execution_count": 1
  },
  {
   "cell_type": "code",
   "metadata": {
    "ExecuteTime": {
     "end_time": "2024-11-04T23:31:15.592192Z",
     "start_time": "2024-11-04T23:31:15.587667Z"
    }
   },
   "source": [
    "# Get Unique values\n",
    "ser.unique()"
   ],
   "outputs": [
    {
     "data": {
      "text/plain": [
       "array(['Tech', 'Energy', 'Consumer', 'Financials'], dtype=object)"
      ]
     },
     "execution_count": 2,
     "metadata": {},
     "output_type": "execute_result"
    }
   ],
   "execution_count": 2
  },
  {
   "cell_type": "code",
   "metadata": {
    "ExecuteTime": {
     "end_time": "2024-11-04T23:31:15.668598Z",
     "start_time": "2024-11-04T23:31:15.662231Z"
    }
   },
   "source": [
    "# Get Unique Values & Counts\n",
    "ser.value_counts()"
   ],
   "outputs": [
    {
     "data": {
      "text/plain": [
       "Tech          2\n",
       "Consumer      2\n",
       "Financials    2\n",
       "Energy        1\n",
       "Name: count, dtype: int64"
      ]
     },
     "execution_count": 3,
     "metadata": {},
     "output_type": "execute_result"
    }
   ],
   "execution_count": 3
  },
  {
   "cell_type": "code",
   "metadata": {
    "ExecuteTime": {
     "end_time": "2024-11-04T23:31:15.734270Z",
     "start_time": "2024-11-04T23:31:15.731227Z"
    }
   },
   "source": [
    "mask=ser.isin(['Financials','Tech'])\n",
    "mask"
   ],
   "outputs": [
    {
     "data": {
      "text/plain": [
       "AAPL     True\n",
       "XOM     False\n",
       "MSFT     True\n",
       "LULU    False\n",
       "TSLA    False\n",
       "GS       True\n",
       "BAC      True\n",
       "dtype: bool"
      ]
     },
     "execution_count": 4,
     "metadata": {},
     "output_type": "execute_result"
    }
   ],
   "execution_count": 4
  },
  {
   "cell_type": "code",
   "metadata": {
    "ExecuteTime": {
     "end_time": "2024-11-04T23:31:15.819859Z",
     "start_time": "2024-11-04T23:31:15.816368Z"
    }
   },
   "source": [
    "ser[mask]"
   ],
   "outputs": [
    {
     "data": {
      "text/plain": [
       "AAPL          Tech\n",
       "MSFT          Tech\n",
       "GS      Financials\n",
       "BAC     Financials\n",
       "dtype: object"
      ]
     },
     "execution_count": 5,
     "metadata": {},
     "output_type": "execute_result"
    }
   ],
   "execution_count": 5
  },
  {
   "cell_type": "code",
   "metadata": {
    "ExecuteTime": {
     "end_time": "2024-11-04T23:31:15.895003Z",
     "start_time": "2024-11-04T23:31:15.888458Z"
    }
   },
   "source": [
    "pd.get_dummies(ser)"
   ],
   "outputs": [
    {
     "data": {
      "text/plain": [
       "      Consumer  Energy  Financials   Tech\n",
       "AAPL     False   False       False   True\n",
       "XOM      False    True       False  False\n",
       "MSFT     False   False       False   True\n",
       "LULU      True   False       False  False\n",
       "TSLA      True   False       False  False\n",
       "GS       False   False        True  False\n",
       "BAC      False   False        True  False"
      ],
      "text/html": [
       "<div>\n",
       "<style scoped>\n",
       "    .dataframe tbody tr th:only-of-type {\n",
       "        vertical-align: middle;\n",
       "    }\n",
       "\n",
       "    .dataframe tbody tr th {\n",
       "        vertical-align: top;\n",
       "    }\n",
       "\n",
       "    .dataframe thead th {\n",
       "        text-align: right;\n",
       "    }\n",
       "</style>\n",
       "<table border=\"1\" class=\"dataframe\">\n",
       "  <thead>\n",
       "    <tr style=\"text-align: right;\">\n",
       "      <th></th>\n",
       "      <th>Consumer</th>\n",
       "      <th>Energy</th>\n",
       "      <th>Financials</th>\n",
       "      <th>Tech</th>\n",
       "    </tr>\n",
       "  </thead>\n",
       "  <tbody>\n",
       "    <tr>\n",
       "      <th>AAPL</th>\n",
       "      <td>False</td>\n",
       "      <td>False</td>\n",
       "      <td>False</td>\n",
       "      <td>True</td>\n",
       "    </tr>\n",
       "    <tr>\n",
       "      <th>XOM</th>\n",
       "      <td>False</td>\n",
       "      <td>True</td>\n",
       "      <td>False</td>\n",
       "      <td>False</td>\n",
       "    </tr>\n",
       "    <tr>\n",
       "      <th>MSFT</th>\n",
       "      <td>False</td>\n",
       "      <td>False</td>\n",
       "      <td>False</td>\n",
       "      <td>True</td>\n",
       "    </tr>\n",
       "    <tr>\n",
       "      <th>LULU</th>\n",
       "      <td>True</td>\n",
       "      <td>False</td>\n",
       "      <td>False</td>\n",
       "      <td>False</td>\n",
       "    </tr>\n",
       "    <tr>\n",
       "      <th>TSLA</th>\n",
       "      <td>True</td>\n",
       "      <td>False</td>\n",
       "      <td>False</td>\n",
       "      <td>False</td>\n",
       "    </tr>\n",
       "    <tr>\n",
       "      <th>GS</th>\n",
       "      <td>False</td>\n",
       "      <td>False</td>\n",
       "      <td>True</td>\n",
       "      <td>False</td>\n",
       "    </tr>\n",
       "    <tr>\n",
       "      <th>BAC</th>\n",
       "      <td>False</td>\n",
       "      <td>False</td>\n",
       "      <td>True</td>\n",
       "      <td>False</td>\n",
       "    </tr>\n",
       "  </tbody>\n",
       "</table>\n",
       "</div>"
      ]
     },
     "execution_count": 6,
     "metadata": {},
     "output_type": "execute_result"
    }
   ],
   "execution_count": 6
  },
  {
   "cell_type": "code",
   "execution_count": null,
   "metadata": {},
   "outputs": [],
   "source": []
  }
 ],
 "metadata": {
  "kernelspec": {
   "display_name": "Python 3",
   "language": "python",
   "name": "python3"
  },
  "language_info": {
   "codemirror_mode": {
    "name": "ipython",
    "version": 3
   },
   "file_extension": ".py",
   "mimetype": "text/x-python",
   "name": "python",
   "nbconvert_exporter": "python",
   "pygments_lexer": "ipython3",
   "version": "3.8.8"
  }
 },
 "nbformat": 4,
 "nbformat_minor": 4
}
