{
 "cells": [
  {
   "cell_type": "code",
   "metadata": {
    "ExecuteTime": {
     "end_time": "2024-11-04T23:45:33.623865Z",
     "start_time": "2024-11-04T23:45:33.239043Z"
    }
   },
   "source": [
    "import pandas as pd \n",
    "import numpy as np \n",
    "\n",
    "dt = '20110107'\n",
    "dt = pd.to_datetime(dt)"
   ],
   "outputs": [],
   "execution_count": 1
  },
  {
   "cell_type": "code",
   "metadata": {
    "ExecuteTime": {
     "end_time": "2024-11-04T23:45:33.630165Z",
     "start_time": "2024-11-04T23:45:33.627118Z"
    }
   },
   "source": [
    "dt"
   ],
   "outputs": [
    {
     "data": {
      "text/plain": [
       "Timestamp('2011-01-07 00:00:00')"
      ]
     },
     "execution_count": 2,
     "metadata": {},
     "output_type": "execute_result"
    }
   ],
   "execution_count": 2
  },
  {
   "cell_type": "code",
   "metadata": {
    "ExecuteTime": {
     "end_time": "2024-11-04T23:45:36.818429Z",
     "start_time": "2024-11-04T23:45:36.812846Z"
    }
   },
   "source": [
    "pd.to_datetime('2011-01-07')"
   ],
   "outputs": [
    {
     "data": {
      "text/plain": [
       "Timestamp('2011-01-07 00:00:00')"
      ]
     },
     "execution_count": 3,
     "metadata": {},
     "output_type": "execute_result"
    }
   ],
   "execution_count": 3
  },
  {
   "cell_type": "code",
   "metadata": {
    "scrolled": true,
    "ExecuteTime": {
     "end_time": "2024-11-04T23:45:40.182016Z",
     "start_time": "2024-11-04T23:45:40.179403Z"
    }
   },
   "source": [
    "# get time fields\n",
    "print (dt.year)\n",
    "\n",
    "print (dt.month)\n",
    "\n",
    "print (dt.day)\n",
    "\n",
    "# maybe you care about price behavior on a particular hour, minute or second of the day?\n",
    "print (dt.hour)\n",
    "\n",
    "print (dt.minute)\n",
    "\n",
    "print (dt.second)"
   ],
   "outputs": [
    {
     "name": "stdout",
     "output_type": "stream",
     "text": [
      "2011\n",
      "1\n",
      "7\n",
      "0\n",
      "0\n",
      "0\n"
     ]
    }
   ],
   "execution_count": 4
  },
  {
   "cell_type": "code",
   "metadata": {
    "ExecuteTime": {
     "end_time": "2024-11-04T23:45:52.069546Z",
     "start_time": "2024-11-04T23:45:52.066375Z"
    }
   },
   "source": [
    "# useful for checking if weekend\n",
    "dt.weekday()"
   ],
   "outputs": [
    {
     "data": {
      "text/plain": [
       "4"
      ]
     },
     "execution_count": 5,
     "metadata": {},
     "output_type": "execute_result"
    }
   ],
   "execution_count": 5
  },
  {
   "cell_type": "code",
   "metadata": {
    "ExecuteTime": {
     "end_time": "2024-11-04T23:45:54.004336Z",
     "start_time": "2024-11-04T23:45:53.999561Z"
    }
   },
   "source": [
    "# handles hours/minute/seconds as well\n",
    "pd.to_datetime('20110107 12:10:30')"
   ],
   "outputs": [
    {
     "data": {
      "text/plain": [
       "Timestamp('2011-01-07 12:10:30')"
      ]
     },
     "execution_count": 6,
     "metadata": {},
     "output_type": "execute_result"
    }
   ],
   "execution_count": 6
  },
  {
   "cell_type": "code",
   "metadata": {
    "ExecuteTime": {
     "end_time": "2024-11-04T23:45:55.357711Z",
     "start_time": "2024-11-04T23:45:55.352701Z"
    }
   },
   "source": [
    "# convert back to a string\n",
    "dt.strftime('%Y%m%d')"
   ],
   "outputs": [
    {
     "data": {
      "text/plain": [
       "'20110107'"
      ]
     },
     "execution_count": 7,
     "metadata": {},
     "output_type": "execute_result"
    }
   ],
   "execution_count": 7
  },
  {
   "cell_type": "markdown",
   "metadata": {},
   "source": [
    "Check documentation for other string formatting codes: https://docs.python.org/3/library/datetime.html#strftime-and-strptime-behavior"
   ]
  },
  {
   "cell_type": "code",
   "metadata": {
    "ExecuteTime": {
     "end_time": "2024-11-04T23:45:59.625362Z",
     "start_time": "2024-11-04T23:45:59.619761Z"
    }
   },
   "source": [
    "# can shift dates\n",
    "dt + pd.tseries.offsets.Day()"
   ],
   "outputs": [
    {
     "data": {
      "text/plain": [
       "Timestamp('2011-01-08 00:00:00')"
      ]
     },
     "execution_count": 8,
     "metadata": {},
     "output_type": "execute_result"
    }
   ],
   "execution_count": 8
  },
  {
   "cell_type": "code",
   "metadata": {
    "ExecuteTime": {
     "end_time": "2024-11-04T23:46:03.251233Z",
     "start_time": "2024-11-04T23:46:03.246786Z"
    }
   },
   "source": [
    "# can shift by multiple time units\n",
    "dt + pd.tseries.offsets.Day(2)"
   ],
   "outputs": [
    {
     "data": {
      "text/plain": [
       "Timestamp('2011-01-09 00:00:00')"
      ]
     },
     "execution_count": 9,
     "metadata": {},
     "output_type": "execute_result"
    }
   ],
   "execution_count": 9
  },
  {
   "cell_type": "code",
   "metadata": {
    "ExecuteTime": {
     "end_time": "2024-11-04T23:46:05.681028Z",
     "start_time": "2024-11-04T23:46:05.673320Z"
    }
   },
   "source": [
    "# shift only by business day (skip weekends)\n",
    "dt + pd.tseries.offsets.BDay()"
   ],
   "outputs": [
    {
     "data": {
      "text/plain": [
       "Timestamp('2011-01-10 00:00:00')"
      ]
     },
     "execution_count": 10,
     "metadata": {},
     "output_type": "execute_result"
    }
   ],
   "execution_count": 10
  },
  {
   "cell_type": "code",
   "metadata": {
    "ExecuteTime": {
     "end_time": "2024-11-04T23:46:12.305968Z",
     "start_time": "2024-11-04T23:46:12.303138Z"
    }
   },
   "source": [
    "# roll forward / backward\n",
    "print (pd.tseries.offsets.MonthEnd().rollforward(dt))\n",
    "print (pd.tseries.offsets.MonthEnd().rollback(dt))"
   ],
   "outputs": [
    {
     "name": "stdout",
     "output_type": "stream",
     "text": [
      "2011-01-31 00:00:00\n",
      "2010-12-31 00:00:00\n"
     ]
    }
   ],
   "execution_count": 11
  },
  {
   "cell_type": "markdown",
   "metadata": {},
   "source": [
    "Check documentation for other offsets: https://pandas.pydata.org/docs/reference/offset_frequency.html"
   ]
  },
  {
   "cell_type": "code",
   "metadata": {
    "ExecuteTime": {
     "end_time": "2024-11-04T23:46:17.403421Z",
     "start_time": "2024-11-04T23:46:17.398440Z"
    }
   },
   "source": [
    "# subtract two times \n",
    "# maybe for checking days till next earnings?\n",
    "\n",
    "dt1 = pd.to_datetime('20110101')\n",
    "dt2 = pd.to_datetime('20120630')\n",
    "\n",
    "diff = dt2 - dt1\n",
    "diff "
   ],
   "outputs": [
    {
     "data": {
      "text/plain": [
       "Timedelta('546 days 00:00:00')"
      ]
     },
     "execution_count": 12,
     "metadata": {},
     "output_type": "execute_result"
    }
   ],
   "execution_count": 12
  },
  {
   "cell_type": "code",
   "metadata": {
    "ExecuteTime": {
     "end_time": "2024-11-04T23:46:19.411400Z",
     "start_time": "2024-11-04T23:46:19.406969Z"
    }
   },
   "source": [
    "diff.days"
   ],
   "outputs": [
    {
     "data": {
      "text/plain": [
       "546"
      ]
     },
     "execution_count": 13,
     "metadata": {},
     "output_type": "execute_result"
    }
   ],
   "execution_count": 13
  },
  {
   "cell_type": "code",
   "metadata": {
    "ExecuteTime": {
     "end_time": "2024-11-04T23:46:20.806137Z",
     "start_time": "2024-11-04T23:46:20.799284Z"
    }
   },
   "source": [
    "# faster way to create multiple timestamp objects. useful for converting excel dates from strings to timestamps\n",
    "date = ['20110102','20110103','20110105']\n",
    "dt_index = pd.DatetimeIndex(date)\n",
    "dt_index"
   ],
   "outputs": [
    {
     "data": {
      "text/plain": [
       "DatetimeIndex(['2011-01-02', '2011-01-03', '2011-01-05'], dtype='datetime64[ns]', freq=None)"
      ]
     },
     "execution_count": 14,
     "metadata": {},
     "output_type": "execute_result"
    }
   ],
   "execution_count": 14
  },
  {
   "cell_type": "code",
   "metadata": {
    "ExecuteTime": {
     "end_time": "2024-11-04T23:46:21.363555Z",
     "start_time": "2024-11-04T23:46:21.361127Z"
    }
   },
   "source": [
    "dt_index[0]"
   ],
   "outputs": [
    {
     "data": {
      "text/plain": [
       "Timestamp('2011-01-02 00:00:00')"
      ]
     },
     "execution_count": 15,
     "metadata": {},
     "output_type": "execute_result"
    }
   ],
   "execution_count": 15
  },
  {
   "cell_type": "code",
   "metadata": {
    "ExecuteTime": {
     "end_time": "2024-11-04T23:46:21.745748Z",
     "start_time": "2024-11-04T23:46:21.740737Z"
    }
   },
   "source": [
    "## get time range \n",
    "days = pd.date_range(dt1,dt2,freq='D')\n",
    "days"
   ],
   "outputs": [
    {
     "data": {
      "text/plain": [
       "DatetimeIndex(['2011-01-01', '2011-01-02', '2011-01-03', '2011-01-04',\n",
       "               '2011-01-05', '2011-01-06', '2011-01-07', '2011-01-08',\n",
       "               '2011-01-09', '2011-01-10',\n",
       "               ...\n",
       "               '2012-06-21', '2012-06-22', '2012-06-23', '2012-06-24',\n",
       "               '2012-06-25', '2012-06-26', '2012-06-27', '2012-06-28',\n",
       "               '2012-06-29', '2012-06-30'],\n",
       "              dtype='datetime64[ns]', length=547, freq='D')"
      ]
     },
     "execution_count": 16,
     "metadata": {},
     "output_type": "execute_result"
    }
   ],
   "execution_count": 16
  },
  {
   "cell_type": "code",
   "metadata": {
    "ExecuteTime": {
     "end_time": "2024-11-04T23:46:22.070087Z",
     "start_time": "2024-11-04T23:46:22.064518Z"
    }
   },
   "source": [
    "# can use strings as inputs and also use monthly frequency\n",
    "months = pd.date_range('20110101','20121231',freq='M')\n",
    "months"
   ],
   "outputs": [
    {
     "name": "stderr",
     "output_type": "stream",
     "text": [
      "/var/folders/4f/9230q1tn743gqfht8kjmqts40000gn/T/ipykernel_76207/3482503232.py:2: FutureWarning: 'M' is deprecated and will be removed in a future version, please use 'ME' instead.\n",
      "  months = pd.date_range('20110101','20121231',freq='M')\n"
     ]
    },
    {
     "data": {
      "text/plain": [
       "DatetimeIndex(['2011-01-31', '2011-02-28', '2011-03-31', '2011-04-30',\n",
       "               '2011-05-31', '2011-06-30', '2011-07-31', '2011-08-31',\n",
       "               '2011-09-30', '2011-10-31', '2011-11-30', '2011-12-31',\n",
       "               '2012-01-31', '2012-02-29', '2012-03-31', '2012-04-30',\n",
       "               '2012-05-31', '2012-06-30', '2012-07-31', '2012-08-31',\n",
       "               '2012-09-30', '2012-10-31', '2012-11-30', '2012-12-31'],\n",
       "              dtype='datetime64[ns]', freq='ME')"
      ]
     },
     "execution_count": 17,
     "metadata": {},
     "output_type": "execute_result"
    }
   ],
   "execution_count": 17
  },
  {
   "cell_type": "markdown",
   "metadata": {},
   "source": [
    "See documentation for other frequencies: https://pandas.pydata.org/docs/user_guide/timeseries.html#timeseries-offset-aliases"
   ]
  },
  {
   "cell_type": "code",
   "metadata": {
    "scrolled": true,
    "ExecuteTime": {
     "end_time": "2024-11-06T03:26:17.064175Z",
     "start_time": "2024-11-06T03:26:16.895010Z"
    }
   },
   "source": [
    "## DataFrames with pandas datetime index \n",
    "univ = ['SPY','TLT','VXX','QQQ']\n",
    "days = pd.date_range('20190101','20210630',freq='min')\n",
    "df = pd.DataFrame(np.random.randn(len(days),len(univ)),index=days,columns=univ)\n",
    "df"
   ],
   "outputs": [
    {
     "data": {
      "text/plain": [
       "                          SPY       TLT       VXX       QQQ\n",
       "2019-01-01 00:00:00 -0.505279 -0.000292  0.149514  0.054235\n",
       "2019-01-01 00:01:00  0.152258  0.314673  1.508726  0.634877\n",
       "2019-01-01 00:02:00  0.309812 -0.435587 -1.014003 -0.246448\n",
       "2019-01-01 00:03:00  0.644837 -0.556488 -1.273130 -0.054354\n",
       "2019-01-01 00:04:00  1.074807  1.490826 -1.053984  0.562539\n",
       "...                       ...       ...       ...       ...\n",
       "2021-06-29 23:56:00  1.639331 -1.083719  2.291862  0.265446\n",
       "2021-06-29 23:57:00  0.866292 -1.851090  1.836498  1.084791\n",
       "2021-06-29 23:58:00  0.415843 -0.183006 -0.871886 -0.837434\n",
       "2021-06-29 23:59:00  0.611600 -2.540064  0.368530 -2.036690\n",
       "2021-06-30 00:00:00  0.427036  0.329761 -0.831632  0.635655\n",
       "\n",
       "[1311841 rows x 4 columns]"
      ],
      "text/html": [
       "<div>\n",
       "<style scoped>\n",
       "    .dataframe tbody tr th:only-of-type {\n",
       "        vertical-align: middle;\n",
       "    }\n",
       "\n",
       "    .dataframe tbody tr th {\n",
       "        vertical-align: top;\n",
       "    }\n",
       "\n",
       "    .dataframe thead th {\n",
       "        text-align: right;\n",
       "    }\n",
       "</style>\n",
       "<table border=\"1\" class=\"dataframe\">\n",
       "  <thead>\n",
       "    <tr style=\"text-align: right;\">\n",
       "      <th></th>\n",
       "      <th>SPY</th>\n",
       "      <th>TLT</th>\n",
       "      <th>VXX</th>\n",
       "      <th>QQQ</th>\n",
       "    </tr>\n",
       "  </thead>\n",
       "  <tbody>\n",
       "    <tr>\n",
       "      <th>2019-01-01 00:00:00</th>\n",
       "      <td>-0.505279</td>\n",
       "      <td>-0.000292</td>\n",
       "      <td>0.149514</td>\n",
       "      <td>0.054235</td>\n",
       "    </tr>\n",
       "    <tr>\n",
       "      <th>2019-01-01 00:01:00</th>\n",
       "      <td>0.152258</td>\n",
       "      <td>0.314673</td>\n",
       "      <td>1.508726</td>\n",
       "      <td>0.634877</td>\n",
       "    </tr>\n",
       "    <tr>\n",
       "      <th>2019-01-01 00:02:00</th>\n",
       "      <td>0.309812</td>\n",
       "      <td>-0.435587</td>\n",
       "      <td>-1.014003</td>\n",
       "      <td>-0.246448</td>\n",
       "    </tr>\n",
       "    <tr>\n",
       "      <th>2019-01-01 00:03:00</th>\n",
       "      <td>0.644837</td>\n",
       "      <td>-0.556488</td>\n",
       "      <td>-1.273130</td>\n",
       "      <td>-0.054354</td>\n",
       "    </tr>\n",
       "    <tr>\n",
       "      <th>2019-01-01 00:04:00</th>\n",
       "      <td>1.074807</td>\n",
       "      <td>1.490826</td>\n",
       "      <td>-1.053984</td>\n",
       "      <td>0.562539</td>\n",
       "    </tr>\n",
       "    <tr>\n",
       "      <th>...</th>\n",
       "      <td>...</td>\n",
       "      <td>...</td>\n",
       "      <td>...</td>\n",
       "      <td>...</td>\n",
       "    </tr>\n",
       "    <tr>\n",
       "      <th>2021-06-29 23:56:00</th>\n",
       "      <td>1.639331</td>\n",
       "      <td>-1.083719</td>\n",
       "      <td>2.291862</td>\n",
       "      <td>0.265446</td>\n",
       "    </tr>\n",
       "    <tr>\n",
       "      <th>2021-06-29 23:57:00</th>\n",
       "      <td>0.866292</td>\n",
       "      <td>-1.851090</td>\n",
       "      <td>1.836498</td>\n",
       "      <td>1.084791</td>\n",
       "    </tr>\n",
       "    <tr>\n",
       "      <th>2021-06-29 23:58:00</th>\n",
       "      <td>0.415843</td>\n",
       "      <td>-0.183006</td>\n",
       "      <td>-0.871886</td>\n",
       "      <td>-0.837434</td>\n",
       "    </tr>\n",
       "    <tr>\n",
       "      <th>2021-06-29 23:59:00</th>\n",
       "      <td>0.611600</td>\n",
       "      <td>-2.540064</td>\n",
       "      <td>0.368530</td>\n",
       "      <td>-2.036690</td>\n",
       "    </tr>\n",
       "    <tr>\n",
       "      <th>2021-06-30 00:00:00</th>\n",
       "      <td>0.427036</td>\n",
       "      <td>0.329761</td>\n",
       "      <td>-0.831632</td>\n",
       "      <td>0.635655</td>\n",
       "    </tr>\n",
       "  </tbody>\n",
       "</table>\n",
       "<p>1311841 rows × 4 columns</p>\n",
       "</div>"
      ]
     },
     "execution_count": 19,
     "metadata": {},
     "output_type": "execute_result"
    }
   ],
   "execution_count": 19
  },
  {
   "cell_type": "code",
   "metadata": {
    "ExecuteTime": {
     "end_time": "2024-11-06T03:26:17.341079Z",
     "start_time": "2024-11-06T03:26:17.294192Z"
    }
   },
   "source": [
    "df.loc['2019-01-01 00:00:00']"
   ],
   "outputs": [
    {
     "data": {
      "text/plain": [
       "SPY   -0.505279\n",
       "TLT   -0.000292\n",
       "VXX    0.149514\n",
       "QQQ    0.054235\n",
       "Name: 2019-01-01 00:00:00, dtype: float64"
      ]
     },
     "execution_count": 20,
     "metadata": {},
     "output_type": "execute_result"
    }
   ],
   "execution_count": 20
  },
  {
   "cell_type": "code",
   "metadata": {
    "ExecuteTime": {
     "end_time": "2024-11-06T03:26:17.521420Z",
     "start_time": "2024-11-06T03:26:17.511153Z"
    }
   },
   "source": [
    "df.loc['2019-01-01']"
   ],
   "outputs": [
    {
     "data": {
      "text/plain": [
       "                          SPY       TLT       VXX       QQQ\n",
       "2019-01-01 00:00:00 -0.505279 -0.000292  0.149514  0.054235\n",
       "2019-01-01 00:01:00  0.152258  0.314673  1.508726  0.634877\n",
       "2019-01-01 00:02:00  0.309812 -0.435587 -1.014003 -0.246448\n",
       "2019-01-01 00:03:00  0.644837 -0.556488 -1.273130 -0.054354\n",
       "2019-01-01 00:04:00  1.074807  1.490826 -1.053984  0.562539\n",
       "...                       ...       ...       ...       ...\n",
       "2019-01-01 23:55:00  0.473984 -1.501100 -0.094507  0.412395\n",
       "2019-01-01 23:56:00  0.640821 -1.793078 -0.857134  0.355790\n",
       "2019-01-01 23:57:00  1.881106 -1.065516 -1.063221 -0.926882\n",
       "2019-01-01 23:58:00 -1.420806  0.279749  0.537966 -0.303405\n",
       "2019-01-01 23:59:00  0.149540  0.333229  1.238180 -0.618562\n",
       "\n",
       "[1440 rows x 4 columns]"
      ],
      "text/html": [
       "<div>\n",
       "<style scoped>\n",
       "    .dataframe tbody tr th:only-of-type {\n",
       "        vertical-align: middle;\n",
       "    }\n",
       "\n",
       "    .dataframe tbody tr th {\n",
       "        vertical-align: top;\n",
       "    }\n",
       "\n",
       "    .dataframe thead th {\n",
       "        text-align: right;\n",
       "    }\n",
       "</style>\n",
       "<table border=\"1\" class=\"dataframe\">\n",
       "  <thead>\n",
       "    <tr style=\"text-align: right;\">\n",
       "      <th></th>\n",
       "      <th>SPY</th>\n",
       "      <th>TLT</th>\n",
       "      <th>VXX</th>\n",
       "      <th>QQQ</th>\n",
       "    </tr>\n",
       "  </thead>\n",
       "  <tbody>\n",
       "    <tr>\n",
       "      <th>2019-01-01 00:00:00</th>\n",
       "      <td>-0.505279</td>\n",
       "      <td>-0.000292</td>\n",
       "      <td>0.149514</td>\n",
       "      <td>0.054235</td>\n",
       "    </tr>\n",
       "    <tr>\n",
       "      <th>2019-01-01 00:01:00</th>\n",
       "      <td>0.152258</td>\n",
       "      <td>0.314673</td>\n",
       "      <td>1.508726</td>\n",
       "      <td>0.634877</td>\n",
       "    </tr>\n",
       "    <tr>\n",
       "      <th>2019-01-01 00:02:00</th>\n",
       "      <td>0.309812</td>\n",
       "      <td>-0.435587</td>\n",
       "      <td>-1.014003</td>\n",
       "      <td>-0.246448</td>\n",
       "    </tr>\n",
       "    <tr>\n",
       "      <th>2019-01-01 00:03:00</th>\n",
       "      <td>0.644837</td>\n",
       "      <td>-0.556488</td>\n",
       "      <td>-1.273130</td>\n",
       "      <td>-0.054354</td>\n",
       "    </tr>\n",
       "    <tr>\n",
       "      <th>2019-01-01 00:04:00</th>\n",
       "      <td>1.074807</td>\n",
       "      <td>1.490826</td>\n",
       "      <td>-1.053984</td>\n",
       "      <td>0.562539</td>\n",
       "    </tr>\n",
       "    <tr>\n",
       "      <th>...</th>\n",
       "      <td>...</td>\n",
       "      <td>...</td>\n",
       "      <td>...</td>\n",
       "      <td>...</td>\n",
       "    </tr>\n",
       "    <tr>\n",
       "      <th>2019-01-01 23:55:00</th>\n",
       "      <td>0.473984</td>\n",
       "      <td>-1.501100</td>\n",
       "      <td>-0.094507</td>\n",
       "      <td>0.412395</td>\n",
       "    </tr>\n",
       "    <tr>\n",
       "      <th>2019-01-01 23:56:00</th>\n",
       "      <td>0.640821</td>\n",
       "      <td>-1.793078</td>\n",
       "      <td>-0.857134</td>\n",
       "      <td>0.355790</td>\n",
       "    </tr>\n",
       "    <tr>\n",
       "      <th>2019-01-01 23:57:00</th>\n",
       "      <td>1.881106</td>\n",
       "      <td>-1.065516</td>\n",
       "      <td>-1.063221</td>\n",
       "      <td>-0.926882</td>\n",
       "    </tr>\n",
       "    <tr>\n",
       "      <th>2019-01-01 23:58:00</th>\n",
       "      <td>-1.420806</td>\n",
       "      <td>0.279749</td>\n",
       "      <td>0.537966</td>\n",
       "      <td>-0.303405</td>\n",
       "    </tr>\n",
       "    <tr>\n",
       "      <th>2019-01-01 23:59:00</th>\n",
       "      <td>0.149540</td>\n",
       "      <td>0.333229</td>\n",
       "      <td>1.238180</td>\n",
       "      <td>-0.618562</td>\n",
       "    </tr>\n",
       "  </tbody>\n",
       "</table>\n",
       "<p>1440 rows × 4 columns</p>\n",
       "</div>"
      ]
     },
     "execution_count": 21,
     "metadata": {},
     "output_type": "execute_result"
    }
   ],
   "execution_count": 21
  },
  {
   "cell_type": "code",
   "metadata": {
    "ExecuteTime": {
     "end_time": "2024-11-06T03:26:17.766846Z",
     "start_time": "2024-11-06T03:26:17.723679Z"
    }
   },
   "source": [
    "df.resample('M').sum()"
   ],
   "outputs": [
    {
     "name": "stderr",
     "output_type": "stream",
     "text": [
      "/var/folders/4f/9230q1tn743gqfht8kjmqts40000gn/T/ipykernel_76207/2412811611.py:1: FutureWarning: 'M' is deprecated and will be removed in a future version, please use 'ME' instead.\n",
      "  df.resample('M').sum()\n"
     ]
    },
    {
     "data": {
      "text/plain": [
       "                   SPY         TLT         VXX         QQQ\n",
       "2019-01-31  -32.226951   15.390845   -2.167869 -433.110602\n",
       "2019-02-28   74.730023  -26.194914  194.859671  -39.364799\n",
       "2019-03-31  226.108971  -41.188100 -255.831909  -86.049408\n",
       "2019-04-30  139.098587  169.370418   55.502667  -17.711988\n",
       "2019-05-31   64.282570   -5.217075   31.363402 -221.072628\n",
       "2019-06-30 -230.508892  249.795314   70.081844  218.089364\n",
       "2019-07-31  234.406606 -220.987741 -154.659256 -226.772572\n",
       "2019-08-31  211.930801  277.127181 -293.048302  162.027486\n",
       "2019-09-30   17.835717 -153.592843 -365.405633 -352.671241\n",
       "2019-10-31  166.987117   33.233480  236.761390   22.827559\n",
       "2019-11-30 -248.461978  143.786804 -308.430286  380.145607\n",
       "2019-12-31  289.349943 -179.600233  418.880580  207.105189\n",
       "2020-01-31   29.606458 -225.928739  -14.006344  294.327462\n",
       "2020-02-29  -17.324077    7.958330   62.058608  137.978605\n",
       "2020-03-31 -101.555831 -596.214891  -38.880187 -180.290141\n",
       "2020-04-30 -112.932228  -54.710660 -325.408742  -83.335882\n",
       "2020-05-31 -141.891174 -166.509419   17.402020 -201.087247\n",
       "2020-06-30  270.087974  203.782541 -254.621767  -25.763371\n",
       "2020-07-31  501.744751 -201.171047 -266.679501   96.012702\n",
       "2020-08-31 -116.357347 -115.817177   36.969170 -278.415384\n",
       "2020-09-30  332.062628 -187.109537  227.581821  -95.434117\n",
       "2020-10-31  287.827011 -430.703059  158.999380   77.684455\n",
       "2020-11-30 -216.067264  -87.019608 -206.325784  282.139746\n",
       "2020-12-31   58.083435   94.321872 -332.728929   57.323807\n",
       "2021-01-31  -27.314749  521.692784 -112.976990  261.571953\n",
       "2021-02-28 -147.536861 -350.798342  472.303836 -127.570378\n",
       "2021-03-31  400.155562 -135.666993   65.243408   43.898108\n",
       "2021-04-30 -176.810132   58.610354  232.645556  117.590586\n",
       "2021-05-31  496.981253  206.302664 -137.888800 -365.882180\n",
       "2021-06-30   57.939097  252.175705   51.991446  -79.015608"
      ],
      "text/html": [
       "<div>\n",
       "<style scoped>\n",
       "    .dataframe tbody tr th:only-of-type {\n",
       "        vertical-align: middle;\n",
       "    }\n",
       "\n",
       "    .dataframe tbody tr th {\n",
       "        vertical-align: top;\n",
       "    }\n",
       "\n",
       "    .dataframe thead th {\n",
       "        text-align: right;\n",
       "    }\n",
       "</style>\n",
       "<table border=\"1\" class=\"dataframe\">\n",
       "  <thead>\n",
       "    <tr style=\"text-align: right;\">\n",
       "      <th></th>\n",
       "      <th>SPY</th>\n",
       "      <th>TLT</th>\n",
       "      <th>VXX</th>\n",
       "      <th>QQQ</th>\n",
       "    </tr>\n",
       "  </thead>\n",
       "  <tbody>\n",
       "    <tr>\n",
       "      <th>2019-01-31</th>\n",
       "      <td>-32.226951</td>\n",
       "      <td>15.390845</td>\n",
       "      <td>-2.167869</td>\n",
       "      <td>-433.110602</td>\n",
       "    </tr>\n",
       "    <tr>\n",
       "      <th>2019-02-28</th>\n",
       "      <td>74.730023</td>\n",
       "      <td>-26.194914</td>\n",
       "      <td>194.859671</td>\n",
       "      <td>-39.364799</td>\n",
       "    </tr>\n",
       "    <tr>\n",
       "      <th>2019-03-31</th>\n",
       "      <td>226.108971</td>\n",
       "      <td>-41.188100</td>\n",
       "      <td>-255.831909</td>\n",
       "      <td>-86.049408</td>\n",
       "    </tr>\n",
       "    <tr>\n",
       "      <th>2019-04-30</th>\n",
       "      <td>139.098587</td>\n",
       "      <td>169.370418</td>\n",
       "      <td>55.502667</td>\n",
       "      <td>-17.711988</td>\n",
       "    </tr>\n",
       "    <tr>\n",
       "      <th>2019-05-31</th>\n",
       "      <td>64.282570</td>\n",
       "      <td>-5.217075</td>\n",
       "      <td>31.363402</td>\n",
       "      <td>-221.072628</td>\n",
       "    </tr>\n",
       "    <tr>\n",
       "      <th>2019-06-30</th>\n",
       "      <td>-230.508892</td>\n",
       "      <td>249.795314</td>\n",
       "      <td>70.081844</td>\n",
       "      <td>218.089364</td>\n",
       "    </tr>\n",
       "    <tr>\n",
       "      <th>2019-07-31</th>\n",
       "      <td>234.406606</td>\n",
       "      <td>-220.987741</td>\n",
       "      <td>-154.659256</td>\n",
       "      <td>-226.772572</td>\n",
       "    </tr>\n",
       "    <tr>\n",
       "      <th>2019-08-31</th>\n",
       "      <td>211.930801</td>\n",
       "      <td>277.127181</td>\n",
       "      <td>-293.048302</td>\n",
       "      <td>162.027486</td>\n",
       "    </tr>\n",
       "    <tr>\n",
       "      <th>2019-09-30</th>\n",
       "      <td>17.835717</td>\n",
       "      <td>-153.592843</td>\n",
       "      <td>-365.405633</td>\n",
       "      <td>-352.671241</td>\n",
       "    </tr>\n",
       "    <tr>\n",
       "      <th>2019-10-31</th>\n",
       "      <td>166.987117</td>\n",
       "      <td>33.233480</td>\n",
       "      <td>236.761390</td>\n",
       "      <td>22.827559</td>\n",
       "    </tr>\n",
       "    <tr>\n",
       "      <th>2019-11-30</th>\n",
       "      <td>-248.461978</td>\n",
       "      <td>143.786804</td>\n",
       "      <td>-308.430286</td>\n",
       "      <td>380.145607</td>\n",
       "    </tr>\n",
       "    <tr>\n",
       "      <th>2019-12-31</th>\n",
       "      <td>289.349943</td>\n",
       "      <td>-179.600233</td>\n",
       "      <td>418.880580</td>\n",
       "      <td>207.105189</td>\n",
       "    </tr>\n",
       "    <tr>\n",
       "      <th>2020-01-31</th>\n",
       "      <td>29.606458</td>\n",
       "      <td>-225.928739</td>\n",
       "      <td>-14.006344</td>\n",
       "      <td>294.327462</td>\n",
       "    </tr>\n",
       "    <tr>\n",
       "      <th>2020-02-29</th>\n",
       "      <td>-17.324077</td>\n",
       "      <td>7.958330</td>\n",
       "      <td>62.058608</td>\n",
       "      <td>137.978605</td>\n",
       "    </tr>\n",
       "    <tr>\n",
       "      <th>2020-03-31</th>\n",
       "      <td>-101.555831</td>\n",
       "      <td>-596.214891</td>\n",
       "      <td>-38.880187</td>\n",
       "      <td>-180.290141</td>\n",
       "    </tr>\n",
       "    <tr>\n",
       "      <th>2020-04-30</th>\n",
       "      <td>-112.932228</td>\n",
       "      <td>-54.710660</td>\n",
       "      <td>-325.408742</td>\n",
       "      <td>-83.335882</td>\n",
       "    </tr>\n",
       "    <tr>\n",
       "      <th>2020-05-31</th>\n",
       "      <td>-141.891174</td>\n",
       "      <td>-166.509419</td>\n",
       "      <td>17.402020</td>\n",
       "      <td>-201.087247</td>\n",
       "    </tr>\n",
       "    <tr>\n",
       "      <th>2020-06-30</th>\n",
       "      <td>270.087974</td>\n",
       "      <td>203.782541</td>\n",
       "      <td>-254.621767</td>\n",
       "      <td>-25.763371</td>\n",
       "    </tr>\n",
       "    <tr>\n",
       "      <th>2020-07-31</th>\n",
       "      <td>501.744751</td>\n",
       "      <td>-201.171047</td>\n",
       "      <td>-266.679501</td>\n",
       "      <td>96.012702</td>\n",
       "    </tr>\n",
       "    <tr>\n",
       "      <th>2020-08-31</th>\n",
       "      <td>-116.357347</td>\n",
       "      <td>-115.817177</td>\n",
       "      <td>36.969170</td>\n",
       "      <td>-278.415384</td>\n",
       "    </tr>\n",
       "    <tr>\n",
       "      <th>2020-09-30</th>\n",
       "      <td>332.062628</td>\n",
       "      <td>-187.109537</td>\n",
       "      <td>227.581821</td>\n",
       "      <td>-95.434117</td>\n",
       "    </tr>\n",
       "    <tr>\n",
       "      <th>2020-10-31</th>\n",
       "      <td>287.827011</td>\n",
       "      <td>-430.703059</td>\n",
       "      <td>158.999380</td>\n",
       "      <td>77.684455</td>\n",
       "    </tr>\n",
       "    <tr>\n",
       "      <th>2020-11-30</th>\n",
       "      <td>-216.067264</td>\n",
       "      <td>-87.019608</td>\n",
       "      <td>-206.325784</td>\n",
       "      <td>282.139746</td>\n",
       "    </tr>\n",
       "    <tr>\n",
       "      <th>2020-12-31</th>\n",
       "      <td>58.083435</td>\n",
       "      <td>94.321872</td>\n",
       "      <td>-332.728929</td>\n",
       "      <td>57.323807</td>\n",
       "    </tr>\n",
       "    <tr>\n",
       "      <th>2021-01-31</th>\n",
       "      <td>-27.314749</td>\n",
       "      <td>521.692784</td>\n",
       "      <td>-112.976990</td>\n",
       "      <td>261.571953</td>\n",
       "    </tr>\n",
       "    <tr>\n",
       "      <th>2021-02-28</th>\n",
       "      <td>-147.536861</td>\n",
       "      <td>-350.798342</td>\n",
       "      <td>472.303836</td>\n",
       "      <td>-127.570378</td>\n",
       "    </tr>\n",
       "    <tr>\n",
       "      <th>2021-03-31</th>\n",
       "      <td>400.155562</td>\n",
       "      <td>-135.666993</td>\n",
       "      <td>65.243408</td>\n",
       "      <td>43.898108</td>\n",
       "    </tr>\n",
       "    <tr>\n",
       "      <th>2021-04-30</th>\n",
       "      <td>-176.810132</td>\n",
       "      <td>58.610354</td>\n",
       "      <td>232.645556</td>\n",
       "      <td>117.590586</td>\n",
       "    </tr>\n",
       "    <tr>\n",
       "      <th>2021-05-31</th>\n",
       "      <td>496.981253</td>\n",
       "      <td>206.302664</td>\n",
       "      <td>-137.888800</td>\n",
       "      <td>-365.882180</td>\n",
       "    </tr>\n",
       "    <tr>\n",
       "      <th>2021-06-30</th>\n",
       "      <td>57.939097</td>\n",
       "      <td>252.175705</td>\n",
       "      <td>51.991446</td>\n",
       "      <td>-79.015608</td>\n",
       "    </tr>\n",
       "  </tbody>\n",
       "</table>\n",
       "</div>"
      ]
     },
     "execution_count": 22,
     "metadata": {},
     "output_type": "execute_result"
    }
   ],
   "execution_count": 22
  },
  {
   "cell_type": "code",
   "metadata": {
    "ExecuteTime": {
     "end_time": "2024-11-06T03:26:18.201243Z",
     "start_time": "2024-11-06T03:26:18.155101Z"
    }
   },
   "source": [
    "# 5 minute high \n",
    "df.resample('5min').max()"
   ],
   "outputs": [
    {
     "data": {
      "text/plain": [
       "                          SPY       TLT       VXX       QQQ\n",
       "2019-01-01 00:00:00  1.074807  1.490826  1.508726  0.634877\n",
       "2019-01-01 00:05:00  1.195941  1.625372 -0.327045  0.960882\n",
       "2019-01-01 00:10:00  0.686190  1.713763  0.458336  0.825226\n",
       "2019-01-01 00:15:00  2.447914  0.718938  0.276785  1.463981\n",
       "2019-01-01 00:20:00  1.562657  1.216774  0.895385  1.836100\n",
       "...                       ...       ...       ...       ...\n",
       "2021-06-29 23:40:00  0.819364 -0.133401  0.937376  0.505045\n",
       "2021-06-29 23:45:00  0.694201  1.383114  0.253634  0.681415\n",
       "2021-06-29 23:50:00  1.011482  1.088419  0.338431  0.853486\n",
       "2021-06-29 23:55:00  1.639331 -0.183006  2.291862  1.084791\n",
       "2021-06-30 00:00:00  0.427036  0.329761 -0.831632  0.635655\n",
       "\n",
       "[262369 rows x 4 columns]"
      ],
      "text/html": [
       "<div>\n",
       "<style scoped>\n",
       "    .dataframe tbody tr th:only-of-type {\n",
       "        vertical-align: middle;\n",
       "    }\n",
       "\n",
       "    .dataframe tbody tr th {\n",
       "        vertical-align: top;\n",
       "    }\n",
       "\n",
       "    .dataframe thead th {\n",
       "        text-align: right;\n",
       "    }\n",
       "</style>\n",
       "<table border=\"1\" class=\"dataframe\">\n",
       "  <thead>\n",
       "    <tr style=\"text-align: right;\">\n",
       "      <th></th>\n",
       "      <th>SPY</th>\n",
       "      <th>TLT</th>\n",
       "      <th>VXX</th>\n",
       "      <th>QQQ</th>\n",
       "    </tr>\n",
       "  </thead>\n",
       "  <tbody>\n",
       "    <tr>\n",
       "      <th>2019-01-01 00:00:00</th>\n",
       "      <td>1.074807</td>\n",
       "      <td>1.490826</td>\n",
       "      <td>1.508726</td>\n",
       "      <td>0.634877</td>\n",
       "    </tr>\n",
       "    <tr>\n",
       "      <th>2019-01-01 00:05:00</th>\n",
       "      <td>1.195941</td>\n",
       "      <td>1.625372</td>\n",
       "      <td>-0.327045</td>\n",
       "      <td>0.960882</td>\n",
       "    </tr>\n",
       "    <tr>\n",
       "      <th>2019-01-01 00:10:00</th>\n",
       "      <td>0.686190</td>\n",
       "      <td>1.713763</td>\n",
       "      <td>0.458336</td>\n",
       "      <td>0.825226</td>\n",
       "    </tr>\n",
       "    <tr>\n",
       "      <th>2019-01-01 00:15:00</th>\n",
       "      <td>2.447914</td>\n",
       "      <td>0.718938</td>\n",
       "      <td>0.276785</td>\n",
       "      <td>1.463981</td>\n",
       "    </tr>\n",
       "    <tr>\n",
       "      <th>2019-01-01 00:20:00</th>\n",
       "      <td>1.562657</td>\n",
       "      <td>1.216774</td>\n",
       "      <td>0.895385</td>\n",
       "      <td>1.836100</td>\n",
       "    </tr>\n",
       "    <tr>\n",
       "      <th>...</th>\n",
       "      <td>...</td>\n",
       "      <td>...</td>\n",
       "      <td>...</td>\n",
       "      <td>...</td>\n",
       "    </tr>\n",
       "    <tr>\n",
       "      <th>2021-06-29 23:40:00</th>\n",
       "      <td>0.819364</td>\n",
       "      <td>-0.133401</td>\n",
       "      <td>0.937376</td>\n",
       "      <td>0.505045</td>\n",
       "    </tr>\n",
       "    <tr>\n",
       "      <th>2021-06-29 23:45:00</th>\n",
       "      <td>0.694201</td>\n",
       "      <td>1.383114</td>\n",
       "      <td>0.253634</td>\n",
       "      <td>0.681415</td>\n",
       "    </tr>\n",
       "    <tr>\n",
       "      <th>2021-06-29 23:50:00</th>\n",
       "      <td>1.011482</td>\n",
       "      <td>1.088419</td>\n",
       "      <td>0.338431</td>\n",
       "      <td>0.853486</td>\n",
       "    </tr>\n",
       "    <tr>\n",
       "      <th>2021-06-29 23:55:00</th>\n",
       "      <td>1.639331</td>\n",
       "      <td>-0.183006</td>\n",
       "      <td>2.291862</td>\n",
       "      <td>1.084791</td>\n",
       "    </tr>\n",
       "    <tr>\n",
       "      <th>2021-06-30 00:00:00</th>\n",
       "      <td>0.427036</td>\n",
       "      <td>0.329761</td>\n",
       "      <td>-0.831632</td>\n",
       "      <td>0.635655</td>\n",
       "    </tr>\n",
       "  </tbody>\n",
       "</table>\n",
       "<p>262369 rows × 4 columns</p>\n",
       "</div>"
      ]
     },
     "execution_count": 23,
     "metadata": {},
     "output_type": "execute_result"
    }
   ],
   "execution_count": 23
  },
  {
   "cell_type": "code",
   "metadata": {
    "ExecuteTime": {
     "end_time": "2024-11-06T03:26:18.808150Z",
     "start_time": "2024-11-06T03:26:18.777548Z"
    }
   },
   "source": [
    "# close\n",
    "df.resample('5min').last()"
   ],
   "outputs": [
    {
     "data": {
      "text/plain": [
       "                          SPY       TLT       VXX       QQQ\n",
       "2019-01-01 00:00:00  1.074807  1.490826 -1.053984  0.562539\n",
       "2019-01-01 00:05:00  0.313593 -1.267370 -1.166587 -1.694317\n",
       "2019-01-01 00:10:00 -0.637195 -1.917156 -0.165416  0.015490\n",
       "2019-01-01 00:15:00 -1.323091 -0.449906 -0.629378  0.141788\n",
       "2019-01-01 00:20:00  1.501666  0.782004  0.895385  1.836100\n",
       "...                       ...       ...       ...       ...\n",
       "2021-06-29 23:40:00  0.819364 -0.607935  0.639834  0.218725\n",
       "2021-06-29 23:45:00  0.694201  0.500468 -0.740575 -0.295175\n",
       "2021-06-29 23:50:00 -0.350821  0.888757  0.270659 -1.773200\n",
       "2021-06-29 23:55:00  0.611600 -2.540064  0.368530 -2.036690\n",
       "2021-06-30 00:00:00  0.427036  0.329761 -0.831632  0.635655\n",
       "\n",
       "[262369 rows x 4 columns]"
      ],
      "text/html": [
       "<div>\n",
       "<style scoped>\n",
       "    .dataframe tbody tr th:only-of-type {\n",
       "        vertical-align: middle;\n",
       "    }\n",
       "\n",
       "    .dataframe tbody tr th {\n",
       "        vertical-align: top;\n",
       "    }\n",
       "\n",
       "    .dataframe thead th {\n",
       "        text-align: right;\n",
       "    }\n",
       "</style>\n",
       "<table border=\"1\" class=\"dataframe\">\n",
       "  <thead>\n",
       "    <tr style=\"text-align: right;\">\n",
       "      <th></th>\n",
       "      <th>SPY</th>\n",
       "      <th>TLT</th>\n",
       "      <th>VXX</th>\n",
       "      <th>QQQ</th>\n",
       "    </tr>\n",
       "  </thead>\n",
       "  <tbody>\n",
       "    <tr>\n",
       "      <th>2019-01-01 00:00:00</th>\n",
       "      <td>1.074807</td>\n",
       "      <td>1.490826</td>\n",
       "      <td>-1.053984</td>\n",
       "      <td>0.562539</td>\n",
       "    </tr>\n",
       "    <tr>\n",
       "      <th>2019-01-01 00:05:00</th>\n",
       "      <td>0.313593</td>\n",
       "      <td>-1.267370</td>\n",
       "      <td>-1.166587</td>\n",
       "      <td>-1.694317</td>\n",
       "    </tr>\n",
       "    <tr>\n",
       "      <th>2019-01-01 00:10:00</th>\n",
       "      <td>-0.637195</td>\n",
       "      <td>-1.917156</td>\n",
       "      <td>-0.165416</td>\n",
       "      <td>0.015490</td>\n",
       "    </tr>\n",
       "    <tr>\n",
       "      <th>2019-01-01 00:15:00</th>\n",
       "      <td>-1.323091</td>\n",
       "      <td>-0.449906</td>\n",
       "      <td>-0.629378</td>\n",
       "      <td>0.141788</td>\n",
       "    </tr>\n",
       "    <tr>\n",
       "      <th>2019-01-01 00:20:00</th>\n",
       "      <td>1.501666</td>\n",
       "      <td>0.782004</td>\n",
       "      <td>0.895385</td>\n",
       "      <td>1.836100</td>\n",
       "    </tr>\n",
       "    <tr>\n",
       "      <th>...</th>\n",
       "      <td>...</td>\n",
       "      <td>...</td>\n",
       "      <td>...</td>\n",
       "      <td>...</td>\n",
       "    </tr>\n",
       "    <tr>\n",
       "      <th>2021-06-29 23:40:00</th>\n",
       "      <td>0.819364</td>\n",
       "      <td>-0.607935</td>\n",
       "      <td>0.639834</td>\n",
       "      <td>0.218725</td>\n",
       "    </tr>\n",
       "    <tr>\n",
       "      <th>2021-06-29 23:45:00</th>\n",
       "      <td>0.694201</td>\n",
       "      <td>0.500468</td>\n",
       "      <td>-0.740575</td>\n",
       "      <td>-0.295175</td>\n",
       "    </tr>\n",
       "    <tr>\n",
       "      <th>2021-06-29 23:50:00</th>\n",
       "      <td>-0.350821</td>\n",
       "      <td>0.888757</td>\n",
       "      <td>0.270659</td>\n",
       "      <td>-1.773200</td>\n",
       "    </tr>\n",
       "    <tr>\n",
       "      <th>2021-06-29 23:55:00</th>\n",
       "      <td>0.611600</td>\n",
       "      <td>-2.540064</td>\n",
       "      <td>0.368530</td>\n",
       "      <td>-2.036690</td>\n",
       "    </tr>\n",
       "    <tr>\n",
       "      <th>2021-06-30 00:00:00</th>\n",
       "      <td>0.427036</td>\n",
       "      <td>0.329761</td>\n",
       "      <td>-0.831632</td>\n",
       "      <td>0.635655</td>\n",
       "    </tr>\n",
       "  </tbody>\n",
       "</table>\n",
       "<p>262369 rows × 4 columns</p>\n",
       "</div>"
      ]
     },
     "execution_count": 24,
     "metadata": {},
     "output_type": "execute_result"
    }
   ],
   "execution_count": 24
  },
  {
   "cell_type": "markdown",
   "metadata": {},
   "source": [
    "Again, refer to documentation for how to specify the frequencies: https://pandas.pydata.org/docs/user_guide/timeseries.html#timeseries-offset-aliases\n",
    "\n",
    "\n",
    "Many other topics on time series in pandas not covered here!"
   ]
  },
  {
   "metadata": {
    "ExecuteTime": {
     "end_time": "2024-11-06T03:26:23.662529Z",
     "start_time": "2024-11-06T03:26:23.660935Z"
    }
   },
   "cell_type": "code",
   "source": "",
   "outputs": [],
   "execution_count": null
  },
  {
   "metadata": {},
   "cell_type": "code",
   "outputs": [],
   "execution_count": null,
   "source": ""
  }
 ],
 "metadata": {
  "kernelspec": {
   "display_name": "Python 3",
   "language": "python",
   "name": "python3"
  },
  "language_info": {
   "codemirror_mode": {
    "name": "ipython",
    "version": 3
   },
   "file_extension": ".py",
   "mimetype": "text/x-python",
   "name": "python",
   "nbconvert_exporter": "python",
   "pygments_lexer": "ipython3",
   "version": "3.8.8"
  }
 },
 "nbformat": 4,
 "nbformat_minor": 4
}
