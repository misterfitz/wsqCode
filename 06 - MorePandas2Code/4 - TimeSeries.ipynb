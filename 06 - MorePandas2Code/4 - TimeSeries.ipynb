{
 "cells": [
  {
   "cell_type": "code",
   "metadata": {
    "ExecuteTime": {
     "end_time": "2024-11-04T23:45:33.623865Z",
     "start_time": "2024-11-04T23:45:33.239043Z"
    }
   },
   "source": [
    "import pandas as pd \n",
    "import numpy as np \n",
    "\n",
    "dt = '20110107'\n",
    "dt = pd.to_datetime(dt)"
   ],
   "outputs": [],
   "execution_count": 1
  },
  {
   "cell_type": "code",
   "metadata": {
    "ExecuteTime": {
     "end_time": "2024-11-04T23:45:33.630165Z",
     "start_time": "2024-11-04T23:45:33.627118Z"
    }
   },
   "source": [
    "dt"
   ],
   "outputs": [
    {
     "data": {
      "text/plain": [
       "Timestamp('2011-01-07 00:00:00')"
      ]
     },
     "execution_count": 2,
     "metadata": {},
     "output_type": "execute_result"
    }
   ],
   "execution_count": 2
  },
  {
   "cell_type": "code",
   "metadata": {
    "ExecuteTime": {
     "end_time": "2024-11-04T23:45:36.818429Z",
     "start_time": "2024-11-04T23:45:36.812846Z"
    }
   },
   "source": [
    "pd.to_datetime('2011-01-07')"
   ],
   "outputs": [
    {
     "data": {
      "text/plain": [
       "Timestamp('2011-01-07 00:00:00')"
      ]
     },
     "execution_count": 3,
     "metadata": {},
     "output_type": "execute_result"
    }
   ],
   "execution_count": 3
  },
  {
   "cell_type": "code",
   "metadata": {
    "scrolled": true,
    "ExecuteTime": {
     "end_time": "2024-11-04T23:45:40.182016Z",
     "start_time": "2024-11-04T23:45:40.179403Z"
    }
   },
   "source": [
    "# get time fields\n",
    "print (dt.year)\n",
    "\n",
    "print (dt.month)\n",
    "\n",
    "print (dt.day)\n",
    "\n",
    "# maybe you care about price behavior on a particular hour, minute or second of the day?\n",
    "print (dt.hour)\n",
    "\n",
    "print (dt.minute)\n",
    "\n",
    "print (dt.second)"
   ],
   "outputs": [
    {
     "name": "stdout",
     "output_type": "stream",
     "text": [
      "2011\n",
      "1\n",
      "7\n",
      "0\n",
      "0\n",
      "0\n"
     ]
    }
   ],
   "execution_count": 4
  },
  {
   "cell_type": "code",
   "metadata": {
    "ExecuteTime": {
     "end_time": "2024-11-04T23:45:52.069546Z",
     "start_time": "2024-11-04T23:45:52.066375Z"
    }
   },
   "source": [
    "# useful for checking if weekend\n",
    "dt.weekday()"
   ],
   "outputs": [
    {
     "data": {
      "text/plain": [
       "4"
      ]
     },
     "execution_count": 5,
     "metadata": {},
     "output_type": "execute_result"
    }
   ],
   "execution_count": 5
  },
  {
   "cell_type": "code",
   "metadata": {
    "ExecuteTime": {
     "end_time": "2024-11-04T23:45:54.004336Z",
     "start_time": "2024-11-04T23:45:53.999561Z"
    }
   },
   "source": [
    "# handles hours/minute/seconds as well\n",
    "pd.to_datetime('20110107 12:10:30')"
   ],
   "outputs": [
    {
     "data": {
      "text/plain": [
       "Timestamp('2011-01-07 12:10:30')"
      ]
     },
     "execution_count": 6,
     "metadata": {},
     "output_type": "execute_result"
    }
   ],
   "execution_count": 6
  },
  {
   "cell_type": "code",
   "metadata": {
    "ExecuteTime": {
     "end_time": "2024-11-04T23:45:55.357711Z",
     "start_time": "2024-11-04T23:45:55.352701Z"
    }
   },
   "source": [
    "# convert back to a string\n",
    "dt.strftime('%Y%m%d')"
   ],
   "outputs": [
    {
     "data": {
      "text/plain": [
       "'20110107'"
      ]
     },
     "execution_count": 7,
     "metadata": {},
     "output_type": "execute_result"
    }
   ],
   "execution_count": 7
  },
  {
   "cell_type": "markdown",
   "metadata": {},
   "source": [
    "Check documentation for other string formatting codes: https://docs.python.org/3/library/datetime.html#strftime-and-strptime-behavior"
   ]
  },
  {
   "cell_type": "code",
   "metadata": {
    "ExecuteTime": {
     "end_time": "2024-11-04T23:45:59.625362Z",
     "start_time": "2024-11-04T23:45:59.619761Z"
    }
   },
   "source": [
    "# can shift dates\n",
    "dt + pd.tseries.offsets.Day()"
   ],
   "outputs": [
    {
     "data": {
      "text/plain": [
       "Timestamp('2011-01-08 00:00:00')"
      ]
     },
     "execution_count": 8,
     "metadata": {},
     "output_type": "execute_result"
    }
   ],
   "execution_count": 8
  },
  {
   "cell_type": "code",
   "metadata": {
    "ExecuteTime": {
     "end_time": "2024-11-04T23:46:03.251233Z",
     "start_time": "2024-11-04T23:46:03.246786Z"
    }
   },
   "source": [
    "# can shift by multiple time units\n",
    "dt + pd.tseries.offsets.Day(2)"
   ],
   "outputs": [
    {
     "data": {
      "text/plain": [
       "Timestamp('2011-01-09 00:00:00')"
      ]
     },
     "execution_count": 9,
     "metadata": {},
     "output_type": "execute_result"
    }
   ],
   "execution_count": 9
  },
  {
   "cell_type": "code",
   "metadata": {
    "ExecuteTime": {
     "end_time": "2024-11-04T23:46:05.681028Z",
     "start_time": "2024-11-04T23:46:05.673320Z"
    }
   },
   "source": [
    "# shift only by business day (skip weekends)\n",
    "dt + pd.tseries.offsets.BDay()"
   ],
   "outputs": [
    {
     "data": {
      "text/plain": [
       "Timestamp('2011-01-10 00:00:00')"
      ]
     },
     "execution_count": 10,
     "metadata": {},
     "output_type": "execute_result"
    }
   ],
   "execution_count": 10
  },
  {
   "cell_type": "code",
   "metadata": {
    "ExecuteTime": {
     "end_time": "2024-11-04T23:46:12.305968Z",
     "start_time": "2024-11-04T23:46:12.303138Z"
    }
   },
   "source": [
    "# roll forward / backward\n",
    "print (pd.tseries.offsets.MonthEnd().rollforward(dt))\n",
    "print (pd.tseries.offsets.MonthEnd().rollback(dt))"
   ],
   "outputs": [
    {
     "name": "stdout",
     "output_type": "stream",
     "text": [
      "2011-01-31 00:00:00\n",
      "2010-12-31 00:00:00\n"
     ]
    }
   ],
   "execution_count": 11
  },
  {
   "cell_type": "markdown",
   "metadata": {},
   "source": [
    "Check documentation for other offsets: https://pandas.pydata.org/docs/reference/offset_frequency.html"
   ]
  },
  {
   "cell_type": "code",
   "metadata": {
    "ExecuteTime": {
     "end_time": "2024-11-04T23:46:17.403421Z",
     "start_time": "2024-11-04T23:46:17.398440Z"
    }
   },
   "source": [
    "# subtract two times \n",
    "# maybe for checking days till next earnings?\n",
    "\n",
    "dt1 = pd.to_datetime('20110101')\n",
    "dt2 = pd.to_datetime('20120630')\n",
    "\n",
    "diff = dt2 - dt1\n",
    "diff "
   ],
   "outputs": [
    {
     "data": {
      "text/plain": [
       "Timedelta('546 days 00:00:00')"
      ]
     },
     "execution_count": 12,
     "metadata": {},
     "output_type": "execute_result"
    }
   ],
   "execution_count": 12
  },
  {
   "cell_type": "code",
   "metadata": {
    "ExecuteTime": {
     "end_time": "2024-11-04T23:46:19.411400Z",
     "start_time": "2024-11-04T23:46:19.406969Z"
    }
   },
   "source": [
    "diff.days"
   ],
   "outputs": [
    {
     "data": {
      "text/plain": [
       "546"
      ]
     },
     "execution_count": 13,
     "metadata": {},
     "output_type": "execute_result"
    }
   ],
   "execution_count": 13
  },
  {
   "cell_type": "code",
   "metadata": {
    "ExecuteTime": {
     "end_time": "2024-11-04T23:46:20.806137Z",
     "start_time": "2024-11-04T23:46:20.799284Z"
    }
   },
   "source": [
    "# faster way to create multiple timestamp objects. useful for converting excel dates from strings to timestamps\n",
    "date = ['20110102','20110103','20110105']\n",
    "dt_index = pd.DatetimeIndex(date)\n",
    "dt_index"
   ],
   "outputs": [
    {
     "data": {
      "text/plain": [
       "DatetimeIndex(['2011-01-02', '2011-01-03', '2011-01-05'], dtype='datetime64[ns]', freq=None)"
      ]
     },
     "execution_count": 14,
     "metadata": {},
     "output_type": "execute_result"
    }
   ],
   "execution_count": 14
  },
  {
   "cell_type": "code",
   "metadata": {
    "ExecuteTime": {
     "end_time": "2024-11-04T23:46:21.363555Z",
     "start_time": "2024-11-04T23:46:21.361127Z"
    }
   },
   "source": [
    "dt_index[0]"
   ],
   "outputs": [
    {
     "data": {
      "text/plain": [
       "Timestamp('2011-01-02 00:00:00')"
      ]
     },
     "execution_count": 15,
     "metadata": {},
     "output_type": "execute_result"
    }
   ],
   "execution_count": 15
  },
  {
   "cell_type": "code",
   "metadata": {
    "ExecuteTime": {
     "end_time": "2024-11-04T23:46:21.745748Z",
     "start_time": "2024-11-04T23:46:21.740737Z"
    }
   },
   "source": [
    "## get time range \n",
    "days = pd.date_range(dt1,dt2,freq='D')\n",
    "days"
   ],
   "outputs": [
    {
     "data": {
      "text/plain": [
       "DatetimeIndex(['2011-01-01', '2011-01-02', '2011-01-03', '2011-01-04',\n",
       "               '2011-01-05', '2011-01-06', '2011-01-07', '2011-01-08',\n",
       "               '2011-01-09', '2011-01-10',\n",
       "               ...\n",
       "               '2012-06-21', '2012-06-22', '2012-06-23', '2012-06-24',\n",
       "               '2012-06-25', '2012-06-26', '2012-06-27', '2012-06-28',\n",
       "               '2012-06-29', '2012-06-30'],\n",
       "              dtype='datetime64[ns]', length=547, freq='D')"
      ]
     },
     "execution_count": 16,
     "metadata": {},
     "output_type": "execute_result"
    }
   ],
   "execution_count": 16
  },
  {
   "cell_type": "code",
   "metadata": {
    "ExecuteTime": {
     "end_time": "2024-11-04T23:46:22.070087Z",
     "start_time": "2024-11-04T23:46:22.064518Z"
    }
   },
   "source": [
    "# can use strings as inputs and also use monthly frequency\n",
    "months = pd.date_range('20110101','20121231',freq='M')\n",
    "months"
   ],
   "outputs": [
    {
     "name": "stderr",
     "output_type": "stream",
     "text": [
      "/var/folders/4f/9230q1tn743gqfht8kjmqts40000gn/T/ipykernel_76207/3482503232.py:2: FutureWarning: 'M' is deprecated and will be removed in a future version, please use 'ME' instead.\n",
      "  months = pd.date_range('20110101','20121231',freq='M')\n"
     ]
    },
    {
     "data": {
      "text/plain": [
       "DatetimeIndex(['2011-01-31', '2011-02-28', '2011-03-31', '2011-04-30',\n",
       "               '2011-05-31', '2011-06-30', '2011-07-31', '2011-08-31',\n",
       "               '2011-09-30', '2011-10-31', '2011-11-30', '2011-12-31',\n",
       "               '2012-01-31', '2012-02-29', '2012-03-31', '2012-04-30',\n",
       "               '2012-05-31', '2012-06-30', '2012-07-31', '2012-08-31',\n",
       "               '2012-09-30', '2012-10-31', '2012-11-30', '2012-12-31'],\n",
       "              dtype='datetime64[ns]', freq='ME')"
      ]
     },
     "execution_count": 17,
     "metadata": {},
     "output_type": "execute_result"
    }
   ],
   "execution_count": 17
  },
  {
   "cell_type": "markdown",
   "metadata": {},
   "source": [
    "See documentation for other frequencies: https://pandas.pydata.org/docs/user_guide/timeseries.html#timeseries-offset-aliases"
   ]
  },
  {
   "cell_type": "code",
   "metadata": {
    "scrolled": true,
    "ExecuteTime": {
     "end_time": "2024-11-04T23:46:24.622182Z",
     "start_time": "2024-11-04T23:46:24.519265Z"
    }
   },
   "source": [
    "## DataFrames with pandas datetime index \n",
    "univ = ['SPY','TLT','VXX','QQQ']\n",
    "days = pd.date_range('20190101','20210630',freq='min')\n",
    "df = pd.DataFrame(np.random.randn(len(days),len(univ)),index=days,columns=univ)\n",
    "df"
   ],
   "outputs": [
    {
     "data": {
      "text/plain": [
       "                          SPY       TLT       VXX       QQQ\n",
       "2019-01-01 00:00:00  0.664185  0.576571  0.448652  2.355082\n",
       "2019-01-01 00:01:00 -2.504634  0.652321 -0.817453  0.587978\n",
       "2019-01-01 00:02:00  1.558711 -0.357100  0.274141  0.423721\n",
       "2019-01-01 00:03:00  0.495836  0.853814  0.459064  0.631602\n",
       "2019-01-01 00:04:00 -1.138802 -0.171343  0.672672 -1.277929\n",
       "...                       ...       ...       ...       ...\n",
       "2021-06-29 23:56:00 -0.959657 -0.017613  2.167485  0.123945\n",
       "2021-06-29 23:57:00  0.336677 -0.784209  0.268581  0.830495\n",
       "2021-06-29 23:58:00 -0.404078 -0.703314  0.216138 -0.081901\n",
       "2021-06-29 23:59:00 -1.172789 -0.028967  0.792779 -0.047648\n",
       "2021-06-30 00:00:00  0.846993  0.165028  1.138660  1.956214\n",
       "\n",
       "[1311841 rows x 4 columns]"
      ],
      "text/html": [
       "<div>\n",
       "<style scoped>\n",
       "    .dataframe tbody tr th:only-of-type {\n",
       "        vertical-align: middle;\n",
       "    }\n",
       "\n",
       "    .dataframe tbody tr th {\n",
       "        vertical-align: top;\n",
       "    }\n",
       "\n",
       "    .dataframe thead th {\n",
       "        text-align: right;\n",
       "    }\n",
       "</style>\n",
       "<table border=\"1\" class=\"dataframe\">\n",
       "  <thead>\n",
       "    <tr style=\"text-align: right;\">\n",
       "      <th></th>\n",
       "      <th>SPY</th>\n",
       "      <th>TLT</th>\n",
       "      <th>VXX</th>\n",
       "      <th>QQQ</th>\n",
       "    </tr>\n",
       "  </thead>\n",
       "  <tbody>\n",
       "    <tr>\n",
       "      <th>2019-01-01 00:00:00</th>\n",
       "      <td>0.664185</td>\n",
       "      <td>0.576571</td>\n",
       "      <td>0.448652</td>\n",
       "      <td>2.355082</td>\n",
       "    </tr>\n",
       "    <tr>\n",
       "      <th>2019-01-01 00:01:00</th>\n",
       "      <td>-2.504634</td>\n",
       "      <td>0.652321</td>\n",
       "      <td>-0.817453</td>\n",
       "      <td>0.587978</td>\n",
       "    </tr>\n",
       "    <tr>\n",
       "      <th>2019-01-01 00:02:00</th>\n",
       "      <td>1.558711</td>\n",
       "      <td>-0.357100</td>\n",
       "      <td>0.274141</td>\n",
       "      <td>0.423721</td>\n",
       "    </tr>\n",
       "    <tr>\n",
       "      <th>2019-01-01 00:03:00</th>\n",
       "      <td>0.495836</td>\n",
       "      <td>0.853814</td>\n",
       "      <td>0.459064</td>\n",
       "      <td>0.631602</td>\n",
       "    </tr>\n",
       "    <tr>\n",
       "      <th>2019-01-01 00:04:00</th>\n",
       "      <td>-1.138802</td>\n",
       "      <td>-0.171343</td>\n",
       "      <td>0.672672</td>\n",
       "      <td>-1.277929</td>\n",
       "    </tr>\n",
       "    <tr>\n",
       "      <th>...</th>\n",
       "      <td>...</td>\n",
       "      <td>...</td>\n",
       "      <td>...</td>\n",
       "      <td>...</td>\n",
       "    </tr>\n",
       "    <tr>\n",
       "      <th>2021-06-29 23:56:00</th>\n",
       "      <td>-0.959657</td>\n",
       "      <td>-0.017613</td>\n",
       "      <td>2.167485</td>\n",
       "      <td>0.123945</td>\n",
       "    </tr>\n",
       "    <tr>\n",
       "      <th>2021-06-29 23:57:00</th>\n",
       "      <td>0.336677</td>\n",
       "      <td>-0.784209</td>\n",
       "      <td>0.268581</td>\n",
       "      <td>0.830495</td>\n",
       "    </tr>\n",
       "    <tr>\n",
       "      <th>2021-06-29 23:58:00</th>\n",
       "      <td>-0.404078</td>\n",
       "      <td>-0.703314</td>\n",
       "      <td>0.216138</td>\n",
       "      <td>-0.081901</td>\n",
       "    </tr>\n",
       "    <tr>\n",
       "      <th>2021-06-29 23:59:00</th>\n",
       "      <td>-1.172789</td>\n",
       "      <td>-0.028967</td>\n",
       "      <td>0.792779</td>\n",
       "      <td>-0.047648</td>\n",
       "    </tr>\n",
       "    <tr>\n",
       "      <th>2021-06-30 00:00:00</th>\n",
       "      <td>0.846993</td>\n",
       "      <td>0.165028</td>\n",
       "      <td>1.138660</td>\n",
       "      <td>1.956214</td>\n",
       "    </tr>\n",
       "  </tbody>\n",
       "</table>\n",
       "<p>1311841 rows × 4 columns</p>\n",
       "</div>"
      ]
     },
     "execution_count": 18,
     "metadata": {},
     "output_type": "execute_result"
    }
   ],
   "execution_count": 18
  },
  {
   "cell_type": "code",
   "execution_count": null,
   "metadata": {},
   "outputs": [],
   "source": [
    "df.loc['2019-01-01 00:00:00']"
   ]
  },
  {
   "cell_type": "code",
   "execution_count": null,
   "metadata": {},
   "outputs": [],
   "source": [
    "df.loc['2019-01-01']"
   ]
  },
  {
   "cell_type": "code",
   "execution_count": null,
   "metadata": {},
   "outputs": [],
   "source": [
    "df.resample('M').sum()"
   ]
  },
  {
   "cell_type": "code",
   "execution_count": null,
   "metadata": {},
   "outputs": [],
   "source": [
    "# 5 minute high \n",
    "df.resample('5min').max()"
   ]
  },
  {
   "cell_type": "code",
   "execution_count": null,
   "metadata": {},
   "outputs": [],
   "source": [
    "# close\n",
    "df.resample('5min').last()"
   ]
  },
  {
   "cell_type": "markdown",
   "metadata": {},
   "source": [
    "Again, refer to documentation for how to specify the frequencies: https://pandas.pydata.org/docs/user_guide/timeseries.html#timeseries-offset-aliases\n",
    "\n",
    "\n",
    "Many other topics on time series in pandas not covered here!"
   ]
  }
 ],
 "metadata": {
  "kernelspec": {
   "display_name": "Python 3",
   "language": "python",
   "name": "python3"
  },
  "language_info": {
   "codemirror_mode": {
    "name": "ipython",
    "version": 3
   },
   "file_extension": ".py",
   "mimetype": "text/x-python",
   "name": "python",
   "nbconvert_exporter": "python",
   "pygments_lexer": "ipython3",
   "version": "3.8.8"
  }
 },
 "nbformat": 4,
 "nbformat_minor": 4
}
