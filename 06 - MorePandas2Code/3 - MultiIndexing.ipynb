{
 "cells": [
  {
   "cell_type": "code",
   "metadata": {
    "ExecuteTime": {
     "end_time": "2024-11-04T23:38:32.020298Z",
     "start_time": "2024-11-04T23:38:31.656541Z"
    }
   },
   "source": [
    "import pandas as pd \n",
    "import numpy as np \n",
    "\n",
    "univ = ['SPY','TLT','VXX','QQQ']\n",
    "dates = ['20210105','20210106','20210107','20210108','20210109']"
   ],
   "outputs": [],
   "execution_count": 1
  },
  {
   "cell_type": "code",
   "metadata": {
    "ExecuteTime": {
     "end_time": "2024-11-04T23:39:12.336222Z",
     "start_time": "2024-11-04T23:39:12.330391Z"
    }
   },
   "source": [
    "earnings = pd.DataFrame(np.random.randn(5,4), index=dates,columns=univ)\n",
    "ret_prev = pd.DataFrame(np.random.randn(5,4), index=dates,columns=univ)\n",
    "pe = pd.DataFrame( np.random.randn(5,4), index=dates,columns=univ)\n",
    "analyst_est = pd.DataFrame( np.random.randn(5,4), index=dates,columns=univ)"
   ],
   "outputs": [],
   "execution_count": 2
  },
  {
   "cell_type": "code",
   "metadata": {
    "ExecuteTime": {
     "end_time": "2024-11-04T23:39:17.199717Z",
     "start_time": "2024-11-04T23:39:17.191108Z"
    }
   },
   "source": [
    "pe"
   ],
   "outputs": [
    {
     "data": {
      "text/plain": [
       "               SPY       TLT       VXX       QQQ\n",
       "20210105  0.275898 -0.230879  0.637266 -0.195477\n",
       "20210106 -0.445255  0.103994 -1.095894 -0.485653\n",
       "20210107  0.784970 -0.300939  0.248646  1.683065\n",
       "20210108  0.282320  0.697247  1.273272 -0.280576\n",
       "20210109  1.841752 -0.432276  1.414595  0.073413"
      ],
      "text/html": [
       "<div>\n",
       "<style scoped>\n",
       "    .dataframe tbody tr th:only-of-type {\n",
       "        vertical-align: middle;\n",
       "    }\n",
       "\n",
       "    .dataframe tbody tr th {\n",
       "        vertical-align: top;\n",
       "    }\n",
       "\n",
       "    .dataframe thead th {\n",
       "        text-align: right;\n",
       "    }\n",
       "</style>\n",
       "<table border=\"1\" class=\"dataframe\">\n",
       "  <thead>\n",
       "    <tr style=\"text-align: right;\">\n",
       "      <th></th>\n",
       "      <th>SPY</th>\n",
       "      <th>TLT</th>\n",
       "      <th>VXX</th>\n",
       "      <th>QQQ</th>\n",
       "    </tr>\n",
       "  </thead>\n",
       "  <tbody>\n",
       "    <tr>\n",
       "      <th>20210105</th>\n",
       "      <td>0.275898</td>\n",
       "      <td>-0.230879</td>\n",
       "      <td>0.637266</td>\n",
       "      <td>-0.195477</td>\n",
       "    </tr>\n",
       "    <tr>\n",
       "      <th>20210106</th>\n",
       "      <td>-0.445255</td>\n",
       "      <td>0.103994</td>\n",
       "      <td>-1.095894</td>\n",
       "      <td>-0.485653</td>\n",
       "    </tr>\n",
       "    <tr>\n",
       "      <th>20210107</th>\n",
       "      <td>0.784970</td>\n",
       "      <td>-0.300939</td>\n",
       "      <td>0.248646</td>\n",
       "      <td>1.683065</td>\n",
       "    </tr>\n",
       "    <tr>\n",
       "      <th>20210108</th>\n",
       "      <td>0.282320</td>\n",
       "      <td>0.697247</td>\n",
       "      <td>1.273272</td>\n",
       "      <td>-0.280576</td>\n",
       "    </tr>\n",
       "    <tr>\n",
       "      <th>20210109</th>\n",
       "      <td>1.841752</td>\n",
       "      <td>-0.432276</td>\n",
       "      <td>1.414595</td>\n",
       "      <td>0.073413</td>\n",
       "    </tr>\n",
       "  </tbody>\n",
       "</table>\n",
       "</div>"
      ]
     },
     "execution_count": 3,
     "metadata": {},
     "output_type": "execute_result"
    }
   ],
   "execution_count": 3
  },
  {
   "cell_type": "code",
   "metadata": {
    "ExecuteTime": {
     "end_time": "2024-11-04T23:39:34.304332Z",
     "start_time": "2024-11-04T23:39:34.301360Z"
    }
   },
   "source": [
    "data = {}\n",
    "data['earnings']=earnings\n",
    "data['ret_prev']=ret_prev\n",
    "data['pe']=pe\n",
    "data['analyst_est']=analyst_est"
   ],
   "outputs": [],
   "execution_count": 4
  },
  {
   "cell_type": "code",
   "metadata": {
    "ExecuteTime": {
     "end_time": "2024-11-04T23:40:54.262137Z",
     "start_time": "2024-11-04T23:40:54.241780Z"
    }
   },
   "source": [
    "multi = pd.concat(data)\n",
    "multi "
   ],
   "outputs": [
    {
     "data": {
      "text/plain": [
       "                           SPY       TLT       VXX       QQQ\n",
       "earnings    20210105  0.081383  0.862444  1.081852 -1.953767\n",
       "            20210106 -1.242114  0.651276 -0.900574  0.549930\n",
       "            20210107  0.588063 -0.175329 -0.507396  1.872321\n",
       "            20210108  0.180908 -0.817487 -0.846619 -0.392409\n",
       "            20210109 -0.114429  0.270216  1.024779  0.419249\n",
       "ret_prev    20210105  0.163809  0.144486  0.889864 -0.078926\n",
       "            20210106 -0.106884 -0.399608  2.514541 -1.656418\n",
       "            20210107  0.249658  1.927134  1.243352  0.725036\n",
       "            20210108 -0.759879 -0.846231 -0.761763 -0.993918\n",
       "            20210109  0.787550  0.300930 -0.585017 -0.965583\n",
       "pe          20210105  0.275898 -0.230879  0.637266 -0.195477\n",
       "            20210106 -0.445255  0.103994 -1.095894 -0.485653\n",
       "            20210107  0.784970 -0.300939  0.248646  1.683065\n",
       "            20210108  0.282320  0.697247  1.273272 -0.280576\n",
       "            20210109  1.841752 -0.432276  1.414595  0.073413\n",
       "analyst_est 20210105 -0.037731 -0.809453  0.361939  0.505586\n",
       "            20210106  0.760447  1.561850 -0.137170 -0.101826\n",
       "            20210107  0.606410  0.569721 -0.194949 -0.292059\n",
       "            20210108 -0.779570  0.686332 -1.361639  0.302173\n",
       "            20210109 -0.082338  0.326118 -1.101656  0.030405"
      ],
      "text/html": [
       "<div>\n",
       "<style scoped>\n",
       "    .dataframe tbody tr th:only-of-type {\n",
       "        vertical-align: middle;\n",
       "    }\n",
       "\n",
       "    .dataframe tbody tr th {\n",
       "        vertical-align: top;\n",
       "    }\n",
       "\n",
       "    .dataframe thead th {\n",
       "        text-align: right;\n",
       "    }\n",
       "</style>\n",
       "<table border=\"1\" class=\"dataframe\">\n",
       "  <thead>\n",
       "    <tr style=\"text-align: right;\">\n",
       "      <th></th>\n",
       "      <th></th>\n",
       "      <th>SPY</th>\n",
       "      <th>TLT</th>\n",
       "      <th>VXX</th>\n",
       "      <th>QQQ</th>\n",
       "    </tr>\n",
       "  </thead>\n",
       "  <tbody>\n",
       "    <tr>\n",
       "      <th rowspan=\"5\" valign=\"top\">earnings</th>\n",
       "      <th>20210105</th>\n",
       "      <td>0.081383</td>\n",
       "      <td>0.862444</td>\n",
       "      <td>1.081852</td>\n",
       "      <td>-1.953767</td>\n",
       "    </tr>\n",
       "    <tr>\n",
       "      <th>20210106</th>\n",
       "      <td>-1.242114</td>\n",
       "      <td>0.651276</td>\n",
       "      <td>-0.900574</td>\n",
       "      <td>0.549930</td>\n",
       "    </tr>\n",
       "    <tr>\n",
       "      <th>20210107</th>\n",
       "      <td>0.588063</td>\n",
       "      <td>-0.175329</td>\n",
       "      <td>-0.507396</td>\n",
       "      <td>1.872321</td>\n",
       "    </tr>\n",
       "    <tr>\n",
       "      <th>20210108</th>\n",
       "      <td>0.180908</td>\n",
       "      <td>-0.817487</td>\n",
       "      <td>-0.846619</td>\n",
       "      <td>-0.392409</td>\n",
       "    </tr>\n",
       "    <tr>\n",
       "      <th>20210109</th>\n",
       "      <td>-0.114429</td>\n",
       "      <td>0.270216</td>\n",
       "      <td>1.024779</td>\n",
       "      <td>0.419249</td>\n",
       "    </tr>\n",
       "    <tr>\n",
       "      <th rowspan=\"5\" valign=\"top\">ret_prev</th>\n",
       "      <th>20210105</th>\n",
       "      <td>0.163809</td>\n",
       "      <td>0.144486</td>\n",
       "      <td>0.889864</td>\n",
       "      <td>-0.078926</td>\n",
       "    </tr>\n",
       "    <tr>\n",
       "      <th>20210106</th>\n",
       "      <td>-0.106884</td>\n",
       "      <td>-0.399608</td>\n",
       "      <td>2.514541</td>\n",
       "      <td>-1.656418</td>\n",
       "    </tr>\n",
       "    <tr>\n",
       "      <th>20210107</th>\n",
       "      <td>0.249658</td>\n",
       "      <td>1.927134</td>\n",
       "      <td>1.243352</td>\n",
       "      <td>0.725036</td>\n",
       "    </tr>\n",
       "    <tr>\n",
       "      <th>20210108</th>\n",
       "      <td>-0.759879</td>\n",
       "      <td>-0.846231</td>\n",
       "      <td>-0.761763</td>\n",
       "      <td>-0.993918</td>\n",
       "    </tr>\n",
       "    <tr>\n",
       "      <th>20210109</th>\n",
       "      <td>0.787550</td>\n",
       "      <td>0.300930</td>\n",
       "      <td>-0.585017</td>\n",
       "      <td>-0.965583</td>\n",
       "    </tr>\n",
       "    <tr>\n",
       "      <th rowspan=\"5\" valign=\"top\">pe</th>\n",
       "      <th>20210105</th>\n",
       "      <td>0.275898</td>\n",
       "      <td>-0.230879</td>\n",
       "      <td>0.637266</td>\n",
       "      <td>-0.195477</td>\n",
       "    </tr>\n",
       "    <tr>\n",
       "      <th>20210106</th>\n",
       "      <td>-0.445255</td>\n",
       "      <td>0.103994</td>\n",
       "      <td>-1.095894</td>\n",
       "      <td>-0.485653</td>\n",
       "    </tr>\n",
       "    <tr>\n",
       "      <th>20210107</th>\n",
       "      <td>0.784970</td>\n",
       "      <td>-0.300939</td>\n",
       "      <td>0.248646</td>\n",
       "      <td>1.683065</td>\n",
       "    </tr>\n",
       "    <tr>\n",
       "      <th>20210108</th>\n",
       "      <td>0.282320</td>\n",
       "      <td>0.697247</td>\n",
       "      <td>1.273272</td>\n",
       "      <td>-0.280576</td>\n",
       "    </tr>\n",
       "    <tr>\n",
       "      <th>20210109</th>\n",
       "      <td>1.841752</td>\n",
       "      <td>-0.432276</td>\n",
       "      <td>1.414595</td>\n",
       "      <td>0.073413</td>\n",
       "    </tr>\n",
       "    <tr>\n",
       "      <th rowspan=\"5\" valign=\"top\">analyst_est</th>\n",
       "      <th>20210105</th>\n",
       "      <td>-0.037731</td>\n",
       "      <td>-0.809453</td>\n",
       "      <td>0.361939</td>\n",
       "      <td>0.505586</td>\n",
       "    </tr>\n",
       "    <tr>\n",
       "      <th>20210106</th>\n",
       "      <td>0.760447</td>\n",
       "      <td>1.561850</td>\n",
       "      <td>-0.137170</td>\n",
       "      <td>-0.101826</td>\n",
       "    </tr>\n",
       "    <tr>\n",
       "      <th>20210107</th>\n",
       "      <td>0.606410</td>\n",
       "      <td>0.569721</td>\n",
       "      <td>-0.194949</td>\n",
       "      <td>-0.292059</td>\n",
       "    </tr>\n",
       "    <tr>\n",
       "      <th>20210108</th>\n",
       "      <td>-0.779570</td>\n",
       "      <td>0.686332</td>\n",
       "      <td>-1.361639</td>\n",
       "      <td>0.302173</td>\n",
       "    </tr>\n",
       "    <tr>\n",
       "      <th>20210109</th>\n",
       "      <td>-0.082338</td>\n",
       "      <td>0.326118</td>\n",
       "      <td>-1.101656</td>\n",
       "      <td>0.030405</td>\n",
       "    </tr>\n",
       "  </tbody>\n",
       "</table>\n",
       "</div>"
      ]
     },
     "execution_count": 6,
     "metadata": {},
     "output_type": "execute_result"
    }
   ],
   "execution_count": 6
  },
  {
   "cell_type": "code",
   "metadata": {
    "ExecuteTime": {
     "end_time": "2024-11-04T23:40:55.327891Z",
     "start_time": "2024-11-04T23:40:55.317993Z"
    }
   },
   "source": [
    "multi.loc['pe']"
   ],
   "outputs": [
    {
     "data": {
      "text/plain": [
       "               SPY       TLT       VXX       QQQ\n",
       "20210105  0.275898 -0.230879  0.637266 -0.195477\n",
       "20210106 -0.445255  0.103994 -1.095894 -0.485653\n",
       "20210107  0.784970 -0.300939  0.248646  1.683065\n",
       "20210108  0.282320  0.697247  1.273272 -0.280576\n",
       "20210109  1.841752 -0.432276  1.414595  0.073413"
      ],
      "text/html": [
       "<div>\n",
       "<style scoped>\n",
       "    .dataframe tbody tr th:only-of-type {\n",
       "        vertical-align: middle;\n",
       "    }\n",
       "\n",
       "    .dataframe tbody tr th {\n",
       "        vertical-align: top;\n",
       "    }\n",
       "\n",
       "    .dataframe thead th {\n",
       "        text-align: right;\n",
       "    }\n",
       "</style>\n",
       "<table border=\"1\" class=\"dataframe\">\n",
       "  <thead>\n",
       "    <tr style=\"text-align: right;\">\n",
       "      <th></th>\n",
       "      <th>SPY</th>\n",
       "      <th>TLT</th>\n",
       "      <th>VXX</th>\n",
       "      <th>QQQ</th>\n",
       "    </tr>\n",
       "  </thead>\n",
       "  <tbody>\n",
       "    <tr>\n",
       "      <th>20210105</th>\n",
       "      <td>0.275898</td>\n",
       "      <td>-0.230879</td>\n",
       "      <td>0.637266</td>\n",
       "      <td>-0.195477</td>\n",
       "    </tr>\n",
       "    <tr>\n",
       "      <th>20210106</th>\n",
       "      <td>-0.445255</td>\n",
       "      <td>0.103994</td>\n",
       "      <td>-1.095894</td>\n",
       "      <td>-0.485653</td>\n",
       "    </tr>\n",
       "    <tr>\n",
       "      <th>20210107</th>\n",
       "      <td>0.784970</td>\n",
       "      <td>-0.300939</td>\n",
       "      <td>0.248646</td>\n",
       "      <td>1.683065</td>\n",
       "    </tr>\n",
       "    <tr>\n",
       "      <th>20210108</th>\n",
       "      <td>0.282320</td>\n",
       "      <td>0.697247</td>\n",
       "      <td>1.273272</td>\n",
       "      <td>-0.280576</td>\n",
       "    </tr>\n",
       "    <tr>\n",
       "      <th>20210109</th>\n",
       "      <td>1.841752</td>\n",
       "      <td>-0.432276</td>\n",
       "      <td>1.414595</td>\n",
       "      <td>0.073413</td>\n",
       "    </tr>\n",
       "  </tbody>\n",
       "</table>\n",
       "</div>"
      ]
     },
     "execution_count": 7,
     "metadata": {},
     "output_type": "execute_result"
    }
   ],
   "execution_count": 7
  },
  {
   "cell_type": "code",
   "metadata": {
    "ExecuteTime": {
     "end_time": "2024-11-04T23:41:01.191308Z",
     "start_time": "2024-11-04T23:41:01.178993Z"
    }
   },
   "source": [
    "multi.loc['ret_prev':'analyst_est']"
   ],
   "outputs": [
    {
     "data": {
      "text/plain": [
       "                           SPY       TLT       VXX       QQQ\n",
       "ret_prev    20210105  0.163809  0.144486  0.889864 -0.078926\n",
       "            20210106 -0.106884 -0.399608  2.514541 -1.656418\n",
       "            20210107  0.249658  1.927134  1.243352  0.725036\n",
       "            20210108 -0.759879 -0.846231 -0.761763 -0.993918\n",
       "            20210109  0.787550  0.300930 -0.585017 -0.965583\n",
       "pe          20210105  0.275898 -0.230879  0.637266 -0.195477\n",
       "            20210106 -0.445255  0.103994 -1.095894 -0.485653\n",
       "            20210107  0.784970 -0.300939  0.248646  1.683065\n",
       "            20210108  0.282320  0.697247  1.273272 -0.280576\n",
       "            20210109  1.841752 -0.432276  1.414595  0.073413\n",
       "analyst_est 20210105 -0.037731 -0.809453  0.361939  0.505586\n",
       "            20210106  0.760447  1.561850 -0.137170 -0.101826\n",
       "            20210107  0.606410  0.569721 -0.194949 -0.292059\n",
       "            20210108 -0.779570  0.686332 -1.361639  0.302173\n",
       "            20210109 -0.082338  0.326118 -1.101656  0.030405"
      ],
      "text/html": [
       "<div>\n",
       "<style scoped>\n",
       "    .dataframe tbody tr th:only-of-type {\n",
       "        vertical-align: middle;\n",
       "    }\n",
       "\n",
       "    .dataframe tbody tr th {\n",
       "        vertical-align: top;\n",
       "    }\n",
       "\n",
       "    .dataframe thead th {\n",
       "        text-align: right;\n",
       "    }\n",
       "</style>\n",
       "<table border=\"1\" class=\"dataframe\">\n",
       "  <thead>\n",
       "    <tr style=\"text-align: right;\">\n",
       "      <th></th>\n",
       "      <th></th>\n",
       "      <th>SPY</th>\n",
       "      <th>TLT</th>\n",
       "      <th>VXX</th>\n",
       "      <th>QQQ</th>\n",
       "    </tr>\n",
       "  </thead>\n",
       "  <tbody>\n",
       "    <tr>\n",
       "      <th rowspan=\"5\" valign=\"top\">ret_prev</th>\n",
       "      <th>20210105</th>\n",
       "      <td>0.163809</td>\n",
       "      <td>0.144486</td>\n",
       "      <td>0.889864</td>\n",
       "      <td>-0.078926</td>\n",
       "    </tr>\n",
       "    <tr>\n",
       "      <th>20210106</th>\n",
       "      <td>-0.106884</td>\n",
       "      <td>-0.399608</td>\n",
       "      <td>2.514541</td>\n",
       "      <td>-1.656418</td>\n",
       "    </tr>\n",
       "    <tr>\n",
       "      <th>20210107</th>\n",
       "      <td>0.249658</td>\n",
       "      <td>1.927134</td>\n",
       "      <td>1.243352</td>\n",
       "      <td>0.725036</td>\n",
       "    </tr>\n",
       "    <tr>\n",
       "      <th>20210108</th>\n",
       "      <td>-0.759879</td>\n",
       "      <td>-0.846231</td>\n",
       "      <td>-0.761763</td>\n",
       "      <td>-0.993918</td>\n",
       "    </tr>\n",
       "    <tr>\n",
       "      <th>20210109</th>\n",
       "      <td>0.787550</td>\n",
       "      <td>0.300930</td>\n",
       "      <td>-0.585017</td>\n",
       "      <td>-0.965583</td>\n",
       "    </tr>\n",
       "    <tr>\n",
       "      <th rowspan=\"5\" valign=\"top\">pe</th>\n",
       "      <th>20210105</th>\n",
       "      <td>0.275898</td>\n",
       "      <td>-0.230879</td>\n",
       "      <td>0.637266</td>\n",
       "      <td>-0.195477</td>\n",
       "    </tr>\n",
       "    <tr>\n",
       "      <th>20210106</th>\n",
       "      <td>-0.445255</td>\n",
       "      <td>0.103994</td>\n",
       "      <td>-1.095894</td>\n",
       "      <td>-0.485653</td>\n",
       "    </tr>\n",
       "    <tr>\n",
       "      <th>20210107</th>\n",
       "      <td>0.784970</td>\n",
       "      <td>-0.300939</td>\n",
       "      <td>0.248646</td>\n",
       "      <td>1.683065</td>\n",
       "    </tr>\n",
       "    <tr>\n",
       "      <th>20210108</th>\n",
       "      <td>0.282320</td>\n",
       "      <td>0.697247</td>\n",
       "      <td>1.273272</td>\n",
       "      <td>-0.280576</td>\n",
       "    </tr>\n",
       "    <tr>\n",
       "      <th>20210109</th>\n",
       "      <td>1.841752</td>\n",
       "      <td>-0.432276</td>\n",
       "      <td>1.414595</td>\n",
       "      <td>0.073413</td>\n",
       "    </tr>\n",
       "    <tr>\n",
       "      <th rowspan=\"5\" valign=\"top\">analyst_est</th>\n",
       "      <th>20210105</th>\n",
       "      <td>-0.037731</td>\n",
       "      <td>-0.809453</td>\n",
       "      <td>0.361939</td>\n",
       "      <td>0.505586</td>\n",
       "    </tr>\n",
       "    <tr>\n",
       "      <th>20210106</th>\n",
       "      <td>0.760447</td>\n",
       "      <td>1.561850</td>\n",
       "      <td>-0.137170</td>\n",
       "      <td>-0.101826</td>\n",
       "    </tr>\n",
       "    <tr>\n",
       "      <th>20210107</th>\n",
       "      <td>0.606410</td>\n",
       "      <td>0.569721</td>\n",
       "      <td>-0.194949</td>\n",
       "      <td>-0.292059</td>\n",
       "    </tr>\n",
       "    <tr>\n",
       "      <th>20210108</th>\n",
       "      <td>-0.779570</td>\n",
       "      <td>0.686332</td>\n",
       "      <td>-1.361639</td>\n",
       "      <td>0.302173</td>\n",
       "    </tr>\n",
       "    <tr>\n",
       "      <th>20210109</th>\n",
       "      <td>-0.082338</td>\n",
       "      <td>0.326118</td>\n",
       "      <td>-1.101656</td>\n",
       "      <td>0.030405</td>\n",
       "    </tr>\n",
       "  </tbody>\n",
       "</table>\n",
       "</div>"
      ]
     },
     "execution_count": 8,
     "metadata": {},
     "output_type": "execute_result"
    }
   ],
   "execution_count": 8
  },
  {
   "cell_type": "code",
   "metadata": {
    "ExecuteTime": {
     "end_time": "2024-11-04T23:41:12.945502Z",
     "start_time": "2024-11-04T23:41:12.937433Z"
    }
   },
   "source": [
    "multi.loc[('ret_prev','20210107'),['SPY','TLT']]"
   ],
   "outputs": [
    {
     "data": {
      "text/plain": [
       "SPY    0.249658\n",
       "TLT    1.927134\n",
       "Name: (ret_prev, 20210107), dtype: float64"
      ]
     },
     "execution_count": 9,
     "metadata": {},
     "output_type": "execute_result"
    }
   ],
   "execution_count": 9
  },
  {
   "cell_type": "code",
   "metadata": {
    "ExecuteTime": {
     "end_time": "2024-11-04T23:41:19.805129Z",
     "start_time": "2024-11-04T23:41:19.799781Z"
    }
   },
   "source": [
    "ser = multi['SPY']\n",
    "ser"
   ],
   "outputs": [
    {
     "data": {
      "text/plain": [
       "earnings     20210105    0.081383\n",
       "             20210106   -1.242114\n",
       "             20210107    0.588063\n",
       "             20210108    0.180908\n",
       "             20210109   -0.114429\n",
       "ret_prev     20210105    0.163809\n",
       "             20210106   -0.106884\n",
       "             20210107    0.249658\n",
       "             20210108   -0.759879\n",
       "             20210109    0.787550\n",
       "pe           20210105    0.275898\n",
       "             20210106   -0.445255\n",
       "             20210107    0.784970\n",
       "             20210108    0.282320\n",
       "             20210109    1.841752\n",
       "analyst_est  20210105   -0.037731\n",
       "             20210106    0.760447\n",
       "             20210107    0.606410\n",
       "             20210108   -0.779570\n",
       "             20210109   -0.082338\n",
       "Name: SPY, dtype: float64"
      ]
     },
     "execution_count": 10,
     "metadata": {},
     "output_type": "execute_result"
    }
   ],
   "execution_count": 10
  },
  {
   "cell_type": "code",
   "metadata": {
    "ExecuteTime": {
     "end_time": "2024-11-04T23:41:24.856857Z",
     "start_time": "2024-11-04T23:41:24.850800Z"
    }
   },
   "source": [
    "ser['pe']"
   ],
   "outputs": [
    {
     "data": {
      "text/plain": [
       "20210105    0.275898\n",
       "20210106   -0.445255\n",
       "20210107    0.784970\n",
       "20210108    0.282320\n",
       "20210109    1.841752\n",
       "Name: SPY, dtype: float64"
      ]
     },
     "execution_count": 11,
     "metadata": {},
     "output_type": "execute_result"
    }
   ],
   "execution_count": 11
  },
  {
   "cell_type": "code",
   "metadata": {
    "ExecuteTime": {
     "end_time": "2024-11-04T23:41:31.791604Z",
     "start_time": "2024-11-04T23:41:31.781237Z"
    }
   },
   "source": [
    "# unstack a multindex series into a dataframe\n",
    "ser.unstack(level=0)"
   ],
   "outputs": [
    {
     "data": {
      "text/plain": [
       "          earnings  ret_prev        pe  analyst_est\n",
       "20210105  0.081383  0.163809  0.275898    -0.037731\n",
       "20210106 -1.242114 -0.106884 -0.445255     0.760447\n",
       "20210107  0.588063  0.249658  0.784970     0.606410\n",
       "20210108  0.180908 -0.759879  0.282320    -0.779570\n",
       "20210109 -0.114429  0.787550  1.841752    -0.082338"
      ],
      "text/html": [
       "<div>\n",
       "<style scoped>\n",
       "    .dataframe tbody tr th:only-of-type {\n",
       "        vertical-align: middle;\n",
       "    }\n",
       "\n",
       "    .dataframe tbody tr th {\n",
       "        vertical-align: top;\n",
       "    }\n",
       "\n",
       "    .dataframe thead th {\n",
       "        text-align: right;\n",
       "    }\n",
       "</style>\n",
       "<table border=\"1\" class=\"dataframe\">\n",
       "  <thead>\n",
       "    <tr style=\"text-align: right;\">\n",
       "      <th></th>\n",
       "      <th>earnings</th>\n",
       "      <th>ret_prev</th>\n",
       "      <th>pe</th>\n",
       "      <th>analyst_est</th>\n",
       "    </tr>\n",
       "  </thead>\n",
       "  <tbody>\n",
       "    <tr>\n",
       "      <th>20210105</th>\n",
       "      <td>0.081383</td>\n",
       "      <td>0.163809</td>\n",
       "      <td>0.275898</td>\n",
       "      <td>-0.037731</td>\n",
       "    </tr>\n",
       "    <tr>\n",
       "      <th>20210106</th>\n",
       "      <td>-1.242114</td>\n",
       "      <td>-0.106884</td>\n",
       "      <td>-0.445255</td>\n",
       "      <td>0.760447</td>\n",
       "    </tr>\n",
       "    <tr>\n",
       "      <th>20210107</th>\n",
       "      <td>0.588063</td>\n",
       "      <td>0.249658</td>\n",
       "      <td>0.784970</td>\n",
       "      <td>0.606410</td>\n",
       "    </tr>\n",
       "    <tr>\n",
       "      <th>20210108</th>\n",
       "      <td>0.180908</td>\n",
       "      <td>-0.759879</td>\n",
       "      <td>0.282320</td>\n",
       "      <td>-0.779570</td>\n",
       "    </tr>\n",
       "    <tr>\n",
       "      <th>20210109</th>\n",
       "      <td>-0.114429</td>\n",
       "      <td>0.787550</td>\n",
       "      <td>1.841752</td>\n",
       "      <td>-0.082338</td>\n",
       "    </tr>\n",
       "  </tbody>\n",
       "</table>\n",
       "</div>"
      ]
     },
     "execution_count": 12,
     "metadata": {},
     "output_type": "execute_result"
    }
   ],
   "execution_count": 12
  },
  {
   "cell_type": "code",
   "metadata": {
    "ExecuteTime": {
     "end_time": "2024-11-04T23:41:36.757298Z",
     "start_time": "2024-11-04T23:41:36.750513Z"
    }
   },
   "source": [
    "ser.unstack(level=0).stack()"
   ],
   "outputs": [
    {
     "data": {
      "text/plain": [
       "20210105  earnings       0.081383\n",
       "          ret_prev       0.163809\n",
       "          pe             0.275898\n",
       "          analyst_est   -0.037731\n",
       "20210106  earnings      -1.242114\n",
       "          ret_prev      -0.106884\n",
       "          pe            -0.445255\n",
       "          analyst_est    0.760447\n",
       "20210107  earnings       0.588063\n",
       "          ret_prev       0.249658\n",
       "          pe             0.784970\n",
       "          analyst_est    0.606410\n",
       "20210108  earnings       0.180908\n",
       "          ret_prev      -0.759879\n",
       "          pe             0.282320\n",
       "          analyst_est   -0.779570\n",
       "20210109  earnings      -0.114429\n",
       "          ret_prev       0.787550\n",
       "          pe             1.841752\n",
       "          analyst_est   -0.082338\n",
       "dtype: float64"
      ]
     },
     "execution_count": 13,
     "metadata": {},
     "output_type": "execute_result"
    }
   ],
   "execution_count": 13
  },
  {
   "cell_type": "code",
   "metadata": {
    "ExecuteTime": {
     "end_time": "2024-11-04T23:42:33.200539Z",
     "start_time": "2024-11-04T23:42:33.192761Z"
    }
   },
   "source": "multi = pd.concat(data)",
   "outputs": [],
   "execution_count": 15
  },
  {
   "cell_type": "code",
   "metadata": {
    "scrolled": true,
    "ExecuteTime": {
     "end_time": "2024-11-04T23:42:36.222071Z",
     "start_time": "2024-11-04T23:42:36.213174Z"
    }
   },
   "source": [
    "multi"
   ],
   "outputs": [
    {
     "data": {
      "text/plain": [
       "                           SPY       TLT       VXX       QQQ\n",
       "earnings    20210105  0.081383  0.862444  1.081852 -1.953767\n",
       "            20210106 -1.242114  0.651276 -0.900574  0.549930\n",
       "            20210107  0.588063 -0.175329 -0.507396  1.872321\n",
       "            20210108  0.180908 -0.817487 -0.846619 -0.392409\n",
       "            20210109 -0.114429  0.270216  1.024779  0.419249\n",
       "ret_prev    20210105  0.163809  0.144486  0.889864 -0.078926\n",
       "            20210106 -0.106884 -0.399608  2.514541 -1.656418\n",
       "            20210107  0.249658  1.927134  1.243352  0.725036\n",
       "            20210108 -0.759879 -0.846231 -0.761763 -0.993918\n",
       "            20210109  0.787550  0.300930 -0.585017 -0.965583\n",
       "pe          20210105  0.275898 -0.230879  0.637266 -0.195477\n",
       "            20210106 -0.445255  0.103994 -1.095894 -0.485653\n",
       "            20210107  0.784970 -0.300939  0.248646  1.683065\n",
       "            20210108  0.282320  0.697247  1.273272 -0.280576\n",
       "            20210109  1.841752 -0.432276  1.414595  0.073413\n",
       "analyst_est 20210105 -0.037731 -0.809453  0.361939  0.505586\n",
       "            20210106  0.760447  1.561850 -0.137170 -0.101826\n",
       "            20210107  0.606410  0.569721 -0.194949 -0.292059\n",
       "            20210108 -0.779570  0.686332 -1.361639  0.302173\n",
       "            20210109 -0.082338  0.326118 -1.101656  0.030405"
      ],
      "text/html": [
       "<div>\n",
       "<style scoped>\n",
       "    .dataframe tbody tr th:only-of-type {\n",
       "        vertical-align: middle;\n",
       "    }\n",
       "\n",
       "    .dataframe tbody tr th {\n",
       "        vertical-align: top;\n",
       "    }\n",
       "\n",
       "    .dataframe thead th {\n",
       "        text-align: right;\n",
       "    }\n",
       "</style>\n",
       "<table border=\"1\" class=\"dataframe\">\n",
       "  <thead>\n",
       "    <tr style=\"text-align: right;\">\n",
       "      <th></th>\n",
       "      <th></th>\n",
       "      <th>SPY</th>\n",
       "      <th>TLT</th>\n",
       "      <th>VXX</th>\n",
       "      <th>QQQ</th>\n",
       "    </tr>\n",
       "  </thead>\n",
       "  <tbody>\n",
       "    <tr>\n",
       "      <th rowspan=\"5\" valign=\"top\">earnings</th>\n",
       "      <th>20210105</th>\n",
       "      <td>0.081383</td>\n",
       "      <td>0.862444</td>\n",
       "      <td>1.081852</td>\n",
       "      <td>-1.953767</td>\n",
       "    </tr>\n",
       "    <tr>\n",
       "      <th>20210106</th>\n",
       "      <td>-1.242114</td>\n",
       "      <td>0.651276</td>\n",
       "      <td>-0.900574</td>\n",
       "      <td>0.549930</td>\n",
       "    </tr>\n",
       "    <tr>\n",
       "      <th>20210107</th>\n",
       "      <td>0.588063</td>\n",
       "      <td>-0.175329</td>\n",
       "      <td>-0.507396</td>\n",
       "      <td>1.872321</td>\n",
       "    </tr>\n",
       "    <tr>\n",
       "      <th>20210108</th>\n",
       "      <td>0.180908</td>\n",
       "      <td>-0.817487</td>\n",
       "      <td>-0.846619</td>\n",
       "      <td>-0.392409</td>\n",
       "    </tr>\n",
       "    <tr>\n",
       "      <th>20210109</th>\n",
       "      <td>-0.114429</td>\n",
       "      <td>0.270216</td>\n",
       "      <td>1.024779</td>\n",
       "      <td>0.419249</td>\n",
       "    </tr>\n",
       "    <tr>\n",
       "      <th rowspan=\"5\" valign=\"top\">ret_prev</th>\n",
       "      <th>20210105</th>\n",
       "      <td>0.163809</td>\n",
       "      <td>0.144486</td>\n",
       "      <td>0.889864</td>\n",
       "      <td>-0.078926</td>\n",
       "    </tr>\n",
       "    <tr>\n",
       "      <th>20210106</th>\n",
       "      <td>-0.106884</td>\n",
       "      <td>-0.399608</td>\n",
       "      <td>2.514541</td>\n",
       "      <td>-1.656418</td>\n",
       "    </tr>\n",
       "    <tr>\n",
       "      <th>20210107</th>\n",
       "      <td>0.249658</td>\n",
       "      <td>1.927134</td>\n",
       "      <td>1.243352</td>\n",
       "      <td>0.725036</td>\n",
       "    </tr>\n",
       "    <tr>\n",
       "      <th>20210108</th>\n",
       "      <td>-0.759879</td>\n",
       "      <td>-0.846231</td>\n",
       "      <td>-0.761763</td>\n",
       "      <td>-0.993918</td>\n",
       "    </tr>\n",
       "    <tr>\n",
       "      <th>20210109</th>\n",
       "      <td>0.787550</td>\n",
       "      <td>0.300930</td>\n",
       "      <td>-0.585017</td>\n",
       "      <td>-0.965583</td>\n",
       "    </tr>\n",
       "    <tr>\n",
       "      <th rowspan=\"5\" valign=\"top\">pe</th>\n",
       "      <th>20210105</th>\n",
       "      <td>0.275898</td>\n",
       "      <td>-0.230879</td>\n",
       "      <td>0.637266</td>\n",
       "      <td>-0.195477</td>\n",
       "    </tr>\n",
       "    <tr>\n",
       "      <th>20210106</th>\n",
       "      <td>-0.445255</td>\n",
       "      <td>0.103994</td>\n",
       "      <td>-1.095894</td>\n",
       "      <td>-0.485653</td>\n",
       "    </tr>\n",
       "    <tr>\n",
       "      <th>20210107</th>\n",
       "      <td>0.784970</td>\n",
       "      <td>-0.300939</td>\n",
       "      <td>0.248646</td>\n",
       "      <td>1.683065</td>\n",
       "    </tr>\n",
       "    <tr>\n",
       "      <th>20210108</th>\n",
       "      <td>0.282320</td>\n",
       "      <td>0.697247</td>\n",
       "      <td>1.273272</td>\n",
       "      <td>-0.280576</td>\n",
       "    </tr>\n",
       "    <tr>\n",
       "      <th>20210109</th>\n",
       "      <td>1.841752</td>\n",
       "      <td>-0.432276</td>\n",
       "      <td>1.414595</td>\n",
       "      <td>0.073413</td>\n",
       "    </tr>\n",
       "    <tr>\n",
       "      <th rowspan=\"5\" valign=\"top\">analyst_est</th>\n",
       "      <th>20210105</th>\n",
       "      <td>-0.037731</td>\n",
       "      <td>-0.809453</td>\n",
       "      <td>0.361939</td>\n",
       "      <td>0.505586</td>\n",
       "    </tr>\n",
       "    <tr>\n",
       "      <th>20210106</th>\n",
       "      <td>0.760447</td>\n",
       "      <td>1.561850</td>\n",
       "      <td>-0.137170</td>\n",
       "      <td>-0.101826</td>\n",
       "    </tr>\n",
       "    <tr>\n",
       "      <th>20210107</th>\n",
       "      <td>0.606410</td>\n",
       "      <td>0.569721</td>\n",
       "      <td>-0.194949</td>\n",
       "      <td>-0.292059</td>\n",
       "    </tr>\n",
       "    <tr>\n",
       "      <th>20210108</th>\n",
       "      <td>-0.779570</td>\n",
       "      <td>0.686332</td>\n",
       "      <td>-1.361639</td>\n",
       "      <td>0.302173</td>\n",
       "    </tr>\n",
       "    <tr>\n",
       "      <th>20210109</th>\n",
       "      <td>-0.082338</td>\n",
       "      <td>0.326118</td>\n",
       "      <td>-1.101656</td>\n",
       "      <td>0.030405</td>\n",
       "    </tr>\n",
       "  </tbody>\n",
       "</table>\n",
       "</div>"
      ]
     },
     "execution_count": 16,
     "metadata": {},
     "output_type": "execute_result"
    }
   ],
   "execution_count": 16
  },
  {
   "cell_type": "code",
   "metadata": {
    "ExecuteTime": {
     "end_time": "2024-11-04T23:43:09.337164Z",
     "start_time": "2024-11-04T23:43:09.304445Z"
    }
   },
   "source": [
    "# indexing\n",
    "multi['pe']"
   ],
   "outputs": [
    {
     "ename": "KeyError",
     "evalue": "'pe'",
     "output_type": "error",
     "traceback": [
      "\u001B[0;31m---------------------------------------------------------------------------\u001B[0m",
      "\u001B[0;31mKeyError\u001B[0m                                  Traceback (most recent call last)",
      "File \u001B[0;32m/opt/anaconda3/lib/python3.12/site-packages/pandas/core/indexes/base.py:3805\u001B[0m, in \u001B[0;36mIndex.get_loc\u001B[0;34m(self, key)\u001B[0m\n\u001B[1;32m   3804\u001B[0m \u001B[38;5;28;01mtry\u001B[39;00m:\n\u001B[0;32m-> 3805\u001B[0m     \u001B[38;5;28;01mreturn\u001B[39;00m \u001B[38;5;28mself\u001B[39m\u001B[38;5;241m.\u001B[39m_engine\u001B[38;5;241m.\u001B[39mget_loc(casted_key)\n\u001B[1;32m   3806\u001B[0m \u001B[38;5;28;01mexcept\u001B[39;00m \u001B[38;5;167;01mKeyError\u001B[39;00m \u001B[38;5;28;01mas\u001B[39;00m err:\n",
      "File \u001B[0;32mindex.pyx:167\u001B[0m, in \u001B[0;36mpandas._libs.index.IndexEngine.get_loc\u001B[0;34m()\u001B[0m\n",
      "File \u001B[0;32mindex.pyx:196\u001B[0m, in \u001B[0;36mpandas._libs.index.IndexEngine.get_loc\u001B[0;34m()\u001B[0m\n",
      "File \u001B[0;32mpandas/_libs/hashtable_class_helper.pxi:7081\u001B[0m, in \u001B[0;36mpandas._libs.hashtable.PyObjectHashTable.get_item\u001B[0;34m()\u001B[0m\n",
      "File \u001B[0;32mpandas/_libs/hashtable_class_helper.pxi:7089\u001B[0m, in \u001B[0;36mpandas._libs.hashtable.PyObjectHashTable.get_item\u001B[0;34m()\u001B[0m\n",
      "\u001B[0;31mKeyError\u001B[0m: 'pe'",
      "\nThe above exception was the direct cause of the following exception:\n",
      "\u001B[0;31mKeyError\u001B[0m                                  Traceback (most recent call last)",
      "Cell \u001B[0;32mIn[21], line 2\u001B[0m\n\u001B[1;32m      1\u001B[0m \u001B[38;5;66;03m# indexing\u001B[39;00m\n\u001B[0;32m----> 2\u001B[0m multi[\u001B[38;5;124m'\u001B[39m\u001B[38;5;124mpe\u001B[39m\u001B[38;5;124m'\u001B[39m]\n",
      "File \u001B[0;32m/opt/anaconda3/lib/python3.12/site-packages/pandas/core/frame.py:4102\u001B[0m, in \u001B[0;36mDataFrame.__getitem__\u001B[0;34m(self, key)\u001B[0m\n\u001B[1;32m   4100\u001B[0m \u001B[38;5;28;01mif\u001B[39;00m \u001B[38;5;28mself\u001B[39m\u001B[38;5;241m.\u001B[39mcolumns\u001B[38;5;241m.\u001B[39mnlevels \u001B[38;5;241m>\u001B[39m \u001B[38;5;241m1\u001B[39m:\n\u001B[1;32m   4101\u001B[0m     \u001B[38;5;28;01mreturn\u001B[39;00m \u001B[38;5;28mself\u001B[39m\u001B[38;5;241m.\u001B[39m_getitem_multilevel(key)\n\u001B[0;32m-> 4102\u001B[0m indexer \u001B[38;5;241m=\u001B[39m \u001B[38;5;28mself\u001B[39m\u001B[38;5;241m.\u001B[39mcolumns\u001B[38;5;241m.\u001B[39mget_loc(key)\n\u001B[1;32m   4103\u001B[0m \u001B[38;5;28;01mif\u001B[39;00m is_integer(indexer):\n\u001B[1;32m   4104\u001B[0m     indexer \u001B[38;5;241m=\u001B[39m [indexer]\n",
      "File \u001B[0;32m/opt/anaconda3/lib/python3.12/site-packages/pandas/core/indexes/base.py:3812\u001B[0m, in \u001B[0;36mIndex.get_loc\u001B[0;34m(self, key)\u001B[0m\n\u001B[1;32m   3807\u001B[0m     \u001B[38;5;28;01mif\u001B[39;00m \u001B[38;5;28misinstance\u001B[39m(casted_key, \u001B[38;5;28mslice\u001B[39m) \u001B[38;5;129;01mor\u001B[39;00m (\n\u001B[1;32m   3808\u001B[0m         \u001B[38;5;28misinstance\u001B[39m(casted_key, abc\u001B[38;5;241m.\u001B[39mIterable)\n\u001B[1;32m   3809\u001B[0m         \u001B[38;5;129;01mand\u001B[39;00m \u001B[38;5;28many\u001B[39m(\u001B[38;5;28misinstance\u001B[39m(x, \u001B[38;5;28mslice\u001B[39m) \u001B[38;5;28;01mfor\u001B[39;00m x \u001B[38;5;129;01min\u001B[39;00m casted_key)\n\u001B[1;32m   3810\u001B[0m     ):\n\u001B[1;32m   3811\u001B[0m         \u001B[38;5;28;01mraise\u001B[39;00m InvalidIndexError(key)\n\u001B[0;32m-> 3812\u001B[0m     \u001B[38;5;28;01mraise\u001B[39;00m \u001B[38;5;167;01mKeyError\u001B[39;00m(key) \u001B[38;5;28;01mfrom\u001B[39;00m \u001B[38;5;21;01merr\u001B[39;00m\n\u001B[1;32m   3813\u001B[0m \u001B[38;5;28;01mexcept\u001B[39;00m \u001B[38;5;167;01mTypeError\u001B[39;00m:\n\u001B[1;32m   3814\u001B[0m     \u001B[38;5;66;03m# If we have a listlike key, _check_indexing_error will raise\u001B[39;00m\n\u001B[1;32m   3815\u001B[0m     \u001B[38;5;66;03m#  InvalidIndexError. Otherwise we fall through and re-raise\u001B[39;00m\n\u001B[1;32m   3816\u001B[0m     \u001B[38;5;66;03m#  the TypeError.\u001B[39;00m\n\u001B[1;32m   3817\u001B[0m     \u001B[38;5;28mself\u001B[39m\u001B[38;5;241m.\u001B[39m_check_indexing_error(key)\n",
      "\u001B[0;31mKeyError\u001B[0m: 'pe'"
     ]
    }
   ],
   "execution_count": 21
  },
  {
   "cell_type": "code",
   "metadata": {
    "ExecuteTime": {
     "end_time": "2024-11-04T23:42:40.209300Z",
     "start_time": "2024-11-04T23:42:40.179630Z"
    }
   },
   "source": [
    "multi[['pe','earnings']]"
   ],
   "outputs": [
    {
     "ename": "KeyError",
     "evalue": "\"None of [Index(['pe', 'earnings'], dtype='object')] are in the [columns]\"",
     "output_type": "error",
     "traceback": [
      "\u001B[0;31m---------------------------------------------------------------------------\u001B[0m",
      "\u001B[0;31mKeyError\u001B[0m                                  Traceback (most recent call last)",
      "Cell \u001B[0;32mIn[18], line 1\u001B[0m\n\u001B[0;32m----> 1\u001B[0m multi[[\u001B[38;5;124m'\u001B[39m\u001B[38;5;124mpe\u001B[39m\u001B[38;5;124m'\u001B[39m,\u001B[38;5;124m'\u001B[39m\u001B[38;5;124mearnings\u001B[39m\u001B[38;5;124m'\u001B[39m]]\n",
      "File \u001B[0;32m/opt/anaconda3/lib/python3.12/site-packages/pandas/core/frame.py:4108\u001B[0m, in \u001B[0;36mDataFrame.__getitem__\u001B[0;34m(self, key)\u001B[0m\n\u001B[1;32m   4106\u001B[0m     \u001B[38;5;28;01mif\u001B[39;00m is_iterator(key):\n\u001B[1;32m   4107\u001B[0m         key \u001B[38;5;241m=\u001B[39m \u001B[38;5;28mlist\u001B[39m(key)\n\u001B[0;32m-> 4108\u001B[0m     indexer \u001B[38;5;241m=\u001B[39m \u001B[38;5;28mself\u001B[39m\u001B[38;5;241m.\u001B[39mcolumns\u001B[38;5;241m.\u001B[39m_get_indexer_strict(key, \u001B[38;5;124m\"\u001B[39m\u001B[38;5;124mcolumns\u001B[39m\u001B[38;5;124m\"\u001B[39m)[\u001B[38;5;241m1\u001B[39m]\n\u001B[1;32m   4110\u001B[0m \u001B[38;5;66;03m# take() does not accept boolean indexers\u001B[39;00m\n\u001B[1;32m   4111\u001B[0m \u001B[38;5;28;01mif\u001B[39;00m \u001B[38;5;28mgetattr\u001B[39m(indexer, \u001B[38;5;124m\"\u001B[39m\u001B[38;5;124mdtype\u001B[39m\u001B[38;5;124m\"\u001B[39m, \u001B[38;5;28;01mNone\u001B[39;00m) \u001B[38;5;241m==\u001B[39m \u001B[38;5;28mbool\u001B[39m:\n",
      "File \u001B[0;32m/opt/anaconda3/lib/python3.12/site-packages/pandas/core/indexes/base.py:6200\u001B[0m, in \u001B[0;36mIndex._get_indexer_strict\u001B[0;34m(self, key, axis_name)\u001B[0m\n\u001B[1;32m   6197\u001B[0m \u001B[38;5;28;01melse\u001B[39;00m:\n\u001B[1;32m   6198\u001B[0m     keyarr, indexer, new_indexer \u001B[38;5;241m=\u001B[39m \u001B[38;5;28mself\u001B[39m\u001B[38;5;241m.\u001B[39m_reindex_non_unique(keyarr)\n\u001B[0;32m-> 6200\u001B[0m \u001B[38;5;28mself\u001B[39m\u001B[38;5;241m.\u001B[39m_raise_if_missing(keyarr, indexer, axis_name)\n\u001B[1;32m   6202\u001B[0m keyarr \u001B[38;5;241m=\u001B[39m \u001B[38;5;28mself\u001B[39m\u001B[38;5;241m.\u001B[39mtake(indexer)\n\u001B[1;32m   6203\u001B[0m \u001B[38;5;28;01mif\u001B[39;00m \u001B[38;5;28misinstance\u001B[39m(key, Index):\n\u001B[1;32m   6204\u001B[0m     \u001B[38;5;66;03m# GH 42790 - Preserve name from an Index\u001B[39;00m\n",
      "File \u001B[0;32m/opt/anaconda3/lib/python3.12/site-packages/pandas/core/indexes/base.py:6249\u001B[0m, in \u001B[0;36mIndex._raise_if_missing\u001B[0;34m(self, key, indexer, axis_name)\u001B[0m\n\u001B[1;32m   6247\u001B[0m \u001B[38;5;28;01mif\u001B[39;00m nmissing:\n\u001B[1;32m   6248\u001B[0m     \u001B[38;5;28;01mif\u001B[39;00m nmissing \u001B[38;5;241m==\u001B[39m \u001B[38;5;28mlen\u001B[39m(indexer):\n\u001B[0;32m-> 6249\u001B[0m         \u001B[38;5;28;01mraise\u001B[39;00m \u001B[38;5;167;01mKeyError\u001B[39;00m(\u001B[38;5;124mf\u001B[39m\u001B[38;5;124m\"\u001B[39m\u001B[38;5;124mNone of [\u001B[39m\u001B[38;5;132;01m{\u001B[39;00mkey\u001B[38;5;132;01m}\u001B[39;00m\u001B[38;5;124m] are in the [\u001B[39m\u001B[38;5;132;01m{\u001B[39;00maxis_name\u001B[38;5;132;01m}\u001B[39;00m\u001B[38;5;124m]\u001B[39m\u001B[38;5;124m\"\u001B[39m)\n\u001B[1;32m   6251\u001B[0m     not_found \u001B[38;5;241m=\u001B[39m \u001B[38;5;28mlist\u001B[39m(ensure_index(key)[missing_mask\u001B[38;5;241m.\u001B[39mnonzero()[\u001B[38;5;241m0\u001B[39m]]\u001B[38;5;241m.\u001B[39munique())\n\u001B[1;32m   6252\u001B[0m     \u001B[38;5;28;01mraise\u001B[39;00m \u001B[38;5;167;01mKeyError\u001B[39;00m(\u001B[38;5;124mf\u001B[39m\u001B[38;5;124m\"\u001B[39m\u001B[38;5;132;01m{\u001B[39;00mnot_found\u001B[38;5;132;01m}\u001B[39;00m\u001B[38;5;124m not in index\u001B[39m\u001B[38;5;124m\"\u001B[39m)\n",
      "\u001B[0;31mKeyError\u001B[0m: \"None of [Index(['pe', 'earnings'], dtype='object')] are in the [columns]\""
     ]
    }
   ],
   "execution_count": 18
  },
  {
   "cell_type": "code",
   "metadata": {
    "ExecuteTime": {
     "end_time": "2024-11-04T23:42:46.869874Z",
     "start_time": "2024-11-04T23:42:46.860605Z"
    }
   },
   "source": [
    "# rearrange axes\n",
    "multi.swaplevel(0,1,1)"
   ],
   "outputs": [
    {
     "ename": "TypeError",
     "evalue": "Can only swap levels on a hierarchical axis.",
     "output_type": "error",
     "traceback": [
      "\u001B[0;31m---------------------------------------------------------------------------\u001B[0m",
      "\u001B[0;31mTypeError\u001B[0m                                 Traceback (most recent call last)",
      "\u001B[0;32m/var/folders/4f/9230q1tn743gqfht8kjmqts40000gn/T/ipykernel_76065/3508792214.py\u001B[0m in \u001B[0;36m?\u001B[0;34m()\u001B[0m\n\u001B[1;32m      1\u001B[0m \u001B[0;31m# rearrange axes\u001B[0m\u001B[0;34m\u001B[0m\u001B[0;34m\u001B[0m\u001B[0m\n\u001B[0;32m----> 2\u001B[0;31m \u001B[0mmulti\u001B[0m\u001B[0;34m.\u001B[0m\u001B[0mswaplevel\u001B[0m\u001B[0;34m(\u001B[0m\u001B[0;36m0\u001B[0m\u001B[0;34m,\u001B[0m\u001B[0;36m1\u001B[0m\u001B[0;34m,\u001B[0m\u001B[0;36m1\u001B[0m\u001B[0;34m)\u001B[0m\u001B[0;34m\u001B[0m\u001B[0;34m\u001B[0m\u001B[0m\n\u001B[0m",
      "\u001B[0;32m/opt/anaconda3/lib/python3.12/site-packages/pandas/core/frame.py\u001B[0m in \u001B[0;36m?\u001B[0;34m(self, i, j, axis)\u001B[0m\n\u001B[1;32m   7822\u001B[0m \u001B[0;34m\u001B[0m\u001B[0m\n\u001B[1;32m   7823\u001B[0m         \u001B[0maxis\u001B[0m \u001B[0;34m=\u001B[0m \u001B[0mself\u001B[0m\u001B[0;34m.\u001B[0m\u001B[0m_get_axis_number\u001B[0m\u001B[0;34m(\u001B[0m\u001B[0maxis\u001B[0m\u001B[0;34m)\u001B[0m\u001B[0;34m\u001B[0m\u001B[0;34m\u001B[0m\u001B[0m\n\u001B[1;32m   7824\u001B[0m \u001B[0;34m\u001B[0m\u001B[0m\n\u001B[1;32m   7825\u001B[0m         \u001B[0;32mif\u001B[0m \u001B[0;32mnot\u001B[0m \u001B[0misinstance\u001B[0m\u001B[0;34m(\u001B[0m\u001B[0mresult\u001B[0m\u001B[0;34m.\u001B[0m\u001B[0m_get_axis\u001B[0m\u001B[0;34m(\u001B[0m\u001B[0maxis\u001B[0m\u001B[0;34m)\u001B[0m\u001B[0;34m,\u001B[0m \u001B[0mMultiIndex\u001B[0m\u001B[0;34m)\u001B[0m\u001B[0;34m:\u001B[0m  \u001B[0;31m# pragma: no cover\u001B[0m\u001B[0;34m\u001B[0m\u001B[0;34m\u001B[0m\u001B[0m\n\u001B[0;32m-> 7826\u001B[0;31m             \u001B[0;32mraise\u001B[0m \u001B[0mTypeError\u001B[0m\u001B[0;34m(\u001B[0m\u001B[0;34m\"Can only swap levels on a hierarchical axis.\"\u001B[0m\u001B[0;34m)\u001B[0m\u001B[0;34m\u001B[0m\u001B[0;34m\u001B[0m\u001B[0m\n\u001B[0m\u001B[1;32m   7827\u001B[0m \u001B[0;34m\u001B[0m\u001B[0m\n\u001B[1;32m   7828\u001B[0m         \u001B[0;32mif\u001B[0m \u001B[0maxis\u001B[0m \u001B[0;34m==\u001B[0m \u001B[0;36m0\u001B[0m\u001B[0;34m:\u001B[0m\u001B[0;34m\u001B[0m\u001B[0;34m\u001B[0m\u001B[0m\n\u001B[1;32m   7829\u001B[0m             \u001B[0;32massert\u001B[0m \u001B[0misinstance\u001B[0m\u001B[0;34m(\u001B[0m\u001B[0mresult\u001B[0m\u001B[0;34m.\u001B[0m\u001B[0mindex\u001B[0m\u001B[0;34m,\u001B[0m \u001B[0mMultiIndex\u001B[0m\u001B[0;34m)\u001B[0m\u001B[0;34m\u001B[0m\u001B[0;34m\u001B[0m\u001B[0m\n",
      "\u001B[0;31mTypeError\u001B[0m: Can only swap levels on a hierarchical axis."
     ]
    }
   ],
   "execution_count": 19
  },
  {
   "cell_type": "code",
   "metadata": {
    "ExecuteTime": {
     "end_time": "2024-11-04T23:42:52.973924Z",
     "start_time": "2024-11-04T23:42:52.967496Z"
    }
   },
   "source": [
    "multi.swaplevel(0,1,1).sort_index(1)"
   ],
   "outputs": [
    {
     "ename": "TypeError",
     "evalue": "Can only swap levels on a hierarchical axis.",
     "output_type": "error",
     "traceback": [
      "\u001B[0;31m---------------------------------------------------------------------------\u001B[0m",
      "\u001B[0;31mTypeError\u001B[0m                                 Traceback (most recent call last)",
      "\u001B[0;32m/var/folders/4f/9230q1tn743gqfht8kjmqts40000gn/T/ipykernel_76065/2734628528.py\u001B[0m in \u001B[0;36m?\u001B[0;34m()\u001B[0m\n\u001B[0;32m----> 1\u001B[0;31m \u001B[0mmulti\u001B[0m\u001B[0;34m.\u001B[0m\u001B[0mswaplevel\u001B[0m\u001B[0;34m(\u001B[0m\u001B[0;36m0\u001B[0m\u001B[0;34m,\u001B[0m\u001B[0;36m1\u001B[0m\u001B[0;34m,\u001B[0m\u001B[0;36m1\u001B[0m\u001B[0;34m)\u001B[0m\u001B[0;34m.\u001B[0m\u001B[0msort_index\u001B[0m\u001B[0;34m(\u001B[0m\u001B[0;36m1\u001B[0m\u001B[0;34m)\u001B[0m\u001B[0;34m\u001B[0m\u001B[0;34m\u001B[0m\u001B[0m\n\u001B[0m",
      "\u001B[0;32m/opt/anaconda3/lib/python3.12/site-packages/pandas/core/frame.py\u001B[0m in \u001B[0;36m?\u001B[0;34m(self, i, j, axis)\u001B[0m\n\u001B[1;32m   7822\u001B[0m \u001B[0;34m\u001B[0m\u001B[0m\n\u001B[1;32m   7823\u001B[0m         \u001B[0maxis\u001B[0m \u001B[0;34m=\u001B[0m \u001B[0mself\u001B[0m\u001B[0;34m.\u001B[0m\u001B[0m_get_axis_number\u001B[0m\u001B[0;34m(\u001B[0m\u001B[0maxis\u001B[0m\u001B[0;34m)\u001B[0m\u001B[0;34m\u001B[0m\u001B[0;34m\u001B[0m\u001B[0m\n\u001B[1;32m   7824\u001B[0m \u001B[0;34m\u001B[0m\u001B[0m\n\u001B[1;32m   7825\u001B[0m         \u001B[0;32mif\u001B[0m \u001B[0;32mnot\u001B[0m \u001B[0misinstance\u001B[0m\u001B[0;34m(\u001B[0m\u001B[0mresult\u001B[0m\u001B[0;34m.\u001B[0m\u001B[0m_get_axis\u001B[0m\u001B[0;34m(\u001B[0m\u001B[0maxis\u001B[0m\u001B[0;34m)\u001B[0m\u001B[0;34m,\u001B[0m \u001B[0mMultiIndex\u001B[0m\u001B[0;34m)\u001B[0m\u001B[0;34m:\u001B[0m  \u001B[0;31m# pragma: no cover\u001B[0m\u001B[0;34m\u001B[0m\u001B[0;34m\u001B[0m\u001B[0m\n\u001B[0;32m-> 7826\u001B[0;31m             \u001B[0;32mraise\u001B[0m \u001B[0mTypeError\u001B[0m\u001B[0;34m(\u001B[0m\u001B[0;34m\"Can only swap levels on a hierarchical axis.\"\u001B[0m\u001B[0;34m)\u001B[0m\u001B[0;34m\u001B[0m\u001B[0;34m\u001B[0m\u001B[0m\n\u001B[0m\u001B[1;32m   7827\u001B[0m \u001B[0;34m\u001B[0m\u001B[0m\n\u001B[1;32m   7828\u001B[0m         \u001B[0;32mif\u001B[0m \u001B[0maxis\u001B[0m \u001B[0;34m==\u001B[0m \u001B[0;36m0\u001B[0m\u001B[0;34m:\u001B[0m\u001B[0;34m\u001B[0m\u001B[0;34m\u001B[0m\u001B[0m\n\u001B[1;32m   7829\u001B[0m             \u001B[0;32massert\u001B[0m \u001B[0misinstance\u001B[0m\u001B[0;34m(\u001B[0m\u001B[0mresult\u001B[0m\u001B[0;34m.\u001B[0m\u001B[0mindex\u001B[0m\u001B[0;34m,\u001B[0m \u001B[0mMultiIndex\u001B[0m\u001B[0;34m)\u001B[0m\u001B[0;34m\u001B[0m\u001B[0;34m\u001B[0m\u001B[0m\n",
      "\u001B[0;31mTypeError\u001B[0m: Can only swap levels on a hierarchical axis."
     ]
    }
   ],
   "execution_count": 20
  },
  {
   "cell_type": "code",
   "execution_count": 19,
   "metadata": {},
   "outputs": [
    {
     "data": {
      "text/html": [
       "<div>\n",
       "<style scoped>\n",
       "    .dataframe tbody tr th:only-of-type {\n",
       "        vertical-align: middle;\n",
       "    }\n",
       "\n",
       "    .dataframe tbody tr th {\n",
       "        vertical-align: top;\n",
       "    }\n",
       "\n",
       "    .dataframe thead th {\n",
       "        text-align: right;\n",
       "    }\n",
       "</style>\n",
       "<table border=\"1\" class=\"dataframe\">\n",
       "  <thead>\n",
       "    <tr style=\"text-align: right;\">\n",
       "      <th></th>\n",
       "      <th>earnings</th>\n",
       "      <th>ret_prev</th>\n",
       "      <th>pe</th>\n",
       "      <th>analyst_est</th>\n",
       "    </tr>\n",
       "  </thead>\n",
       "  <tbody>\n",
       "    <tr>\n",
       "      <th>20210105</th>\n",
       "      <td>1.639625</td>\n",
       "      <td>2.572874</td>\n",
       "      <td>1.249216</td>\n",
       "      <td>-1.225737</td>\n",
       "    </tr>\n",
       "    <tr>\n",
       "      <th>20210106</th>\n",
       "      <td>-1.926297</td>\n",
       "      <td>-0.053300</td>\n",
       "      <td>-0.622554</td>\n",
       "      <td>0.415266</td>\n",
       "    </tr>\n",
       "    <tr>\n",
       "      <th>20210107</th>\n",
       "      <td>-0.105480</td>\n",
       "      <td>0.321673</td>\n",
       "      <td>1.307971</td>\n",
       "      <td>-2.325994</td>\n",
       "    </tr>\n",
       "    <tr>\n",
       "      <th>20210108</th>\n",
       "      <td>-0.411167</td>\n",
       "      <td>3.859821</td>\n",
       "      <td>-3.444509</td>\n",
       "      <td>-1.495671</td>\n",
       "    </tr>\n",
       "    <tr>\n",
       "      <th>20210109</th>\n",
       "      <td>2.430052</td>\n",
       "      <td>0.431277</td>\n",
       "      <td>0.588986</td>\n",
       "      <td>-2.267342</td>\n",
       "    </tr>\n",
       "  </tbody>\n",
       "</table>\n",
       "</div>"
      ],
      "text/plain": [
       "          earnings  ret_prev        pe  analyst_est\n",
       "20210105  1.639625  2.572874  1.249216    -1.225737\n",
       "20210106 -1.926297 -0.053300 -0.622554     0.415266\n",
       "20210107 -0.105480  0.321673  1.307971    -2.325994\n",
       "20210108 -0.411167  3.859821 -3.444509    -1.495671\n",
       "20210109  2.430052  0.431277  0.588986    -2.267342"
      ]
     },
     "execution_count": 19,
     "metadata": {},
     "output_type": "execute_result"
    }
   ],
   "source": [
    "# sum across an axis\n",
    "multi.sum(axis=1,level=0)"
   ]
  },
  {
   "cell_type": "code",
   "execution_count": 20,
   "metadata": {},
   "outputs": [
    {
     "data": {
      "text/plain": [
       "earnings     SPY   -0.449762\n",
       "             TLT   -0.098713\n",
       "             VXX    0.213663\n",
       "             QQQ    0.660159\n",
       "ret_prev     SPY    0.126999\n",
       "             TLT    0.592273\n",
       "             VXX   -0.209566\n",
       "             QQQ    0.916763\n",
       "pe           SPY   -0.170553\n",
       "             TLT   -0.051534\n",
       "             VXX    0.311033\n",
       "             QQQ   -0.273124\n",
       "analyst_est  SPY   -0.394762\n",
       "             TLT   -0.530634\n",
       "             VXX   -0.388851\n",
       "             QQQ   -0.065649\n",
       "dtype: float64"
      ]
     },
     "execution_count": 20,
     "metadata": {},
     "output_type": "execute_result"
    }
   ],
   "source": [
    "# standard pandas functions produce multi-index series\n",
    "multi.mean()"
   ]
  },
  {
   "cell_type": "code",
   "execution_count": 21,
   "metadata": {},
   "outputs": [
    {
     "data": {
      "text/html": [
       "<div>\n",
       "<style scoped>\n",
       "    .dataframe tbody tr th:only-of-type {\n",
       "        vertical-align: middle;\n",
       "    }\n",
       "\n",
       "    .dataframe tbody tr th {\n",
       "        vertical-align: top;\n",
       "    }\n",
       "\n",
       "    .dataframe thead th {\n",
       "        text-align: right;\n",
       "    }\n",
       "</style>\n",
       "<table border=\"1\" class=\"dataframe\">\n",
       "  <thead>\n",
       "    <tr style=\"text-align: right;\">\n",
       "      <th></th>\n",
       "      <th>SPY</th>\n",
       "      <th>TLT</th>\n",
       "      <th>VXX</th>\n",
       "      <th>QQQ</th>\n",
       "    </tr>\n",
       "  </thead>\n",
       "  <tbody>\n",
       "    <tr>\n",
       "      <th>earnings</th>\n",
       "      <td>-0.449762</td>\n",
       "      <td>-0.098713</td>\n",
       "      <td>0.213663</td>\n",
       "      <td>0.660159</td>\n",
       "    </tr>\n",
       "    <tr>\n",
       "      <th>ret_prev</th>\n",
       "      <td>0.126999</td>\n",
       "      <td>0.592273</td>\n",
       "      <td>-0.209566</td>\n",
       "      <td>0.916763</td>\n",
       "    </tr>\n",
       "    <tr>\n",
       "      <th>pe</th>\n",
       "      <td>-0.170553</td>\n",
       "      <td>-0.051534</td>\n",
       "      <td>0.311033</td>\n",
       "      <td>-0.273124</td>\n",
       "    </tr>\n",
       "    <tr>\n",
       "      <th>analyst_est</th>\n",
       "      <td>-0.394762</td>\n",
       "      <td>-0.530634</td>\n",
       "      <td>-0.388851</td>\n",
       "      <td>-0.065649</td>\n",
       "    </tr>\n",
       "  </tbody>\n",
       "</table>\n",
       "</div>"
      ],
      "text/plain": [
       "                  SPY       TLT       VXX       QQQ\n",
       "earnings    -0.449762 -0.098713  0.213663  0.660159\n",
       "ret_prev     0.126999  0.592273 -0.209566  0.916763\n",
       "pe          -0.170553 -0.051534  0.311033 -0.273124\n",
       "analyst_est -0.394762 -0.530634 -0.388851 -0.065649"
      ]
     },
     "execution_count": 21,
     "metadata": {},
     "output_type": "execute_result"
    }
   ],
   "source": [
    "multi.mean().unstack(level=1)"
   ]
  },
  {
   "cell_type": "code",
   "execution_count": null,
   "metadata": {},
   "outputs": [],
   "source": []
  }
 ],
 "metadata": {
  "kernelspec": {
   "display_name": "Python 3",
   "language": "python",
   "name": "python3"
  },
  "language_info": {
   "codemirror_mode": {
    "name": "ipython",
    "version": 3
   },
   "file_extension": ".py",
   "mimetype": "text/x-python",
   "name": "python",
   "nbconvert_exporter": "python",
   "pygments_lexer": "ipython3",
   "version": "3.8.5"
  }
 },
 "nbformat": 4,
 "nbformat_minor": 4
}
