{
 "cells": [
  {
   "cell_type": "markdown",
   "metadata": {},
   "source": [
    "# Some Syntactic Sugar"
   ]
  },
  {
   "cell_type": "code",
   "execution_count": null,
   "metadata": {},
   "outputs": [],
   "source": [
    "# define a function in one line with lambda\n",
    "multiply = lambda x,y: x * y\n",
    "\n",
    "print (multiply(2,2))\n",
    "print (multiply(2,4))"
   ]
  },
  {
   "cell_type": "code",
   "execution_count": null,
   "metadata": {},
   "outputs": [],
   "source": [
    "# if/else in one line \n",
    "x=3\n",
    "print (\">2\") if x>2 else print (\"<2\")"
   ]
  },
  {
   "cell_type": "code",
   "execution_count": null,
   "metadata": {},
   "outputs": [],
   "source": [
    "# list comprehension: loop through and modify a list in one line\n",
    "# newlist = [expression for item in iterable if condition == True]\n",
    "\n",
    "tickers = ['AAPL US Equity','WMT US Equity','1U1 GR Equity']\n",
    "us_tickers=[x.split(' ')[0] for x in tickers if 'US Equity' in x]\n",
    "print(us_tickers)"
   ]
  },
  {
   "cell_type": "code",
   "execution_count": null,
   "metadata": {},
   "outputs": [],
   "source": [
    "# create a dictionary in one line\n",
    "ctry_map = {x.split(' ')[0]: x.split(' ')[1] for x in tickers}\n",
    "print (ctry_map)"
   ]
  },
  {
   "cell_type": "code",
   "execution_count": null,
   "metadata": {},
   "outputs": [],
   "source": []
  }
 ],
 "metadata": {
  "kernelspec": {
   "display_name": "Python 3",
   "language": "python",
   "name": "python3"
  },
  "language_info": {
   "codemirror_mode": {
    "name": "ipython",
    "version": 3
   },
   "file_extension": ".py",
   "mimetype": "text/x-python",
   "name": "python",
   "nbconvert_exporter": "python",
   "pygments_lexer": "ipython3",
   "version": "3.8.5"
  }
 },
 "nbformat": 4,
 "nbformat_minor": 4
}
