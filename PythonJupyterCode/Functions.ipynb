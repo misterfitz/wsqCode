{
 "cells": [
  {
   "cell_type": "markdown",
   "metadata": {},
   "source": [
    "# Functions"
   ]
  },
  {
   "cell_type": "code",
   "execution_count": null,
   "metadata": {},
   "outputs": [],
   "source": [
    "# create functions using the def keyword\n",
    "# function arguments are specified in () above\n",
    "# \"return\" keyword specifies function output\n",
    "    \n",
    "def add_2(x):     \n",
    "    result = x + 2\n",
    "    return result\n",
    "\n",
    "print (add_2(0))\n",
    "print (add_2(4))"
   ]
  },
  {
   "cell_type": "code",
   "execution_count": null,
   "metadata": {},
   "outputs": [],
   "source": [
    "# body of function should be indented with tab\n",
    "def add_2(x):     \n",
    "result = x + 2\n",
    "return result\n",
    "\n",
    "print (add_2(0))\n",
    "print (add_2(4))"
   ]
  },
  {
   "cell_type": "code",
   "execution_count": null,
   "metadata": {},
   "outputs": [],
   "source": [
    "# functions can have multiple arguments\n",
    "\n",
    "def divide(x,y):     \n",
    "    result = x/y\n",
    "    return result\n",
    "\n",
    "print (divide(2,2))\n",
    "print (divide(5,3))\n",
    "print (divide(3,5))\n",
    "print (divide(y=3,x=5))"
   ]
  },
  {
   "cell_type": "code",
   "execution_count": null,
   "metadata": {},
   "outputs": [],
   "source": [
    "# function arguments can have defaults \n",
    "\n",
    "def multiply(x,y=2,z=1):\n",
    "    result = x*y*z\n",
    "    return result\n",
    "\n",
    "print(multiply(2))\n",
    "print(multiply(2,3))\n",
    "print(multiply(2,z=2))"
   ]
  },
  {
   "cell_type": "code",
   "execution_count": null,
   "metadata": {},
   "outputs": [],
   "source": [
    "# function arguments can be of many types\n",
    "\n",
    "def in_list_or(a_list, item1, item2):\n",
    "    result = (item1 in a_list) or (item2 in a_list)    \n",
    "    return result\n",
    "\n",
    "print (in_list_or(['XOM','GS','WMT'],'XOM','AAPL'))"
   ]
  },
  {
   "cell_type": "code",
   "execution_count": null,
   "metadata": {},
   "outputs": [],
   "source": [
    "in_list_or(1,'XOM','AAPL')"
   ]
  },
  {
   "cell_type": "code",
   "execution_count": null,
   "metadata": {},
   "outputs": [],
   "source": [
    "in_list_or('ABC','XOM','AAPL')"
   ]
  },
  {
   "cell_type": "code",
   "execution_count": null,
   "metadata": {},
   "outputs": [],
   "source": []
  }
 ],
 "metadata": {
  "kernelspec": {
   "display_name": "Python 3",
   "language": "python",
   "name": "python3"
  },
  "language_info": {
   "codemirror_mode": {
    "name": "ipython",
    "version": 3
   },
   "file_extension": ".py",
   "mimetype": "text/x-python",
   "name": "python",
   "nbconvert_exporter": "python",
   "pygments_lexer": "ipython3",
   "version": "3.8.8"
  }
 },
 "nbformat": 4,
 "nbformat_minor": 4
}
