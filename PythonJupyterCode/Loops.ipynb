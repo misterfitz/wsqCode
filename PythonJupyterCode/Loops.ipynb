{
 "cells": [
  {
   "cell_type": "markdown",
   "metadata": {},
   "source": [
    "# Loops\n",
    "## While Loops \n",
    "- Execute a set of statements as long as a boolean condition is True\n",
    "- Less commonly used than for loops"
   ]
  },
  {
   "cell_type": "code",
   "execution_count": null,
   "metadata": {},
   "outputs": [],
   "source": [
    "ct=0\n",
    "while (ct<5):\n",
    "    print (ct)\n",
    "    ct = ct + 1"
   ]
  },
  {
   "cell_type": "code",
   "execution_count": null,
   "metadata": {},
   "outputs": [],
   "source": [
    "# must indent the body\n",
    "ct=0\n",
    "while (ct<5):\n",
    "print (ct)\n",
    "ct = ct + 1"
   ]
  },
  {
   "cell_type": "markdown",
   "metadata": {},
   "source": [
    "## For Loops \n",
    "- Iterate over data types like lists, dictionaries, strings, etc.\n",
    "- More common to use than while loop"
   ]
  },
  {
   "cell_type": "code",
   "execution_count": null,
   "metadata": {},
   "outputs": [],
   "source": [
    "# iterate through a list\n",
    "# must indent the body\n",
    "\n",
    "tickers = ['AAPL','XOM','BAC','WMT']\n",
    "for x in tickers:\n",
    "    print (x+' US Equity')"
   ]
  },
  {
   "cell_type": "code",
   "execution_count": null,
   "metadata": {},
   "outputs": [],
   "source": [
    "# loop through a string\n",
    "for x in 'AAPL':    \n",
    "    print (x)"
   ]
  },
  {
   "cell_type": "code",
   "execution_count": null,
   "metadata": {},
   "outputs": [],
   "source": [
    "# loop through a dictionary\n",
    "returns = {'AAPL':0.01,'XOM':-0.02,'BAC':0.05} \n",
    "\n",
    "for x in returns:\n",
    "    print (x)"
   ]
  },
  {
   "cell_type": "code",
   "execution_count": null,
   "metadata": {},
   "outputs": [],
   "source": [
    "for x in returns:\n",
    "    print (returns[x])"
   ]
  }
 ],
 "metadata": {
  "kernelspec": {
   "display_name": "Python 3",
   "language": "python",
   "name": "python3"
  },
  "language_info": {
   "codemirror_mode": {
    "name": "ipython",
    "version": 3
   },
   "file_extension": ".py",
   "mimetype": "text/x-python",
   "name": "python",
   "nbconvert_exporter": "python",
   "pygments_lexer": "ipython3",
   "version": "3.8.5"
  }
 },
 "nbformat": 4,
 "nbformat_minor": 4
}
