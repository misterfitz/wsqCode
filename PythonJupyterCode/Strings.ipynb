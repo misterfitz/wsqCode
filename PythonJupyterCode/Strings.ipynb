{
 "cells": [
  {
   "cell_type": "markdown",
   "metadata": {},
   "source": [
    "# Strings"
   ]
  },
  {
   "cell_type": "code",
   "execution_count": null,
   "metadata": {},
   "outputs": [],
   "source": [
    "# assignment - can use single or double quotes\n",
    "ticker = 'AAPL US Equity'\n",
    "ticker2 = \"AAPL US Equity\"\n",
    "\n",
    "print (ticker)\n",
    "print (ticker2)"
   ]
  },
  {
   "cell_type": "code",
   "execution_count": null,
   "metadata": {},
   "outputs": [],
   "source": [
    "# again, python automatically infers the type\n",
    "print (type(ticker))\n",
    "print (type(ticker2))"
   ]
  },
  {
   "cell_type": "code",
   "execution_count": null,
   "metadata": {},
   "outputs": [],
   "source": [
    "# a string is an array: individual characters can be retreived\n",
    "dt = '20110501'\n",
    "print (dt[0]) # millennium\n",
    "print (dt[0:4]) # year\n",
    "print (dt[:4]) # year\n",
    "print (dt[4:6]) # month\n",
    "print (dt[6:9]) # day"
   ]
  },
  {
   "cell_type": "code",
   "execution_count": null,
   "metadata": {},
   "outputs": [],
   "source": [
    "# string is an array: can loop through a string\n",
    "for x in dt:\n",
    "    print (x)"
   ]
  },
  {
   "cell_type": "code",
   "execution_count": null,
   "metadata": {},
   "outputs": [],
   "source": [
    "# string contains\n",
    "print ('Equity' in ticker) # is an Equity?\n",
    "print ('JP Equity' in ticker) # is in from Japan?"
   ]
  },
  {
   "cell_type": "code",
   "execution_count": null,
   "metadata": {},
   "outputs": [],
   "source": [
    "# strings have many useful methods\n",
    "print (ticker.upper())\n",
    "print (ticker.lower())"
   ]
  },
  {
   "cell_type": "code",
   "execution_count": null,
   "metadata": {},
   "outputs": [],
   "source": [
    "ticker = 'AAPL US Equity  '\n",
    "ticker"
   ]
  },
  {
   "cell_type": "code",
   "execution_count": null,
   "metadata": {},
   "outputs": [],
   "source": [
    "# strip out whitespace\n",
    "ticker=ticker.strip(' ')\n",
    "ticker"
   ]
  },
  {
   "cell_type": "code",
   "execution_count": null,
   "metadata": {},
   "outputs": [],
   "source": [
    "# replace part of a string with another string\n",
    "ticker.replace('US Equity','JP Equity')"
   ]
  },
  {
   "cell_type": "code",
   "execution_count": null,
   "metadata": {},
   "outputs": [],
   "source": [
    "# split up a string\n",
    "tick_split = ticker.split(' ')\n",
    "print (tick_split)\n",
    "print (tick_split[0])\n",
    "print (tick_split[1])\n",
    "print (tick_split[2])"
   ]
  },
  {
   "cell_type": "code",
   "execution_count": null,
   "metadata": {},
   "outputs": [],
   "source": [
    "print(' '.join(tick_split))"
   ]
  },
  {
   "cell_type": "code",
   "execution_count": null,
   "metadata": {},
   "outputs": [],
   "source": [
    "# concatenation \n",
    "\n",
    "symbol = 'AAPL'\n",
    "country = 'US'\n",
    "asset = 'Equity'\n",
    "ticker = symbol + ' ' + country + ' ' + asset\n",
    "print (ticker)"
   ]
  },
  {
   "cell_type": "code",
   "execution_count": null,
   "metadata": {},
   "outputs": [],
   "source": [
    "# formatting \n",
    "print (\"{} {} {}\".format(symbol,country,asset))"
   ]
  },
  {
   "cell_type": "code",
   "execution_count": null,
   "metadata": {},
   "outputs": [],
   "source": [
    "# formatting with numbers\n",
    "print ('Daily Return of {} {} {} = {} pct'.format(symbol,country,asset,1.55))"
   ]
  },
  {
   "cell_type": "code",
   "execution_count": null,
   "metadata": {},
   "outputs": [],
   "source": [
    "# old way\n",
    "print ('Daily Return of %s %s %s = %s pct'%(symbol,country,asset,1.55))"
   ]
  },
  {
   "cell_type": "code",
   "execution_count": null,
   "metadata": {},
   "outputs": [],
   "source": [
    "# tab completion\n",
    "ticker.isupper()"
   ]
  },
  {
   "cell_type": "code",
   "execution_count": null,
   "metadata": {},
   "outputs": [],
   "source": [
    "# help\n",
    "ticker.isupper?"
   ]
  },
  {
   "cell_type": "code",
   "execution_count": null,
   "metadata": {},
   "outputs": [],
   "source": []
  }
 ],
 "metadata": {
  "kernelspec": {
   "display_name": "Python 3",
   "language": "python",
   "name": "python3"
  },
  "language_info": {
   "codemirror_mode": {
    "name": "ipython",
    "version": 3
   },
   "file_extension": ".py",
   "mimetype": "text/x-python",
   "name": "python",
   "nbconvert_exporter": "python",
   "pygments_lexer": "ipython3",
   "version": "3.8.8"
  }
 },
 "nbformat": 4,
 "nbformat_minor": 4
}
