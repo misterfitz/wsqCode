{
 "cells": [
  {
   "cell_type": "markdown",
   "metadata": {},
   "source": [
    "# Pandas Series\n",
    "\"A Dictionary and Numpy 1D Array Had a Baby\"\n",
    "\n",
    "1. Construction & Deconstruction\n",
    "2. Retrieving values\n",
    "3. Modifying values\n",
    "4. Methods for Data Analysis\n",
    "5. Data Alignment"
   ]
  },
  {
   "cell_type": "code",
   "metadata": {
    "ExecuteTime": {
     "end_time": "2024-10-29T16:34:05.096602Z",
     "start_time": "2024-10-29T16:34:04.691861Z"
    }
   },
   "source": [
    "# Imports\n",
    "import pandas as pd"
   ],
   "outputs": [],
   "execution_count": 1
  },
  {
   "cell_type": "markdown",
   "metadata": {},
   "source": [
    "## Series Construction"
   ]
  },
  {
   "cell_type": "code",
   "metadata": {
    "ExecuteTime": {
     "end_time": "2024-10-29T16:34:11.743761Z",
     "start_time": "2024-10-29T16:34:11.737114Z"
    }
   },
   "source": [
    "# Series construction w/ dict\n",
    "ret_dict={'AAPL':-0.01,'MSFT':-0.02,'TSLA':0.015,'LULU':-0.005}\n",
    "ser=pd.Series(ret_dict)\n",
    "print (ser)"
   ],
   "outputs": [
    {
     "name": "stdout",
     "output_type": "stream",
     "text": [
      "AAPL   -0.010\n",
      "MSFT   -0.020\n",
      "TSLA    0.015\n",
      "LULU   -0.005\n",
      "dtype: float64\n"
     ]
    }
   ],
   "execution_count": 2
  },
  {
   "cell_type": "code",
   "metadata": {
    "scrolled": true,
    "ExecuteTime": {
     "end_time": "2024-10-29T16:34:24.839444Z",
     "start_time": "2024-10-29T16:34:24.834284Z"
    }
   },
   "source": [
    "# Series construction w/ two lists\n",
    "ret=[-0.01,-0.02,0.015,-0.005]\n",
    "tickers=['AAPL','MSFT','TSLA','LULU']\n",
    "ser=pd.Series(ret,index=tickers)\n",
    "print (ser)"
   ],
   "outputs": [
    {
     "name": "stdout",
     "output_type": "stream",
     "text": [
      "AAPL   -0.010\n",
      "MSFT   -0.020\n",
      "TSLA    0.015\n",
      "LULU   -0.005\n",
      "dtype: float64\n"
     ]
    }
   ],
   "execution_count": 3
  },
  {
   "cell_type": "code",
   "metadata": {
    "ExecuteTime": {
     "end_time": "2024-10-29T16:34:34.369813Z",
     "start_time": "2024-10-29T16:34:34.363383Z"
    }
   },
   "source": [
    "# Series construction w/ list without keys\n",
    "pd.Series([-0.01,-0.02,0.015,-0.005])"
   ],
   "outputs": [
    {
     "data": {
      "text/plain": [
       "0   -0.010\n",
       "1   -0.020\n",
       "2    0.015\n",
       "3   -0.005\n",
       "dtype: float64"
      ]
     },
     "execution_count": 4,
     "metadata": {},
     "output_type": "execute_result"
    }
   ],
   "execution_count": 4
  },
  {
   "cell_type": "markdown",
   "metadata": {},
   "source": [
    "## Series Deconstruction"
   ]
  },
  {
   "cell_type": "code",
   "metadata": {
    "ExecuteTime": {
     "end_time": "2024-10-29T16:35:07.249304Z",
     "start_time": "2024-10-29T16:35:07.244231Z"
    }
   },
   "source": [
    "ser=pd.Series({'AAPL':-0.01,'MSFT':-0.02,'TSLA':0.015,'LULU':-0.005})\n",
    "ser"
   ],
   "outputs": [
    {
     "data": {
      "text/plain": [
       "AAPL   -0.010\n",
       "MSFT   -0.020\n",
       "TSLA    0.015\n",
       "LULU   -0.005\n",
       "dtype: float64"
      ]
     },
     "execution_count": 5,
     "metadata": {},
     "output_type": "execute_result"
    }
   ],
   "execution_count": 5
  },
  {
   "cell_type": "code",
   "metadata": {
    "ExecuteTime": {
     "end_time": "2024-10-29T16:35:11.348996Z",
     "start_time": "2024-10-29T16:35:11.344549Z"
    }
   },
   "source": [
    "ser.values"
   ],
   "outputs": [
    {
     "data": {
      "text/plain": [
       "array([-0.01 , -0.02 ,  0.015, -0.005])"
      ]
     },
     "execution_count": 6,
     "metadata": {},
     "output_type": "execute_result"
    }
   ],
   "execution_count": 6
  },
  {
   "cell_type": "code",
   "metadata": {
    "ExecuteTime": {
     "end_time": "2024-10-29T16:35:12.939824Z",
     "start_time": "2024-10-29T16:35:12.935645Z"
    }
   },
   "source": [
    "ser.index"
   ],
   "outputs": [
    {
     "data": {
      "text/plain": [
       "Index(['AAPL', 'MSFT', 'TSLA', 'LULU'], dtype='object')"
      ]
     },
     "execution_count": 7,
     "metadata": {},
     "output_type": "execute_result"
    }
   ],
   "execution_count": 7
  },
  {
   "cell_type": "code",
   "execution_count": null,
   "metadata": {},
   "outputs": [],
   "source": []
  }
 ],
 "metadata": {
  "kernelspec": {
   "display_name": "Python 3",
   "language": "python",
   "name": "python3"
  },
  "language_info": {
   "codemirror_mode": {
    "name": "ipython",
    "version": 3
   },
   "file_extension": ".py",
   "mimetype": "text/x-python",
   "name": "python",
   "nbconvert_exporter": "python",
   "pygments_lexer": "ipython3",
   "version": "3.8.8"
  }
 },
 "nbformat": 4,
 "nbformat_minor": 4
}
