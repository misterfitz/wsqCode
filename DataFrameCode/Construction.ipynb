{
 "cells": [
  {
   "cell_type": "markdown",
   "metadata": {},
   "source": [
    "# Pandas DataFrame\n",
    "\"A Dictionary and Numpy 2D Array Had a Baby\"\n",
    "\n",
    "1. Construction & Deconstruction\n",
    "2. Retrieving values\n",
    "3. Modifying values\n",
    "4. Methods for Data Analysis\n",
    "5. Data Alignment"
   ]
  },
  {
   "cell_type": "code",
   "metadata": {
    "ExecuteTime": {
     "end_time": "2024-10-29T22:13:22.174739Z",
     "start_time": "2024-10-29T22:13:21.698729Z"
    }
   },
   "source": [
    "import pandas as pd"
   ],
   "outputs": [],
   "execution_count": 1
  },
  {
   "metadata": {},
   "cell_type": "code",
   "outputs": [],
   "execution_count": null,
   "source": ""
  },
  {
   "cell_type": "markdown",
   "metadata": {},
   "source": [
    "## DataFrame Construction\n",
    "\n"
   ]
  },
  {
   "cell_type": "code",
   "metadata": {
    "ExecuteTime": {
     "end_time": "2024-10-29T21:45:13.128156Z",
     "start_time": "2024-10-29T21:45:13.117903Z"
    }
   },
   "source": [
    "# 2D list or NumPy array\n",
    "\n",
    "index=['20201201','20201202','20201203','20201204']\n",
    "columns = ['AAPL','MSFT','TSLA','LULU']\n",
    "\n",
    "data=[[-0.01,0.03,0.05,0.005],\n",
    "      [0.015,0.005,-0.05,-0.0025],\n",
    "      [-0.025,0.0015,-0.02,0.01],\n",
    "      [-0.03,0.015,0.03,0.01]]\n",
    "\n",
    "df=pd.DataFrame(data,index=index,columns=columns)\n",
    "df"
   ],
   "outputs": [
    {
     "data": {
      "text/plain": [
       "           AAPL    MSFT  TSLA    LULU\n",
       "20201201 -0.010  0.0300  0.05  0.0050\n",
       "20201202  0.015  0.0050 -0.05 -0.0025\n",
       "20201203 -0.025  0.0015 -0.02  0.0100\n",
       "20201204 -0.030  0.0150  0.03  0.0100"
      ],
      "text/html": [
       "<div>\n",
       "<style scoped>\n",
       "    .dataframe tbody tr th:only-of-type {\n",
       "        vertical-align: middle;\n",
       "    }\n",
       "\n",
       "    .dataframe tbody tr th {\n",
       "        vertical-align: top;\n",
       "    }\n",
       "\n",
       "    .dataframe thead th {\n",
       "        text-align: right;\n",
       "    }\n",
       "</style>\n",
       "<table border=\"1\" class=\"dataframe\">\n",
       "  <thead>\n",
       "    <tr style=\"text-align: right;\">\n",
       "      <th></th>\n",
       "      <th>AAPL</th>\n",
       "      <th>MSFT</th>\n",
       "      <th>TSLA</th>\n",
       "      <th>LULU</th>\n",
       "    </tr>\n",
       "  </thead>\n",
       "  <tbody>\n",
       "    <tr>\n",
       "      <th>20201201</th>\n",
       "      <td>-0.010</td>\n",
       "      <td>0.0300</td>\n",
       "      <td>0.05</td>\n",
       "      <td>0.0050</td>\n",
       "    </tr>\n",
       "    <tr>\n",
       "      <th>20201202</th>\n",
       "      <td>0.015</td>\n",
       "      <td>0.0050</td>\n",
       "      <td>-0.05</td>\n",
       "      <td>-0.0025</td>\n",
       "    </tr>\n",
       "    <tr>\n",
       "      <th>20201203</th>\n",
       "      <td>-0.025</td>\n",
       "      <td>0.0015</td>\n",
       "      <td>-0.02</td>\n",
       "      <td>0.0100</td>\n",
       "    </tr>\n",
       "    <tr>\n",
       "      <th>20201204</th>\n",
       "      <td>-0.030</td>\n",
       "      <td>0.0150</td>\n",
       "      <td>0.03</td>\n",
       "      <td>0.0100</td>\n",
       "    </tr>\n",
       "  </tbody>\n",
       "</table>\n",
       "</div>"
      ]
     },
     "execution_count": 3,
     "metadata": {},
     "output_type": "execute_result"
    }
   ],
   "execution_count": 3
  },
  {
   "cell_type": "code",
   "metadata": {
    "ExecuteTime": {
     "end_time": "2024-10-29T21:45:14.138452Z",
     "start_time": "2024-10-29T21:45:14.130299Z"
    }
   },
   "source": [
    "# Dict of equal length lists or NumPy arrays\n",
    "\n",
    "data = {'AAPL':[-0.01,0.015,-0.025,-0.03],\n",
    "        'MSFT':[0.03,0.005,0.0015,0.015],\n",
    "        'TSLA':[0.05,-0.05,-0.2,0.03],\n",
    "        'LULU':[0.005,-0.0025,0.01,0.01]\n",
    "       }\n",
    "\n",
    "\n",
    "df=pd.DataFrame(data)\n",
    "\n",
    "\n",
    "index=['20201201','20201202','20201203','20201204']\n",
    "df=pd.DataFrame(data,index=index)\n",
    "df"
   ],
   "outputs": [
    {
     "data": {
      "text/plain": [
       "           AAPL    MSFT  TSLA    LULU\n",
       "20201201 -0.010  0.0300  0.05  0.0050\n",
       "20201202  0.015  0.0050 -0.05 -0.0025\n",
       "20201203 -0.025  0.0015 -0.20  0.0100\n",
       "20201204 -0.030  0.0150  0.03  0.0100"
      ],
      "text/html": [
       "<div>\n",
       "<style scoped>\n",
       "    .dataframe tbody tr th:only-of-type {\n",
       "        vertical-align: middle;\n",
       "    }\n",
       "\n",
       "    .dataframe tbody tr th {\n",
       "        vertical-align: top;\n",
       "    }\n",
       "\n",
       "    .dataframe thead th {\n",
       "        text-align: right;\n",
       "    }\n",
       "</style>\n",
       "<table border=\"1\" class=\"dataframe\">\n",
       "  <thead>\n",
       "    <tr style=\"text-align: right;\">\n",
       "      <th></th>\n",
       "      <th>AAPL</th>\n",
       "      <th>MSFT</th>\n",
       "      <th>TSLA</th>\n",
       "      <th>LULU</th>\n",
       "    </tr>\n",
       "  </thead>\n",
       "  <tbody>\n",
       "    <tr>\n",
       "      <th>20201201</th>\n",
       "      <td>-0.010</td>\n",
       "      <td>0.0300</td>\n",
       "      <td>0.05</td>\n",
       "      <td>0.0050</td>\n",
       "    </tr>\n",
       "    <tr>\n",
       "      <th>20201202</th>\n",
       "      <td>0.015</td>\n",
       "      <td>0.0050</td>\n",
       "      <td>-0.05</td>\n",
       "      <td>-0.0025</td>\n",
       "    </tr>\n",
       "    <tr>\n",
       "      <th>20201203</th>\n",
       "      <td>-0.025</td>\n",
       "      <td>0.0015</td>\n",
       "      <td>-0.20</td>\n",
       "      <td>0.0100</td>\n",
       "    </tr>\n",
       "    <tr>\n",
       "      <th>20201204</th>\n",
       "      <td>-0.030</td>\n",
       "      <td>0.0150</td>\n",
       "      <td>0.03</td>\n",
       "      <td>0.0100</td>\n",
       "    </tr>\n",
       "  </tbody>\n",
       "</table>\n",
       "</div>"
      ]
     },
     "execution_count": 4,
     "metadata": {},
     "output_type": "execute_result"
    }
   ],
   "execution_count": 4
  },
  {
   "cell_type": "code",
   "metadata": {
    "ExecuteTime": {
     "end_time": "2024-10-29T21:45:14.890878Z",
     "start_time": "2024-10-29T21:45:14.882580Z"
    }
   },
   "source": [
    "# Dict of Series\n",
    "index=['20201201','20201202','20201203','20201204']\n",
    "\n",
    "data={}\n",
    "data['AAPL'] = pd.Series([-0.01,0.015,-0.025,-0.03],index=index)\n",
    "data['MSFT'] = pd.Series([0.03,0.005,0.0015,0.015],index=index)\n",
    "data['TSLA'] = pd.Series([0.05,-0.05,-0.2,0.03],index=index)\n",
    "data['LULU'] = pd.Series([0.005,-0.0025,0.01,0.01],index=index)\n",
    "\n",
    "df=pd.DataFrame(data)\n",
    "df"
   ],
   "outputs": [
    {
     "data": {
      "text/plain": [
       "           AAPL    MSFT  TSLA    LULU\n",
       "20201201 -0.010  0.0300  0.05  0.0050\n",
       "20201202  0.015  0.0050 -0.05 -0.0025\n",
       "20201203 -0.025  0.0015 -0.20  0.0100\n",
       "20201204 -0.030  0.0150  0.03  0.0100"
      ],
      "text/html": [
       "<div>\n",
       "<style scoped>\n",
       "    .dataframe tbody tr th:only-of-type {\n",
       "        vertical-align: middle;\n",
       "    }\n",
       "\n",
       "    .dataframe tbody tr th {\n",
       "        vertical-align: top;\n",
       "    }\n",
       "\n",
       "    .dataframe thead th {\n",
       "        text-align: right;\n",
       "    }\n",
       "</style>\n",
       "<table border=\"1\" class=\"dataframe\">\n",
       "  <thead>\n",
       "    <tr style=\"text-align: right;\">\n",
       "      <th></th>\n",
       "      <th>AAPL</th>\n",
       "      <th>MSFT</th>\n",
       "      <th>TSLA</th>\n",
       "      <th>LULU</th>\n",
       "    </tr>\n",
       "  </thead>\n",
       "  <tbody>\n",
       "    <tr>\n",
       "      <th>20201201</th>\n",
       "      <td>-0.010</td>\n",
       "      <td>0.0300</td>\n",
       "      <td>0.05</td>\n",
       "      <td>0.0050</td>\n",
       "    </tr>\n",
       "    <tr>\n",
       "      <th>20201202</th>\n",
       "      <td>0.015</td>\n",
       "      <td>0.0050</td>\n",
       "      <td>-0.05</td>\n",
       "      <td>-0.0025</td>\n",
       "    </tr>\n",
       "    <tr>\n",
       "      <th>20201203</th>\n",
       "      <td>-0.025</td>\n",
       "      <td>0.0015</td>\n",
       "      <td>-0.20</td>\n",
       "      <td>0.0100</td>\n",
       "    </tr>\n",
       "    <tr>\n",
       "      <th>20201204</th>\n",
       "      <td>-0.030</td>\n",
       "      <td>0.0150</td>\n",
       "      <td>0.03</td>\n",
       "      <td>0.0100</td>\n",
       "    </tr>\n",
       "  </tbody>\n",
       "</table>\n",
       "</div>"
      ]
     },
     "execution_count": 5,
     "metadata": {},
     "output_type": "execute_result"
    }
   ],
   "execution_count": 5
  },
  {
   "cell_type": "code",
   "metadata": {
    "ExecuteTime": {
     "end_time": "2024-10-29T21:45:15.418495Z",
     "start_time": "2024-10-29T21:45:15.411506Z"
    }
   },
   "source": [
    "# incrementally adding columns\n",
    "index=['20201201','20201202','20201203','20201204']\n",
    "df = pd.DataFrame()\n",
    "\n",
    "df['AAPL'] = pd.Series([-0.01,0.015,-0.025,-0.03],index=index)\n",
    "df['MSFT'] = pd.Series([0.03,0.005,0.0015,0.015],index=index)\n",
    "df['TSLA'] = pd.Series([0.05,-0.05,-0.2,0.03],index=index)\n",
    "df['LULU'] = pd.Series([0.005,-0.0025,0.01,0.01],index=index)\n",
    "df"
   ],
   "outputs": [
    {
     "data": {
      "text/plain": [
       "           AAPL    MSFT  TSLA    LULU\n",
       "20201201 -0.010  0.0300  0.05  0.0050\n",
       "20201202  0.015  0.0050 -0.05 -0.0025\n",
       "20201203 -0.025  0.0015 -0.20  0.0100\n",
       "20201204 -0.030  0.0150  0.03  0.0100"
      ],
      "text/html": [
       "<div>\n",
       "<style scoped>\n",
       "    .dataframe tbody tr th:only-of-type {\n",
       "        vertical-align: middle;\n",
       "    }\n",
       "\n",
       "    .dataframe tbody tr th {\n",
       "        vertical-align: top;\n",
       "    }\n",
       "\n",
       "    .dataframe thead th {\n",
       "        text-align: right;\n",
       "    }\n",
       "</style>\n",
       "<table border=\"1\" class=\"dataframe\">\n",
       "  <thead>\n",
       "    <tr style=\"text-align: right;\">\n",
       "      <th></th>\n",
       "      <th>AAPL</th>\n",
       "      <th>MSFT</th>\n",
       "      <th>TSLA</th>\n",
       "      <th>LULU</th>\n",
       "    </tr>\n",
       "  </thead>\n",
       "  <tbody>\n",
       "    <tr>\n",
       "      <th>20201201</th>\n",
       "      <td>-0.010</td>\n",
       "      <td>0.0300</td>\n",
       "      <td>0.05</td>\n",
       "      <td>0.0050</td>\n",
       "    </tr>\n",
       "    <tr>\n",
       "      <th>20201202</th>\n",
       "      <td>0.015</td>\n",
       "      <td>0.0050</td>\n",
       "      <td>-0.05</td>\n",
       "      <td>-0.0025</td>\n",
       "    </tr>\n",
       "    <tr>\n",
       "      <th>20201203</th>\n",
       "      <td>-0.025</td>\n",
       "      <td>0.0015</td>\n",
       "      <td>-0.20</td>\n",
       "      <td>0.0100</td>\n",
       "    </tr>\n",
       "    <tr>\n",
       "      <th>20201204</th>\n",
       "      <td>-0.030</td>\n",
       "      <td>0.0150</td>\n",
       "      <td>0.03</td>\n",
       "      <td>0.0100</td>\n",
       "    </tr>\n",
       "  </tbody>\n",
       "</table>\n",
       "</div>"
      ]
     },
     "execution_count": 6,
     "metadata": {},
     "output_type": "execute_result"
    }
   ],
   "execution_count": 6
  },
  {
   "attachments": {
    "Screen%20Shot%202021-10-14%20at%207.19.47%20AM.png": {
     "image/png": "[encoded data removed]"
    }
   },
   "cell_type": "markdown",
   "metadata": {},
   "source": [
    "Other ways to make a DataFrame:\n",
    "\n",
    "![Screen%20Shot%202021-10-14%20at%207.19.47%20AM.png](attachment:Screen%20Shot%202021-10-14%20at%207.19.47%20AM.png)"
   ]
  },
  {
   "cell_type": "markdown",
   "metadata": {},
   "source": [
    "## DataFrame Deconstruction"
   ]
  },
  {
   "cell_type": "code",
   "metadata": {
    "ExecuteTime": {
     "end_time": "2024-10-29T21:39:35.212586Z",
     "start_time": "2024-10-29T21:39:35.206546Z"
    }
   },
   "source": [
    "# get data\n",
    "df.values"
   ],
   "outputs": [
    {
     "data": {
      "text/plain": [
       "array([[-0.01  ,  0.03  ,  0.05  ,  0.005 ],\n",
       "       [ 0.015 ,  0.005 , -0.05  , -0.0025],\n",
       "       [-0.025 ,  0.0015, -0.2   ,  0.01  ],\n",
       "       [-0.03  ,  0.015 ,  0.03  ,  0.01  ]])"
      ]
     },
     "execution_count": 6,
     "metadata": {},
     "output_type": "execute_result"
    }
   ],
   "execution_count": 6
  },
  {
   "cell_type": "code",
   "metadata": {
    "ExecuteTime": {
     "end_time": "2024-10-29T21:39:36.361737Z",
     "start_time": "2024-10-29T21:39:36.355382Z"
    }
   },
   "source": [
    "# get columns\n",
    "df.columns"
   ],
   "outputs": [
    {
     "data": {
      "text/plain": [
       "Index(['AAPL', 'MSFT', 'TSLA', 'LULU'], dtype='object')"
      ]
     },
     "execution_count": 7,
     "metadata": {},
     "output_type": "execute_result"
    }
   ],
   "execution_count": 7
  },
  {
   "cell_type": "code",
   "metadata": {
    "ExecuteTime": {
     "end_time": "2024-10-29T21:39:37.157433Z",
     "start_time": "2024-10-29T21:39:37.153584Z"
    }
   },
   "source": [
    "# get rows\n",
    "df.index"
   ],
   "outputs": [
    {
     "data": {
      "text/plain": [
       "Index(['20201201', '20201202', '20201203', '20201204'], dtype='object')"
      ]
     },
     "execution_count": 8,
     "metadata": {},
     "output_type": "execute_result"
    }
   ],
   "execution_count": 8
  },
  {
   "cell_type": "code",
   "metadata": {
    "ExecuteTime": {
     "end_time": "2024-10-29T21:39:38.674395Z",
     "start_time": "2024-10-29T21:39:38.672608Z"
    }
   },
   "source": [],
   "outputs": [],
   "execution_count": null
  },
  {
   "metadata": {},
   "cell_type": "code",
   "outputs": [],
   "execution_count": null,
   "source": ""
  }
 ],
 "metadata": {
  "kernelspec": {
   "display_name": "Python 3",
   "language": "python",
   "name": "python3"
  },
  "language_info": {
   "codemirror_mode": {
    "name": "ipython",
    "version": 3
   },
   "file_extension": ".py",
   "mimetype": "text/x-python",
   "name": "python",
   "nbconvert_exporter": "python",
   "pygments_lexer": "ipython3",
   "version": "3.8.8"
  }
 },
 "nbformat": 4,
 "nbformat_minor": 4
}
