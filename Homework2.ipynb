{
 "cells": [
  {
   "cell_type": "markdown",
   "id": "eee5facd",
   "metadata": {},
   "source": [
    "# Homework 2"
   ]
  },
  {
   "cell_type": "markdown",
   "id": "9ea7e44e",
   "metadata": {},
   "source": [
    "## Problem 1 -  Dollar Profits\n",
    "- \"rets\" variable below is a DataFrame containing randomly generated, hypothetical daily returns. Rows represent days and columns represent symbols.\n",
    "- dollarpos variable below is a DataFrame containing randomly generated initial dollar positions in each symbol at the close of market the prior day. \n",
    "- Compute the dollar profit in each symbol on a given day as a DataFrame\n",
    "- Plot the cumulative dollar profit in A through time"
   ]
  },
  {
   "cell_type": "code",
   "execution_count": null,
   "id": "0a31243f",
   "metadata": {},
   "outputs": [],
   "source": [
    "import numpy as np \n",
    "import pandas as pd \n",
    "\n",
    "np.random.seed(5)\n",
    "rets = np.random.normal(0.05/252,0.1/np.sqrt(252), (1000,5))\n",
    "columns = ['A','B','C','D','E']\n",
    "rets = pd.DataFrame(rets,columns = columns)\n",
    "\n",
    "dollarpos = np.random.normal(1000,100, (1000,5))\n",
    "dollarpos = pd.DataFrame(dollarpos,columns = columns).abs()"
   ]
  },
  {
   "cell_type": "markdown",
   "id": "1de85bdf",
   "metadata": {},
   "source": [
    "## Problem 2 - Performance Stats \n",
    "- \"rets\" variable below is a DataFrame containing randomly generated, hypothetical daily returns. Rows represent days and columns represent symbols.\n",
    "- Please complete the function \"compute_stats\".\n",
    "- compute_stats takes as input rets and returns a new DataFrame (stats) containing performance stats as specified below. rows of the result should be symbols and columns the performance stat label.\n",
    "    1. \"avg\": average return (annualized)\n",
    "    2. \"vol\": volatility (annualized)\n",
    "    3. \"sharpe\": sharpe ratio (annualzied)\n",
    "    4. \"hit_rate\": percent of returns which are positive\n",
    "- Plot the sharpe ratios in \"stats\" in ascending order."
   ]
  },
  {
   "cell_type": "code",
   "execution_count": null,
   "id": "4eeaab3a",
   "metadata": {},
   "outputs": [],
   "source": [
    "import numpy as np \n",
    "import pandas as pd \n",
    "\n",
    "np.random.seed(5)\n",
    "rets = np.random.normal(0.05/252,0.1/np.sqrt(252), (1000,5))\n",
    "columns = ['A','B','C','D','E']\n",
    "rets = pd.DataFrame(rets,columns = columns)"
   ]
  },
  {
   "cell_type": "code",
   "execution_count": null,
   "id": "261f46e9",
   "metadata": {},
   "outputs": [],
   "source": [
    "def compute_stats(rets):\n",
    "    # fill out the body here\n",
    "    # return a DataFrame \"stats\"\n",
    "    # columns should be performance stat label\n",
    "    # rows should be symbols\n",
    "    return stats"
   ]
  },
  {
   "cell_type": "markdown",
   "id": "14caa92d",
   "metadata": {},
   "source": [
    "## Problem 3 - Simple Reversal Signal\n",
    "- \"rets\" variable below is a DataFrame containing randomly generated, hypothetical daily returns. Rows represent days and columns represent symbols\n",
    "- Please complete the function \"reversal_signal\"\n",
    "- reversal_signal takes as input rets and returns a new DataFrame (signal) which has the same rows/columns as rets. The values of signal are 1 if the symbol had the worst return that day, -1 if it had the best return, and 0 otherwise. \n",
    "- plot the value of signal through time for \"A\"\n",
    "\n",
    "Hint: Try to construct a boolean DataFrame first and then convert it to an integer DataFrame"
   ]
  },
  {
   "cell_type": "code",
   "execution_count": null,
   "id": "5b178fd5",
   "metadata": {},
   "outputs": [],
   "source": [
    "import numpy as np \n",
    "import pandas as pd \n",
    "\n",
    "np.random.seed(5)\n",
    "rets = np.random.normal(0.05/252,0.1/np.sqrt(252), (1000,5))\n",
    "columns = ['A','B','C','D','E']\n",
    "rets = pd.DataFrame(rets,columns = columns)"
   ]
  },
  {
   "cell_type": "code",
   "execution_count": null,
   "id": "041a57e2",
   "metadata": {},
   "outputs": [],
   "source": [
    "def reversal_signal(rets):\n",
    "    # fill out the body here\n",
    "    # return a DataFrame \"signal\"\n",
    "    # signal has same index/columns as rets\n",
    "    # the value in signal is  1 if the symbol had the worst return on\n",
    "    # a particular day, -1 if it had the best, and 0 otherwise\n",
    "    return signal"
   ]
  }
 ],
 "metadata": {
  "kernelspec": {
   "display_name": "Python 3",
   "language": "python",
   "name": "python3"
  },
  "language_info": {
   "codemirror_mode": {
    "name": "ipython",
    "version": 3
   },
   "file_extension": ".py",
   "mimetype": "text/x-python",
   "name": "python",
   "nbconvert_exporter": "python",
   "pygments_lexer": "ipython3",
   "version": "3.8.8"
  }
 },
 "nbformat": 4,
 "nbformat_minor": 5
}
