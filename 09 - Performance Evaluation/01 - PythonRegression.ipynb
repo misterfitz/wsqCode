{
 "cells": [
  {
   "cell_type": "markdown",
   "metadata": {},
   "source": [
    "# Regression Using StatsModels\n",
    "- Run a regression to find beta and alpha of FB to SPY\n",
    "- FB<sub>t</sub> ~ $\\beta$ * SPY<sub>t</sub> + $\\alpha$ + e<sub>t</sub>"
   ]
  },
  {
   "cell_type": "code",
   "metadata": {
    "ExecuteTime": {
     "end_time": "2024-11-26T01:15:58.881785Z",
     "start_time": "2024-11-26T01:15:53.960686Z"
    }
   },
   "source": [
    "import statsmodels.api as sm\n",
    "import pandas as pd\n",
    "import numpy as np\n",
    "import yfinance as yf \n",
    "\n",
    "# pip install yfinance\n",
    "# https://pypi.org/project/yfinance/"
   ],
   "outputs": [],
   "execution_count": 1
  },
  {
   "cell_type": "code",
   "metadata": {
    "ExecuteTime": {
     "end_time": "2024-11-26T01:15:59.271451Z",
     "start_time": "2024-11-26T01:15:58.895232Z"
    }
   },
   "source": [
    "# download price data\n",
    "univ = ['SPY','META']\n",
    "px = yf.download(univ, start=\"2016-01-01\")['Adj Close']"
   ],
   "outputs": [
    {
     "name": "stderr",
     "output_type": "stream",
     "text": [
      "[*********************100%***********************]  2 of 2 completed\n"
     ]
    }
   ],
   "execution_count": 2
  },
  {
   "cell_type": "code",
   "metadata": {
    "ExecuteTime": {
     "end_time": "2024-11-26T01:15:59.319152Z",
     "start_time": "2024-11-26T01:15:59.313523Z"
    }
   },
   "source": [
    "px"
   ],
   "outputs": [
    {
     "data": {
      "text/plain": [
       "Ticker                           META         SPY\n",
       "Date                                             \n",
       "2016-01-04 00:00:00+00:00  101.913155  172.953018\n",
       "2016-01-05 00:00:00+00:00  102.421623  173.245544\n",
       "2016-01-06 00:00:00+00:00  102.660904  171.060211\n",
       "2016-01-07 00:00:00+00:00   97.626060  166.956223\n",
       "2016-01-08 00:00:00+00:00   97.037827  165.123627\n",
       "...                               ...         ...\n",
       "2024-11-19 00:00:00+00:00  561.090027  590.299988\n",
       "2024-11-20 00:00:00+00:00  565.520020  590.500000\n",
       "2024-11-21 00:00:00+00:00  563.090027  593.669983\n",
       "2024-11-22 00:00:00+00:00  559.140015  595.510010\n",
       "2024-11-25 00:00:00+00:00  565.109985  597.530029\n",
       "\n",
       "[2240 rows x 2 columns]"
      ],
      "text/html": [
       "<div>\n",
       "<style scoped>\n",
       "    .dataframe tbody tr th:only-of-type {\n",
       "        vertical-align: middle;\n",
       "    }\n",
       "\n",
       "    .dataframe tbody tr th {\n",
       "        vertical-align: top;\n",
       "    }\n",
       "\n",
       "    .dataframe thead th {\n",
       "        text-align: right;\n",
       "    }\n",
       "</style>\n",
       "<table border=\"1\" class=\"dataframe\">\n",
       "  <thead>\n",
       "    <tr style=\"text-align: right;\">\n",
       "      <th>Ticker</th>\n",
       "      <th>META</th>\n",
       "      <th>SPY</th>\n",
       "    </tr>\n",
       "    <tr>\n",
       "      <th>Date</th>\n",
       "      <th></th>\n",
       "      <th></th>\n",
       "    </tr>\n",
       "  </thead>\n",
       "  <tbody>\n",
       "    <tr>\n",
       "      <th>2016-01-04 00:00:00+00:00</th>\n",
       "      <td>101.913155</td>\n",
       "      <td>172.953018</td>\n",
       "    </tr>\n",
       "    <tr>\n",
       "      <th>2016-01-05 00:00:00+00:00</th>\n",
       "      <td>102.421623</td>\n",
       "      <td>173.245544</td>\n",
       "    </tr>\n",
       "    <tr>\n",
       "      <th>2016-01-06 00:00:00+00:00</th>\n",
       "      <td>102.660904</td>\n",
       "      <td>171.060211</td>\n",
       "    </tr>\n",
       "    <tr>\n",
       "      <th>2016-01-07 00:00:00+00:00</th>\n",
       "      <td>97.626060</td>\n",
       "      <td>166.956223</td>\n",
       "    </tr>\n",
       "    <tr>\n",
       "      <th>2016-01-08 00:00:00+00:00</th>\n",
       "      <td>97.037827</td>\n",
       "      <td>165.123627</td>\n",
       "    </tr>\n",
       "    <tr>\n",
       "      <th>...</th>\n",
       "      <td>...</td>\n",
       "      <td>...</td>\n",
       "    </tr>\n",
       "    <tr>\n",
       "      <th>2024-11-19 00:00:00+00:00</th>\n",
       "      <td>561.090027</td>\n",
       "      <td>590.299988</td>\n",
       "    </tr>\n",
       "    <tr>\n",
       "      <th>2024-11-20 00:00:00+00:00</th>\n",
       "      <td>565.520020</td>\n",
       "      <td>590.500000</td>\n",
       "    </tr>\n",
       "    <tr>\n",
       "      <th>2024-11-21 00:00:00+00:00</th>\n",
       "      <td>563.090027</td>\n",
       "      <td>593.669983</td>\n",
       "    </tr>\n",
       "    <tr>\n",
       "      <th>2024-11-22 00:00:00+00:00</th>\n",
       "      <td>559.140015</td>\n",
       "      <td>595.510010</td>\n",
       "    </tr>\n",
       "    <tr>\n",
       "      <th>2024-11-25 00:00:00+00:00</th>\n",
       "      <td>565.109985</td>\n",
       "      <td>597.530029</td>\n",
       "    </tr>\n",
       "  </tbody>\n",
       "</table>\n",
       "<p>2240 rows × 2 columns</p>\n",
       "</div>"
      ]
     },
     "execution_count": 3,
     "metadata": {},
     "output_type": "execute_result"
    }
   ],
   "execution_count": 3
  },
  {
   "cell_type": "code",
   "metadata": {
    "ExecuteTime": {
     "end_time": "2024-11-26T01:15:59.399063Z",
     "start_time": "2024-11-26T01:15:59.393957Z"
    }
   },
   "source": [
    "# get returns\n",
    "ret = px / px.shift() - 1\n",
    "ret"
   ],
   "outputs": [
    {
     "data": {
      "text/plain": [
       "Ticker                         META       SPY\n",
       "Date                                         \n",
       "2016-01-04 00:00:00+00:00       NaN       NaN\n",
       "2016-01-05 00:00:00+00:00  0.004989  0.001691\n",
       "2016-01-06 00:00:00+00:00  0.002336 -0.012614\n",
       "2016-01-07 00:00:00+00:00 -0.049043 -0.023991\n",
       "2016-01-08 00:00:00+00:00 -0.006025 -0.010977\n",
       "...                             ...       ...\n",
       "2024-11-19 00:00:00+00:00  0.012067  0.003655\n",
       "2024-11-20 00:00:00+00:00  0.007895  0.000339\n",
       "2024-11-21 00:00:00+00:00 -0.004297  0.005368\n",
       "2024-11-22 00:00:00+00:00 -0.007015  0.003099\n",
       "2024-11-25 00:00:00+00:00  0.010677  0.003392\n",
       "\n",
       "[2240 rows x 2 columns]"
      ],
      "text/html": [
       "<div>\n",
       "<style scoped>\n",
       "    .dataframe tbody tr th:only-of-type {\n",
       "        vertical-align: middle;\n",
       "    }\n",
       "\n",
       "    .dataframe tbody tr th {\n",
       "        vertical-align: top;\n",
       "    }\n",
       "\n",
       "    .dataframe thead th {\n",
       "        text-align: right;\n",
       "    }\n",
       "</style>\n",
       "<table border=\"1\" class=\"dataframe\">\n",
       "  <thead>\n",
       "    <tr style=\"text-align: right;\">\n",
       "      <th>Ticker</th>\n",
       "      <th>META</th>\n",
       "      <th>SPY</th>\n",
       "    </tr>\n",
       "    <tr>\n",
       "      <th>Date</th>\n",
       "      <th></th>\n",
       "      <th></th>\n",
       "    </tr>\n",
       "  </thead>\n",
       "  <tbody>\n",
       "    <tr>\n",
       "      <th>2016-01-04 00:00:00+00:00</th>\n",
       "      <td>NaN</td>\n",
       "      <td>NaN</td>\n",
       "    </tr>\n",
       "    <tr>\n",
       "      <th>2016-01-05 00:00:00+00:00</th>\n",
       "      <td>0.004989</td>\n",
       "      <td>0.001691</td>\n",
       "    </tr>\n",
       "    <tr>\n",
       "      <th>2016-01-06 00:00:00+00:00</th>\n",
       "      <td>0.002336</td>\n",
       "      <td>-0.012614</td>\n",
       "    </tr>\n",
       "    <tr>\n",
       "      <th>2016-01-07 00:00:00+00:00</th>\n",
       "      <td>-0.049043</td>\n",
       "      <td>-0.023991</td>\n",
       "    </tr>\n",
       "    <tr>\n",
       "      <th>2016-01-08 00:00:00+00:00</th>\n",
       "      <td>-0.006025</td>\n",
       "      <td>-0.010977</td>\n",
       "    </tr>\n",
       "    <tr>\n",
       "      <th>...</th>\n",
       "      <td>...</td>\n",
       "      <td>...</td>\n",
       "    </tr>\n",
       "    <tr>\n",
       "      <th>2024-11-19 00:00:00+00:00</th>\n",
       "      <td>0.012067</td>\n",
       "      <td>0.003655</td>\n",
       "    </tr>\n",
       "    <tr>\n",
       "      <th>2024-11-20 00:00:00+00:00</th>\n",
       "      <td>0.007895</td>\n",
       "      <td>0.000339</td>\n",
       "    </tr>\n",
       "    <tr>\n",
       "      <th>2024-11-21 00:00:00+00:00</th>\n",
       "      <td>-0.004297</td>\n",
       "      <td>0.005368</td>\n",
       "    </tr>\n",
       "    <tr>\n",
       "      <th>2024-11-22 00:00:00+00:00</th>\n",
       "      <td>-0.007015</td>\n",
       "      <td>0.003099</td>\n",
       "    </tr>\n",
       "    <tr>\n",
       "      <th>2024-11-25 00:00:00+00:00</th>\n",
       "      <td>0.010677</td>\n",
       "      <td>0.003392</td>\n",
       "    </tr>\n",
       "  </tbody>\n",
       "</table>\n",
       "<p>2240 rows × 2 columns</p>\n",
       "</div>"
      ]
     },
     "execution_count": 4,
     "metadata": {},
     "output_type": "execute_result"
    }
   ],
   "execution_count": 4
  },
  {
   "cell_type": "code",
   "metadata": {
    "ExecuteTime": {
     "end_time": "2024-11-26T01:15:59.468989Z",
     "start_time": "2024-11-26T01:15:59.465712Z"
    }
   },
   "source": [
    "# set X and Y. Have to add constant\n",
    "X = ret[['SPY']]\n",
    "X = sm.add_constant(X)\n",
    "\n",
    "Y = ret['META']"
   ],
   "outputs": [],
   "execution_count": 5
  },
  {
   "cell_type": "code",
   "metadata": {
    "ExecuteTime": {
     "end_time": "2024-11-26T01:16:02.309456Z",
     "start_time": "2024-11-26T01:16:02.304762Z"
    }
   },
   "source": [
    "# observe x,y\n",
    "print (X)\n",
    "print (Y)"
   ],
   "outputs": [
    {
     "name": "stdout",
     "output_type": "stream",
     "text": [
      "                           const       SPY\n",
      "Date                                      \n",
      "2016-01-04 00:00:00+00:00    1.0       NaN\n",
      "2016-01-05 00:00:00+00:00    1.0  0.001691\n",
      "2016-01-06 00:00:00+00:00    1.0 -0.012614\n",
      "2016-01-07 00:00:00+00:00    1.0 -0.023991\n",
      "2016-01-08 00:00:00+00:00    1.0 -0.010977\n",
      "...                          ...       ...\n",
      "2024-11-19 00:00:00+00:00    1.0  0.003655\n",
      "2024-11-20 00:00:00+00:00    1.0  0.000339\n",
      "2024-11-21 00:00:00+00:00    1.0  0.005368\n",
      "2024-11-22 00:00:00+00:00    1.0  0.003099\n",
      "2024-11-25 00:00:00+00:00    1.0  0.003392\n",
      "\n",
      "[2240 rows x 2 columns]\n",
      "Date\n",
      "2016-01-04 00:00:00+00:00         NaN\n",
      "2016-01-05 00:00:00+00:00    0.004989\n",
      "2016-01-06 00:00:00+00:00    0.002336\n",
      "2016-01-07 00:00:00+00:00   -0.049043\n",
      "2016-01-08 00:00:00+00:00   -0.006025\n",
      "                               ...   \n",
      "2024-11-19 00:00:00+00:00    0.012067\n",
      "2024-11-20 00:00:00+00:00    0.007895\n",
      "2024-11-21 00:00:00+00:00   -0.004297\n",
      "2024-11-22 00:00:00+00:00   -0.007015\n",
      "2024-11-25 00:00:00+00:00    0.010677\n",
      "Name: META, Length: 2240, dtype: float64\n"
     ]
    }
   ],
   "execution_count": 6
  },
  {
   "cell_type": "code",
   "metadata": {
    "ExecuteTime": {
     "end_time": "2024-11-26T01:16:04.914036Z",
     "start_time": "2024-11-26T01:16:04.273675Z"
    }
   },
   "source": [
    "# can't do this - missing data\n",
    "results = sm.OLS(Y, X).fit()"
   ],
   "outputs": [
    {
     "ename": "MissingDataError",
     "evalue": "exog contains inf or nans",
     "output_type": "error",
     "traceback": [
      "\u001B[0;31m---------------------------------------------------------------------------\u001B[0m",
      "\u001B[0;31mMissingDataError\u001B[0m                          Traceback (most recent call last)",
      "Cell \u001B[0;32mIn[7], line 2\u001B[0m\n\u001B[1;32m      1\u001B[0m \u001B[38;5;66;03m# can't do this - missing data\u001B[39;00m\n\u001B[0;32m----> 2\u001B[0m results \u001B[38;5;241m=\u001B[39m sm\u001B[38;5;241m.\u001B[39mOLS(Y, X)\u001B[38;5;241m.\u001B[39mfit()\n",
      "File \u001B[0;32m/opt/anaconda3/lib/python3.12/site-packages/statsmodels/regression/linear_model.py:924\u001B[0m, in \u001B[0;36mOLS.__init__\u001B[0;34m(self, endog, exog, missing, hasconst, **kwargs)\u001B[0m\n\u001B[1;32m    921\u001B[0m     msg \u001B[38;5;241m=\u001B[39m (\u001B[38;5;124m\"\u001B[39m\u001B[38;5;124mWeights are not supported in OLS and will be ignored\u001B[39m\u001B[38;5;124m\"\u001B[39m\n\u001B[1;32m    922\u001B[0m            \u001B[38;5;124m\"\u001B[39m\u001B[38;5;124mAn exception will be raised in the next version.\u001B[39m\u001B[38;5;124m\"\u001B[39m)\n\u001B[1;32m    923\u001B[0m     warnings\u001B[38;5;241m.\u001B[39mwarn(msg, ValueWarning)\n\u001B[0;32m--> 924\u001B[0m \u001B[38;5;28msuper\u001B[39m()\u001B[38;5;241m.\u001B[39m\u001B[38;5;21m__init__\u001B[39m(endog, exog, missing\u001B[38;5;241m=\u001B[39mmissing,\n\u001B[1;32m    925\u001B[0m                           hasconst\u001B[38;5;241m=\u001B[39mhasconst, \u001B[38;5;241m*\u001B[39m\u001B[38;5;241m*\u001B[39mkwargs)\n\u001B[1;32m    926\u001B[0m \u001B[38;5;28;01mif\u001B[39;00m \u001B[38;5;124m\"\u001B[39m\u001B[38;5;124mweights\u001B[39m\u001B[38;5;124m\"\u001B[39m \u001B[38;5;129;01min\u001B[39;00m \u001B[38;5;28mself\u001B[39m\u001B[38;5;241m.\u001B[39m_init_keys:\n\u001B[1;32m    927\u001B[0m     \u001B[38;5;28mself\u001B[39m\u001B[38;5;241m.\u001B[39m_init_keys\u001B[38;5;241m.\u001B[39mremove(\u001B[38;5;124m\"\u001B[39m\u001B[38;5;124mweights\u001B[39m\u001B[38;5;124m\"\u001B[39m)\n",
      "File \u001B[0;32m/opt/anaconda3/lib/python3.12/site-packages/statsmodels/regression/linear_model.py:749\u001B[0m, in \u001B[0;36mWLS.__init__\u001B[0;34m(self, endog, exog, weights, missing, hasconst, **kwargs)\u001B[0m\n\u001B[1;32m    747\u001B[0m \u001B[38;5;28;01melse\u001B[39;00m:\n\u001B[1;32m    748\u001B[0m     weights \u001B[38;5;241m=\u001B[39m weights\u001B[38;5;241m.\u001B[39msqueeze()\n\u001B[0;32m--> 749\u001B[0m \u001B[38;5;28msuper\u001B[39m()\u001B[38;5;241m.\u001B[39m\u001B[38;5;21m__init__\u001B[39m(endog, exog, missing\u001B[38;5;241m=\u001B[39mmissing,\n\u001B[1;32m    750\u001B[0m                           weights\u001B[38;5;241m=\u001B[39mweights, hasconst\u001B[38;5;241m=\u001B[39mhasconst, \u001B[38;5;241m*\u001B[39m\u001B[38;5;241m*\u001B[39mkwargs)\n\u001B[1;32m    751\u001B[0m nobs \u001B[38;5;241m=\u001B[39m \u001B[38;5;28mself\u001B[39m\u001B[38;5;241m.\u001B[39mexog\u001B[38;5;241m.\u001B[39mshape[\u001B[38;5;241m0\u001B[39m]\n\u001B[1;32m    752\u001B[0m weights \u001B[38;5;241m=\u001B[39m \u001B[38;5;28mself\u001B[39m\u001B[38;5;241m.\u001B[39mweights\n",
      "File \u001B[0;32m/opt/anaconda3/lib/python3.12/site-packages/statsmodels/regression/linear_model.py:203\u001B[0m, in \u001B[0;36mRegressionModel.__init__\u001B[0;34m(self, endog, exog, **kwargs)\u001B[0m\n\u001B[1;32m    202\u001B[0m \u001B[38;5;28;01mdef\u001B[39;00m \u001B[38;5;21m__init__\u001B[39m(\u001B[38;5;28mself\u001B[39m, endog, exog, \u001B[38;5;241m*\u001B[39m\u001B[38;5;241m*\u001B[39mkwargs):\n\u001B[0;32m--> 203\u001B[0m     \u001B[38;5;28msuper\u001B[39m()\u001B[38;5;241m.\u001B[39m\u001B[38;5;21m__init__\u001B[39m(endog, exog, \u001B[38;5;241m*\u001B[39m\u001B[38;5;241m*\u001B[39mkwargs)\n\u001B[1;32m    204\u001B[0m     \u001B[38;5;28mself\u001B[39m\u001B[38;5;241m.\u001B[39mpinv_wexog: Float64Array \u001B[38;5;241m|\u001B[39m \u001B[38;5;28;01mNone\u001B[39;00m \u001B[38;5;241m=\u001B[39m \u001B[38;5;28;01mNone\u001B[39;00m\n\u001B[1;32m    205\u001B[0m     \u001B[38;5;28mself\u001B[39m\u001B[38;5;241m.\u001B[39m_data_attr\u001B[38;5;241m.\u001B[39mextend([\u001B[38;5;124m'\u001B[39m\u001B[38;5;124mpinv_wexog\u001B[39m\u001B[38;5;124m'\u001B[39m, \u001B[38;5;124m'\u001B[39m\u001B[38;5;124mwendog\u001B[39m\u001B[38;5;124m'\u001B[39m, \u001B[38;5;124m'\u001B[39m\u001B[38;5;124mwexog\u001B[39m\u001B[38;5;124m'\u001B[39m, \u001B[38;5;124m'\u001B[39m\u001B[38;5;124mweights\u001B[39m\u001B[38;5;124m'\u001B[39m])\n",
      "File \u001B[0;32m/opt/anaconda3/lib/python3.12/site-packages/statsmodels/base/model.py:270\u001B[0m, in \u001B[0;36mLikelihoodModel.__init__\u001B[0;34m(self, endog, exog, **kwargs)\u001B[0m\n\u001B[1;32m    269\u001B[0m \u001B[38;5;28;01mdef\u001B[39;00m \u001B[38;5;21m__init__\u001B[39m(\u001B[38;5;28mself\u001B[39m, endog, exog\u001B[38;5;241m=\u001B[39m\u001B[38;5;28;01mNone\u001B[39;00m, \u001B[38;5;241m*\u001B[39m\u001B[38;5;241m*\u001B[39mkwargs):\n\u001B[0;32m--> 270\u001B[0m     \u001B[38;5;28msuper\u001B[39m()\u001B[38;5;241m.\u001B[39m\u001B[38;5;21m__init__\u001B[39m(endog, exog, \u001B[38;5;241m*\u001B[39m\u001B[38;5;241m*\u001B[39mkwargs)\n\u001B[1;32m    271\u001B[0m     \u001B[38;5;28mself\u001B[39m\u001B[38;5;241m.\u001B[39minitialize()\n",
      "File \u001B[0;32m/opt/anaconda3/lib/python3.12/site-packages/statsmodels/base/model.py:95\u001B[0m, in \u001B[0;36mModel.__init__\u001B[0;34m(self, endog, exog, **kwargs)\u001B[0m\n\u001B[1;32m     93\u001B[0m missing \u001B[38;5;241m=\u001B[39m kwargs\u001B[38;5;241m.\u001B[39mpop(\u001B[38;5;124m'\u001B[39m\u001B[38;5;124mmissing\u001B[39m\u001B[38;5;124m'\u001B[39m, \u001B[38;5;124m'\u001B[39m\u001B[38;5;124mnone\u001B[39m\u001B[38;5;124m'\u001B[39m)\n\u001B[1;32m     94\u001B[0m hasconst \u001B[38;5;241m=\u001B[39m kwargs\u001B[38;5;241m.\u001B[39mpop(\u001B[38;5;124m'\u001B[39m\u001B[38;5;124mhasconst\u001B[39m\u001B[38;5;124m'\u001B[39m, \u001B[38;5;28;01mNone\u001B[39;00m)\n\u001B[0;32m---> 95\u001B[0m \u001B[38;5;28mself\u001B[39m\u001B[38;5;241m.\u001B[39mdata \u001B[38;5;241m=\u001B[39m \u001B[38;5;28mself\u001B[39m\u001B[38;5;241m.\u001B[39m_handle_data(endog, exog, missing, hasconst,\n\u001B[1;32m     96\u001B[0m                               \u001B[38;5;241m*\u001B[39m\u001B[38;5;241m*\u001B[39mkwargs)\n\u001B[1;32m     97\u001B[0m \u001B[38;5;28mself\u001B[39m\u001B[38;5;241m.\u001B[39mk_constant \u001B[38;5;241m=\u001B[39m \u001B[38;5;28mself\u001B[39m\u001B[38;5;241m.\u001B[39mdata\u001B[38;5;241m.\u001B[39mk_constant\n\u001B[1;32m     98\u001B[0m \u001B[38;5;28mself\u001B[39m\u001B[38;5;241m.\u001B[39mexog \u001B[38;5;241m=\u001B[39m \u001B[38;5;28mself\u001B[39m\u001B[38;5;241m.\u001B[39mdata\u001B[38;5;241m.\u001B[39mexog\n",
      "File \u001B[0;32m/opt/anaconda3/lib/python3.12/site-packages/statsmodels/base/model.py:135\u001B[0m, in \u001B[0;36mModel._handle_data\u001B[0;34m(self, endog, exog, missing, hasconst, **kwargs)\u001B[0m\n\u001B[1;32m    134\u001B[0m \u001B[38;5;28;01mdef\u001B[39;00m \u001B[38;5;21m_handle_data\u001B[39m(\u001B[38;5;28mself\u001B[39m, endog, exog, missing, hasconst, \u001B[38;5;241m*\u001B[39m\u001B[38;5;241m*\u001B[39mkwargs):\n\u001B[0;32m--> 135\u001B[0m     data \u001B[38;5;241m=\u001B[39m handle_data(endog, exog, missing, hasconst, \u001B[38;5;241m*\u001B[39m\u001B[38;5;241m*\u001B[39mkwargs)\n\u001B[1;32m    136\u001B[0m     \u001B[38;5;66;03m# kwargs arrays could have changed, easier to just attach here\u001B[39;00m\n\u001B[1;32m    137\u001B[0m     \u001B[38;5;28;01mfor\u001B[39;00m key \u001B[38;5;129;01min\u001B[39;00m kwargs:\n",
      "File \u001B[0;32m/opt/anaconda3/lib/python3.12/site-packages/statsmodels/base/data.py:675\u001B[0m, in \u001B[0;36mhandle_data\u001B[0;34m(endog, exog, missing, hasconst, **kwargs)\u001B[0m\n\u001B[1;32m    672\u001B[0m     exog \u001B[38;5;241m=\u001B[39m np\u001B[38;5;241m.\u001B[39masarray(exog)\n\u001B[1;32m    674\u001B[0m klass \u001B[38;5;241m=\u001B[39m handle_data_class_factory(endog, exog)\n\u001B[0;32m--> 675\u001B[0m \u001B[38;5;28;01mreturn\u001B[39;00m klass(endog, exog\u001B[38;5;241m=\u001B[39mexog, missing\u001B[38;5;241m=\u001B[39mmissing, hasconst\u001B[38;5;241m=\u001B[39mhasconst,\n\u001B[1;32m    676\u001B[0m              \u001B[38;5;241m*\u001B[39m\u001B[38;5;241m*\u001B[39mkwargs)\n",
      "File \u001B[0;32m/opt/anaconda3/lib/python3.12/site-packages/statsmodels/base/data.py:88\u001B[0m, in \u001B[0;36mModelData.__init__\u001B[0;34m(self, endog, exog, missing, hasconst, **kwargs)\u001B[0m\n\u001B[1;32m     86\u001B[0m \u001B[38;5;28mself\u001B[39m\u001B[38;5;241m.\u001B[39mconst_idx \u001B[38;5;241m=\u001B[39m \u001B[38;5;28;01mNone\u001B[39;00m\n\u001B[1;32m     87\u001B[0m \u001B[38;5;28mself\u001B[39m\u001B[38;5;241m.\u001B[39mk_constant \u001B[38;5;241m=\u001B[39m \u001B[38;5;241m0\u001B[39m\n\u001B[0;32m---> 88\u001B[0m \u001B[38;5;28mself\u001B[39m\u001B[38;5;241m.\u001B[39m_handle_constant(hasconst)\n\u001B[1;32m     89\u001B[0m \u001B[38;5;28mself\u001B[39m\u001B[38;5;241m.\u001B[39m_check_integrity()\n\u001B[1;32m     90\u001B[0m \u001B[38;5;28mself\u001B[39m\u001B[38;5;241m.\u001B[39m_cache \u001B[38;5;241m=\u001B[39m {}\n",
      "File \u001B[0;32m/opt/anaconda3/lib/python3.12/site-packages/statsmodels/base/data.py:134\u001B[0m, in \u001B[0;36mModelData._handle_constant\u001B[0;34m(self, hasconst)\u001B[0m\n\u001B[1;32m    132\u001B[0m exog_max \u001B[38;5;241m=\u001B[39m np\u001B[38;5;241m.\u001B[39mmax(\u001B[38;5;28mself\u001B[39m\u001B[38;5;241m.\u001B[39mexog, axis\u001B[38;5;241m=\u001B[39m\u001B[38;5;241m0\u001B[39m)\n\u001B[1;32m    133\u001B[0m \u001B[38;5;28;01mif\u001B[39;00m \u001B[38;5;129;01mnot\u001B[39;00m np\u001B[38;5;241m.\u001B[39misfinite(exog_max)\u001B[38;5;241m.\u001B[39mall():\n\u001B[0;32m--> 134\u001B[0m     \u001B[38;5;28;01mraise\u001B[39;00m MissingDataError(\u001B[38;5;124m'\u001B[39m\u001B[38;5;124mexog contains inf or nans\u001B[39m\u001B[38;5;124m'\u001B[39m)\n\u001B[1;32m    135\u001B[0m exog_min \u001B[38;5;241m=\u001B[39m np\u001B[38;5;241m.\u001B[39mmin(\u001B[38;5;28mself\u001B[39m\u001B[38;5;241m.\u001B[39mexog, axis\u001B[38;5;241m=\u001B[39m\u001B[38;5;241m0\u001B[39m)\n\u001B[1;32m    136\u001B[0m const_idx \u001B[38;5;241m=\u001B[39m np\u001B[38;5;241m.\u001B[39mwhere(exog_max \u001B[38;5;241m==\u001B[39m exog_min)[\u001B[38;5;241m0\u001B[39m]\u001B[38;5;241m.\u001B[39msqueeze()\n",
      "\u001B[0;31mMissingDataError\u001B[0m: exog contains inf or nans"
     ]
    }
   ],
   "execution_count": 7
  },
  {
   "cell_type": "code",
   "metadata": {
    "ExecuteTime": {
     "end_time": "2024-11-26T01:16:05.450207Z",
     "start_time": "2024-11-26T01:16:05.444729Z"
    }
   },
   "source": [
    "# drop data\n",
    "X = X.dropna()\n",
    "Y = Y.dropna()\n",
    "results = sm.OLS(Y, X).fit()"
   ],
   "outputs": [],
   "execution_count": 8
  },
  {
   "cell_type": "code",
   "metadata": {
    "ExecuteTime": {
     "end_time": "2024-11-26T01:16:06.688126Z",
     "start_time": "2024-11-26T01:16:06.673322Z"
    }
   },
   "source": [
    "# check summary\n",
    "results.summary()"
   ],
   "outputs": [
    {
     "data": {
      "text/plain": [
       "<class 'statsmodels.iolib.summary.Summary'>\n",
       "\"\"\"\n",
       "                            OLS Regression Results                            \n",
       "==============================================================================\n",
       "Dep. Variable:                   META   R-squared:                       0.364\n",
       "Model:                            OLS   Adj. R-squared:                  0.364\n",
       "Method:                 Least Squares   F-statistic:                     1280.\n",
       "Date:                Mon, 25 Nov 2024   Prob (F-statistic):          4.38e-222\n",
       "Time:                        20:16:06   Log-Likelihood:                 5647.0\n",
       "No. Observations:                2239   AIC:                        -1.129e+04\n",
       "Df Residuals:                    2237   BIC:                        -1.128e+04\n",
       "Df Model:                           1                                         \n",
       "Covariance Type:            nonrobust                                         \n",
       "==============================================================================\n",
       "                 coef    std err          t      P>|t|      [0.025      0.975]\n",
       "------------------------------------------------------------------------------\n",
       "const          0.0003      0.000      0.631      0.528      -0.001       0.001\n",
       "SPY            1.3050      0.036     35.778      0.000       1.233       1.377\n",
       "==============================================================================\n",
       "Omnibus:                      796.011   Durbin-Watson:                   1.971\n",
       "Prob(Omnibus):                  0.000   Jarque-Bera (JB):           130990.899\n",
       "Skew:                          -0.529   Prob(JB):                         0.00\n",
       "Kurtosis:                      40.456   Cond. No.                         88.8\n",
       "==============================================================================\n",
       "\n",
       "Notes:\n",
       "[1] Standard Errors assume that the covariance matrix of the errors is correctly specified.\n",
       "\"\"\""
      ],
      "text/html": [
       "<table class=\"simpletable\">\n",
       "<caption>OLS Regression Results</caption>\n",
       "<tr>\n",
       "  <th>Dep. Variable:</th>          <td>META</td>       <th>  R-squared:         </th>  <td>   0.364</td> \n",
       "</tr>\n",
       "<tr>\n",
       "  <th>Model:</th>                   <td>OLS</td>       <th>  Adj. R-squared:    </th>  <td>   0.364</td> \n",
       "</tr>\n",
       "<tr>\n",
       "  <th>Method:</th>             <td>Least Squares</td>  <th>  F-statistic:       </th>  <td>   1280.</td> \n",
       "</tr>\n",
       "<tr>\n",
       "  <th>Date:</th>             <td>Mon, 25 Nov 2024</td> <th>  Prob (F-statistic):</th>  <td>4.38e-222</td>\n",
       "</tr>\n",
       "<tr>\n",
       "  <th>Time:</th>                 <td>20:16:06</td>     <th>  Log-Likelihood:    </th>  <td>  5647.0</td> \n",
       "</tr>\n",
       "<tr>\n",
       "  <th>No. Observations:</th>      <td>  2239</td>      <th>  AIC:               </th> <td>-1.129e+04</td>\n",
       "</tr>\n",
       "<tr>\n",
       "  <th>Df Residuals:</th>          <td>  2237</td>      <th>  BIC:               </th> <td>-1.128e+04</td>\n",
       "</tr>\n",
       "<tr>\n",
       "  <th>Df Model:</th>              <td>     1</td>      <th>                     </th>      <td> </td>    \n",
       "</tr>\n",
       "<tr>\n",
       "  <th>Covariance Type:</th>      <td>nonrobust</td>    <th>                     </th>      <td> </td>    \n",
       "</tr>\n",
       "</table>\n",
       "<table class=\"simpletable\">\n",
       "<tr>\n",
       "    <td></td>       <th>coef</th>     <th>std err</th>      <th>t</th>      <th>P>|t|</th>  <th>[0.025</th>    <th>0.975]</th>  \n",
       "</tr>\n",
       "<tr>\n",
       "  <th>const</th> <td>    0.0003</td> <td>    0.000</td> <td>    0.631</td> <td> 0.528</td> <td>   -0.001</td> <td>    0.001</td>\n",
       "</tr>\n",
       "<tr>\n",
       "  <th>SPY</th>   <td>    1.3050</td> <td>    0.036</td> <td>   35.778</td> <td> 0.000</td> <td>    1.233</td> <td>    1.377</td>\n",
       "</tr>\n",
       "</table>\n",
       "<table class=\"simpletable\">\n",
       "<tr>\n",
       "  <th>Omnibus:</th>       <td>796.011</td> <th>  Durbin-Watson:     </th>  <td>   1.971</td> \n",
       "</tr>\n",
       "<tr>\n",
       "  <th>Prob(Omnibus):</th> <td> 0.000</td>  <th>  Jarque-Bera (JB):  </th> <td>130990.899</td>\n",
       "</tr>\n",
       "<tr>\n",
       "  <th>Skew:</th>          <td>-0.529</td>  <th>  Prob(JB):          </th>  <td>    0.00</td> \n",
       "</tr>\n",
       "<tr>\n",
       "  <th>Kurtosis:</th>      <td>40.456</td>  <th>  Cond. No.          </th>  <td>    88.8</td> \n",
       "</tr>\n",
       "</table><br/><br/>Notes:<br/>[1] Standard Errors assume that the covariance matrix of the errors is correctly specified."
      ],
      "text/latex": "\\begin{center}\n\\begin{tabular}{lclc}\n\\toprule\n\\textbf{Dep. Variable:}    &       META       & \\textbf{  R-squared:         } &     0.364   \\\\\n\\textbf{Model:}            &       OLS        & \\textbf{  Adj. R-squared:    } &     0.364   \\\\\n\\textbf{Method:}           &  Least Squares   & \\textbf{  F-statistic:       } &     1280.   \\\\\n\\textbf{Date:}             & Mon, 25 Nov 2024 & \\textbf{  Prob (F-statistic):} & 4.38e-222   \\\\\n\\textbf{Time:}             &     20:16:06     & \\textbf{  Log-Likelihood:    } &    5647.0   \\\\\n\\textbf{No. Observations:} &        2239      & \\textbf{  AIC:               } & -1.129e+04  \\\\\n\\textbf{Df Residuals:}     &        2237      & \\textbf{  BIC:               } & -1.128e+04  \\\\\n\\textbf{Df Model:}         &           1      & \\textbf{                     } &             \\\\\n\\textbf{Covariance Type:}  &    nonrobust     & \\textbf{                     } &             \\\\\n\\bottomrule\n\\end{tabular}\n\\begin{tabular}{lcccccc}\n               & \\textbf{coef} & \\textbf{std err} & \\textbf{t} & \\textbf{P$> |$t$|$} & \\textbf{[0.025} & \\textbf{0.975]}  \\\\\n\\midrule\n\\textbf{const} &       0.0003  &        0.000     &     0.631  &         0.528        &       -0.001    &        0.001     \\\\\n\\textbf{SPY}   &       1.3050  &        0.036     &    35.778  &         0.000        &        1.233    &        1.377     \\\\\n\\bottomrule\n\\end{tabular}\n\\begin{tabular}{lclc}\n\\textbf{Omnibus:}       & 796.011 & \\textbf{  Durbin-Watson:     } &     1.971   \\\\\n\\textbf{Prob(Omnibus):} &   0.000 & \\textbf{  Jarque-Bera (JB):  } & 130990.899  \\\\\n\\textbf{Skew:}          &  -0.529 & \\textbf{  Prob(JB):          } &      0.00   \\\\\n\\textbf{Kurtosis:}      &  40.456 & \\textbf{  Cond. No.          } &      88.8   \\\\\n\\bottomrule\n\\end{tabular}\n%\\caption{OLS Regression Results}\n\\end{center}\n\nNotes: \\newline\n [1] Standard Errors assume that the covariance matrix of the errors is correctly specified."
     },
     "execution_count": 9,
     "metadata": {},
     "output_type": "execute_result"
    }
   ],
   "execution_count": 9
  },
  {
   "cell_type": "code",
   "metadata": {
    "ExecuteTime": {
     "end_time": "2024-11-26T01:16:07.823227Z",
     "start_time": "2024-11-26T01:16:07.818321Z"
    }
   },
   "source": [
    "# get params\n",
    "results.params"
   ],
   "outputs": [
    {
     "data": {
      "text/plain": [
       "const    0.000260\n",
       "SPY      1.305028\n",
       "dtype: float64"
      ]
     },
     "execution_count": 10,
     "metadata": {},
     "output_type": "execute_result"
    }
   ],
   "execution_count": 10
  },
  {
   "cell_type": "code",
   "metadata": {
    "ExecuteTime": {
     "end_time": "2024-11-26T01:16:08.817909Z",
     "start_time": "2024-11-26T01:16:08.813462Z"
    }
   },
   "source": [
    "# get tvalues\n",
    "results.tvalues"
   ],
   "outputs": [
    {
     "data": {
      "text/plain": [
       "const     0.631268\n",
       "SPY      35.778327\n",
       "dtype: float64"
      ]
     },
     "execution_count": 11,
     "metadata": {},
     "output_type": "execute_result"
    }
   ],
   "execution_count": 11
  },
  {
   "cell_type": "markdown",
   "metadata": {},
   "source": [
    "Reconstruct FB\n",
    "- FB<sub>t</sub> ~ $\\beta$ * SPY<sub>t</sub> + $\\alpha$ + e<sub>t</sub>"
   ]
  },
  {
   "cell_type": "code",
   "metadata": {
    "ExecuteTime": {
     "end_time": "2024-11-26T01:16:11.821551Z",
     "start_time": "2024-11-26T01:16:11.816998Z"
    }
   },
   "source": [
    "FB = results.params['SPY']*X['SPY'] + results.params['const'] + results.resid"
   ],
   "outputs": [],
   "execution_count": 12
  },
  {
   "cell_type": "code",
   "metadata": {
    "ExecuteTime": {
     "end_time": "2024-11-26T01:16:13.210016Z",
     "start_time": "2024-11-26T01:16:13.206442Z"
    }
   },
   "source": [
    "# basically identical\n",
    "(FB-Y).abs().sum()"
   ],
   "outputs": [
    {
     "data": {
      "text/plain": [
       "7.247349421979354e-16"
      ]
     },
     "execution_count": 13,
     "metadata": {},
     "output_type": "execute_result"
    }
   ],
   "execution_count": 13
  },
  {
   "cell_type": "code",
   "metadata": {
    "ExecuteTime": {
     "end_time": "2024-11-26T01:16:14.352842Z",
     "start_time": "2024-11-26T01:16:14.349151Z"
    }
   },
   "source": [
    "beta_contr = results.params['SPY']*X['SPY']\n",
    "prediction = results.params['SPY']*X['SPY'] + results.params['const']\n",
    "alpha_contr = results.params['const'] + results.resid"
   ],
   "outputs": [],
   "execution_count": 14
  },
  {
   "cell_type": "code",
   "metadata": {
    "ExecuteTime": {
     "end_time": "2024-11-26T01:16:15.582280Z",
     "start_time": "2024-11-26T01:16:15.578155Z"
    }
   },
   "source": [
    "alpha_contr"
   ],
   "outputs": [
    {
     "data": {
      "text/plain": [
       "Date\n",
       "2016-01-05 00:00:00+00:00    0.002782\n",
       "2016-01-06 00:00:00+00:00    0.018798\n",
       "2016-01-07 00:00:00+00:00   -0.017734\n",
       "2016-01-08 00:00:00+00:00    0.008299\n",
       "2016-01-11 00:00:00+00:00    0.000558\n",
       "                               ...   \n",
       "2024-11-19 00:00:00+00:00    0.007297\n",
       "2024-11-20 00:00:00+00:00    0.007453\n",
       "2024-11-21 00:00:00+00:00   -0.011303\n",
       "2024-11-22 00:00:00+00:00   -0.011060\n",
       "2024-11-25 00:00:00+00:00    0.006250\n",
       "Length: 2239, dtype: float64"
      ]
     },
     "execution_count": 15,
     "metadata": {},
     "output_type": "execute_result"
    }
   ],
   "execution_count": 15
  },
  {
   "cell_type": "code",
   "metadata": {
    "ExecuteTime": {
     "end_time": "2024-11-26T01:16:18.162238Z",
     "start_time": "2024-11-26T01:16:17.410044Z"
    }
   },
   "source": [
    "alpha_contr.cumsum().plot()"
   ],
   "outputs": [
    {
     "data": {
      "text/plain": [
       "<Axes: xlabel='Date'>"
      ]
     },
     "execution_count": 16,
     "metadata": {},
     "output_type": "execute_result"
    },
    {
     "data": {
      "text/plain": [
       "<Figure size 640x480 with 1 Axes>"
      ],
      "image/png": "[encoded data removed]"
     },
     "metadata": {},
     "output_type": "display_data"
    }
   ],
   "execution_count": 16
  },
  {
   "cell_type": "code",
   "metadata": {
    "ExecuteTime": {
     "end_time": "2024-11-26T01:16:18.705875Z",
     "start_time": "2024-11-26T01:16:18.702013Z"
    }
   },
   "source": [
    "# correl is zero to spy\n",
    "alpha_contr.corr(X['SPY'])"
   ],
   "outputs": [
    {
     "data": {
      "text/plain": [
       "-3.7669506422081165e-16"
      ]
     },
     "execution_count": 17,
     "metadata": {},
     "output_type": "execute_result"
    }
   ],
   "execution_count": 17
  },
  {
   "cell_type": "code",
   "metadata": {
    "ExecuteTime": {
     "end_time": "2024-11-26T01:16:20.647714Z",
     "start_time": "2024-11-26T01:16:20.643801Z"
    }
   },
   "source": [
    "# \"alpha\"\n",
    "alpha_contr.mean()"
   ],
   "outputs": [
    {
     "data": {
      "text/plain": [
       "0.0002596942799677939"
      ]
     },
     "execution_count": 18,
     "metadata": {},
     "output_type": "execute_result"
    }
   ],
   "execution_count": 18
  },
  {
   "cell_type": "code",
   "metadata": {
    "ExecuteTime": {
     "end_time": "2024-11-26T01:16:22.119292Z",
     "start_time": "2024-11-26T01:16:22.114522Z"
    }
   },
   "source": [
    "# information ratio\n",
    "alpha_contr.mean()/alpha_contr.std()*np.sqrt(252)"
   ],
   "outputs": [
    {
     "data": {
      "text/plain": [
       "0.21214672354168598"
      ]
     },
     "execution_count": 19,
     "metadata": {},
     "output_type": "execute_result"
    }
   ],
   "execution_count": 19
  },
  {
   "cell_type": "code",
   "metadata": {
    "ExecuteTime": {
     "end_time": "2024-11-26T01:16:23.339414Z",
     "start_time": "2024-11-26T01:16:23.335915Z"
    }
   },
   "source": [
    "# alpha t-stat\n",
    "results.tvalues['const']"
   ],
   "outputs": [
    {
     "data": {
      "text/plain": [
       "0.6312682813553395"
      ]
     },
     "execution_count": 20,
     "metadata": {},
     "output_type": "execute_result"
    }
   ],
   "execution_count": 20
  },
  {
   "cell_type": "code",
   "metadata": {
    "ExecuteTime": {
     "end_time": "2024-11-26T01:16:24.987334Z",
     "start_time": "2024-11-26T01:16:24.985664Z"
    }
   },
   "source": [],
   "outputs": [],
   "execution_count": null
  },
  {
   "metadata": {},
   "cell_type": "code",
   "outputs": [],
   "execution_count": null,
   "source": ""
  }
 ],
 "metadata": {
  "kernelspec": {
   "display_name": "Python 3",
   "language": "python",
   "name": "python3"
  },
  "language_info": {
   "codemirror_mode": {
    "name": "ipython",
    "version": 3
   },
   "file_extension": ".py",
   "mimetype": "text/x-python",
   "name": "python",
   "nbconvert_exporter": "python",
   "pygments_lexer": "ipython3",
   "version": "3.8.8"
  }
 },
 "nbformat": 4,
 "nbformat_minor": 4
}
