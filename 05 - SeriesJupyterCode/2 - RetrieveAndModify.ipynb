{
 "cells": [
  {
   "cell_type": "markdown",
   "metadata": {},
   "source": [
    "# Retrieving Values from Series"
   ]
  },
  {
   "cell_type": "code",
   "metadata": {
    "ExecuteTime": {
     "end_time": "2024-11-03T02:12:29.086182Z",
     "start_time": "2024-11-03T02:12:28.745697Z"
    }
   },
   "source": [
    "# Imports\n",
    "import pandas as pd\n",
    "ret_dict={'AAPL':-0.01,'MSFT':-0.02,'TSLA':0.015,'LULU':-0.005}\n",
    "ser=pd.Series(ret_dict)\n",
    "ser"
   ],
   "outputs": [
    {
     "data": {
      "text/plain": [
       "AAPL   -0.010\n",
       "MSFT   -0.020\n",
       "TSLA    0.015\n",
       "LULU   -0.005\n",
       "dtype: float64"
      ]
     },
     "execution_count": 1,
     "metadata": {},
     "output_type": "execute_result"
    }
   ],
   "execution_count": 1
  },
  {
   "metadata": {
    "ExecuteTime": {
     "end_time": "2024-11-03T02:12:30.514929Z",
     "start_time": "2024-11-03T02:12:30.511240Z"
    }
   },
   "cell_type": "code",
   "source": [
    "# retrieval using integers\n",
    "ser[1]"
   ],
   "outputs": [
    {
     "name": "stderr",
     "output_type": "stream",
     "text": [
      "/var/folders/4f/9230q1tn743gqfht8kjmqts40000gn/T/ipykernel_57374/4250408850.py:2: FutureWarning: Series.__getitem__ treating keys as positions is deprecated. In a future version, integer keys will always be treated as labels (consistent with DataFrame behavior). To access a value by position, use `ser.iloc[pos]`\n",
      "  ser[1]\n"
     ]
    },
    {
     "data": {
      "text/plain": [
       "-0.02"
      ]
     },
     "execution_count": 2,
     "metadata": {},
     "output_type": "execute_result"
    }
   ],
   "execution_count": 2
  },
  {
   "metadata": {
    "ExecuteTime": {
     "end_time": "2024-11-03T02:12:32.673188Z",
     "start_time": "2024-11-03T02:12:32.668583Z"
    }
   },
   "cell_type": "code",
   "source": [
    "# retrieval using key\n",
    "ser['MSFT']"
   ],
   "outputs": [
    {
     "data": {
      "text/plain": [
       "-0.02"
      ]
     },
     "execution_count": 3,
     "metadata": {},
     "output_type": "execute_result"
    }
   ],
   "execution_count": 3
  },
  {
   "cell_type": "code",
   "metadata": {
    "ExecuteTime": {
     "end_time": "2024-11-03T02:12:41.325613Z",
     "start_time": "2024-11-03T02:12:41.320633Z"
    }
   },
   "source": [
    "# multi-item retrieval using keys\n",
    "ser[['AAPL','TSLA']]"
   ],
   "outputs": [
    {
     "data": {
      "text/plain": [
       "AAPL   -0.010\n",
       "TSLA    0.015\n",
       "dtype: float64"
      ]
     },
     "execution_count": 4,
     "metadata": {},
     "output_type": "execute_result"
    }
   ],
   "execution_count": 4
  },
  {
   "cell_type": "code",
   "metadata": {
    "ExecuteTime": {
     "end_time": "2024-11-03T02:12:44.111543Z",
     "start_time": "2024-11-03T02:12:44.106432Z"
    }
   },
   "source": [
    "# multi-item integer retrieval using integers\n",
    "ser[[0,2]]"
   ],
   "outputs": [
    {
     "name": "stderr",
     "output_type": "stream",
     "text": [
      "/var/folders/4f/9230q1tn743gqfht8kjmqts40000gn/T/ipykernel_57374/1709465979.py:2: FutureWarning: Series.__getitem__ treating keys as positions is deprecated. In a future version, integer keys will always be treated as labels (consistent with DataFrame behavior). To access a value by position, use `ser.iloc[pos]`\n",
      "  ser[[0,2]]\n"
     ]
    },
    {
     "data": {
      "text/plain": [
       "AAPL   -0.010\n",
       "TSLA    0.015\n",
       "dtype: float64"
      ]
     },
     "execution_count": 5,
     "metadata": {},
     "output_type": "execute_result"
    }
   ],
   "execution_count": 5
  },
  {
   "cell_type": "code",
   "metadata": {
    "ExecuteTime": {
     "end_time": "2024-11-03T02:12:50.307054Z",
     "start_time": "2024-11-03T02:12:50.299580Z"
    }
   },
   "source": [
    "# multi-item \"slicing\"\n",
    "index=['20201201','20201202','20201203','20201204']\n",
    "tser = pd.Series([-0.01,0.015,-0.025,-0.03],index=index)\n",
    "tser"
   ],
   "outputs": [
    {
     "data": {
      "text/plain": [
       "20201201   -0.010\n",
       "20201202    0.015\n",
       "20201203   -0.025\n",
       "20201204   -0.030\n",
       "dtype: float64"
      ]
     },
     "execution_count": 6,
     "metadata": {},
     "output_type": "execute_result"
    }
   ],
   "execution_count": 6
  },
  {
   "cell_type": "code",
   "metadata": {
    "ExecuteTime": {
     "end_time": "2024-11-03T02:12:51.549387Z",
     "start_time": "2024-11-03T02:12:51.541765Z"
    }
   },
   "source": [
    "# slicing using keys\n",
    "tser['20201202':'20201204']"
   ],
   "outputs": [
    {
     "data": {
      "text/plain": [
       "20201202    0.015\n",
       "20201203   -0.025\n",
       "20201204   -0.030\n",
       "dtype: float64"
      ]
     },
     "execution_count": 7,
     "metadata": {},
     "output_type": "execute_result"
    }
   ],
   "execution_count": 7
  },
  {
   "cell_type": "code",
   "metadata": {
    "ExecuteTime": {
     "end_time": "2024-11-03T02:12:54.000091Z",
     "start_time": "2024-11-03T02:12:53.995040Z"
    }
   },
   "source": [
    "# slicing using integers\n",
    "tser[0:3]"
   ],
   "outputs": [
    {
     "data": {
      "text/plain": [
       "20201201   -0.010\n",
       "20201202    0.015\n",
       "20201203   -0.025\n",
       "dtype: float64"
      ]
     },
     "execution_count": 8,
     "metadata": {},
     "output_type": "execute_result"
    }
   ],
   "execution_count": 8
  },
  {
   "cell_type": "code",
   "metadata": {
    "ExecuteTime": {
     "end_time": "2024-11-03T02:12:55.872261Z",
     "start_time": "2024-11-03T02:12:55.867442Z"
    }
   },
   "source": [
    "# get only positive values\n",
    "filt = ser > 0\n",
    "filt"
   ],
   "outputs": [
    {
     "data": {
      "text/plain": [
       "AAPL    False\n",
       "MSFT    False\n",
       "TSLA     True\n",
       "LULU    False\n",
       "dtype: bool"
      ]
     },
     "execution_count": 9,
     "metadata": {},
     "output_type": "execute_result"
    }
   ],
   "execution_count": 9
  },
  {
   "cell_type": "code",
   "metadata": {
    "ExecuteTime": {
     "end_time": "2024-11-03T02:12:57.112235Z",
     "start_time": "2024-11-03T02:12:57.107635Z"
    }
   },
   "source": [
    "ser[filt]"
   ],
   "outputs": [
    {
     "data": {
      "text/plain": [
       "TSLA    0.015\n",
       "dtype: float64"
      ]
     },
     "execution_count": 10,
     "metadata": {},
     "output_type": "execute_result"
    }
   ],
   "execution_count": 10
  },
  {
   "cell_type": "code",
   "metadata": {
    "ExecuteTime": {
     "end_time": "2024-11-03T02:12:58.096298Z",
     "start_time": "2024-11-03T02:12:58.090126Z"
    }
   },
   "source": [
    "# get only negative values\n",
    "ser[ser<0]"
   ],
   "outputs": [
    {
     "data": {
      "text/plain": [
       "AAPL   -0.010\n",
       "MSFT   -0.020\n",
       "LULU   -0.005\n",
       "dtype: float64"
      ]
     },
     "execution_count": 11,
     "metadata": {},
     "output_type": "execute_result"
    }
   ],
   "execution_count": 11
  },
  {
   "cell_type": "code",
   "metadata": {
    "ExecuteTime": {
     "end_time": "2024-11-03T02:12:59.057102Z",
     "start_time": "2024-11-03T02:12:59.052959Z"
    }
   },
   "source": [
    "# get only returns > 5%\n",
    "ser[ser>0.05]"
   ],
   "outputs": [
    {
     "data": {
      "text/plain": [
       "Series([], dtype: float64)"
      ]
     },
     "execution_count": 12,
     "metadata": {},
     "output_type": "execute_result"
    }
   ],
   "execution_count": 12
  },
  {
   "cell_type": "markdown",
   "metadata": {},
   "source": [
    "# Modifying Values in Series"
   ]
  },
  {
   "cell_type": "code",
   "metadata": {
    "ExecuteTime": {
     "end_time": "2024-11-03T02:13:00.475548Z",
     "start_time": "2024-11-03T02:13:00.469503Z"
    }
   },
   "source": [
    "ser"
   ],
   "outputs": [
    {
     "data": {
      "text/plain": [
       "AAPL   -0.010\n",
       "MSFT   -0.020\n",
       "TSLA    0.015\n",
       "LULU   -0.005\n",
       "dtype: float64"
      ]
     },
     "execution_count": 13,
     "metadata": {},
     "output_type": "execute_result"
    }
   ],
   "execution_count": 13
  },
  {
   "cell_type": "code",
   "metadata": {
    "ExecuteTime": {
     "end_time": "2024-11-03T02:13:01.129707Z",
     "start_time": "2024-11-03T02:13:01.125648Z"
    }
   },
   "source": [
    "ser['AAPL']=-0.02\n",
    "ser"
   ],
   "outputs": [
    {
     "data": {
      "text/plain": [
       "AAPL   -0.020\n",
       "MSFT   -0.020\n",
       "TSLA    0.015\n",
       "LULU   -0.005\n",
       "dtype: float64"
      ]
     },
     "execution_count": 14,
     "metadata": {},
     "output_type": "execute_result"
    }
   ],
   "execution_count": 14
  },
  {
   "cell_type": "code",
   "metadata": {
    "ExecuteTime": {
     "end_time": "2024-11-03T02:13:01.404494Z",
     "start_time": "2024-11-03T02:13:01.399855Z"
    }
   },
   "source": [
    "ser[['AAPL','TSLA']]=[-0.03,0.03]\n",
    "ser"
   ],
   "outputs": [
    {
     "data": {
      "text/plain": [
       "AAPL   -0.030\n",
       "MSFT   -0.020\n",
       "TSLA    0.030\n",
       "LULU   -0.005\n",
       "dtype: float64"
      ]
     },
     "execution_count": 15,
     "metadata": {},
     "output_type": "execute_result"
    }
   ],
   "execution_count": 15
  },
  {
   "cell_type": "code",
   "metadata": {
    "ExecuteTime": {
     "end_time": "2024-11-03T02:13:02.004601Z",
     "start_time": "2024-11-03T02:13:02.000002Z"
    }
   },
   "source": [
    "ser[ser<0]=0\n",
    "ser"
   ],
   "outputs": [
    {
     "data": {
      "text/plain": [
       "AAPL    0.00\n",
       "MSFT    0.00\n",
       "TSLA    0.03\n",
       "LULU    0.00\n",
       "dtype: float64"
      ]
     },
     "execution_count": 16,
     "metadata": {},
     "output_type": "execute_result"
    }
   ],
   "execution_count": 16
  },
  {
   "cell_type": "code",
   "metadata": {
    "ExecuteTime": {
     "end_time": "2024-11-03T02:13:02.906039Z",
     "start_time": "2024-11-03T02:13:02.898950Z"
    }
   },
   "source": [
    "ser['MSFT':'LULU']=0\n",
    "ser"
   ],
   "outputs": [
    {
     "data": {
      "text/plain": [
       "AAPL    0.0\n",
       "MSFT    0.0\n",
       "TSLA    0.0\n",
       "LULU    0.0\n",
       "dtype: float64"
      ]
     },
     "execution_count": 17,
     "metadata": {},
     "output_type": "execute_result"
    }
   ],
   "execution_count": 17
  },
  {
   "cell_type": "code",
   "metadata": {
    "ExecuteTime": {
     "end_time": "2024-11-03T02:13:03.780341Z",
     "start_time": "2024-11-03T02:13:03.775238Z"
    }
   },
   "source": [
    "ser.index=['TSLA','MSFT','AAPL','GOOGL']\n",
    "ser"
   ],
   "outputs": [
    {
     "data": {
      "text/plain": [
       "TSLA     0.0\n",
       "MSFT     0.0\n",
       "AAPL     0.0\n",
       "GOOGL    0.0\n",
       "dtype: float64"
      ]
     },
     "execution_count": 18,
     "metadata": {},
     "output_type": "execute_result"
    }
   ],
   "execution_count": 18
  },
  {
   "metadata": {},
   "cell_type": "code",
   "outputs": [],
   "execution_count": null,
   "source": ""
  }
 ],
 "metadata": {
  "kernelspec": {
   "display_name": "Python 3",
   "language": "python",
   "name": "python3"
  },
  "language_info": {
   "codemirror_mode": {
    "name": "ipython",
    "version": 3
   },
   "file_extension": ".py",
   "mimetype": "text/x-python",
   "name": "python",
   "nbconvert_exporter": "python",
   "pygments_lexer": "ipython3",
   "version": "3.8.8"
  }
 },
 "nbformat": 4,
 "nbformat_minor": 4
}
