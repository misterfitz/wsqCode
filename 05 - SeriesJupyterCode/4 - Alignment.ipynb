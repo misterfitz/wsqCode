{
 "cells": [
  {
   "cell_type": "markdown",
   "metadata": {},
   "source": [
    "# Series Data Alignment\n",
    "1. Arithmetic alignment\n",
    "2. Boolean alignment"
   ]
  },
  {
   "cell_type": "markdown",
   "metadata": {},
   "source": [
    "#### Arithmetic Alignment"
   ]
  },
  {
   "cell_type": "code",
   "metadata": {
    "ExecuteTime": {
     "end_time": "2024-11-03T02:08:14.825570Z",
     "start_time": "2024-11-03T02:08:14.819794Z"
    }
   },
   "source": [
    "import pandas as pd\n",
    "ret1=pd.Series({'VXX':0.01,'AAPL':0.01,'LULU':-0.01,'TSLA':-0.03,'MSFT':-0.01})\n",
    "ret1"
   ],
   "outputs": [
    {
     "data": {
      "text/plain": [
       "VXX     0.01\n",
       "AAPL    0.01\n",
       "LULU   -0.01\n",
       "TSLA   -0.03\n",
       "MSFT   -0.01\n",
       "dtype: float64"
      ]
     },
     "execution_count": 2,
     "metadata": {},
     "output_type": "execute_result"
    }
   ],
   "execution_count": 2
  },
  {
   "cell_type": "code",
   "metadata": {
    "ExecuteTime": {
     "end_time": "2024-11-03T02:12:10.048899Z",
     "start_time": "2024-11-03T02:12:10.042491Z"
    }
   },
   "source": [
    "ret2=pd.Series({'VXX':0.02,'AAPL':-0.01,'LULU':0.02,'TSLA':-0.04,'MSFT':-0.02})\n",
    "ret2"
   ],
   "outputs": [
    {
     "data": {
      "text/plain": [
       "VXX     0.02\n",
       "AAPL   -0.01\n",
       "LULU    0.02\n",
       "TSLA   -0.04\n",
       "MSFT   -0.02\n",
       "dtype: float64"
      ]
     },
     "execution_count": 3,
     "metadata": {},
     "output_type": "execute_result"
    }
   ],
   "execution_count": 3
  },
  {
   "cell_type": "code",
   "metadata": {
    "ExecuteTime": {
     "end_time": "2024-11-03T02:12:11.456060Z",
     "start_time": "2024-11-03T02:12:11.447473Z"
    }
   },
   "source": [
    "ret2+ret1"
   ],
   "outputs": [
    {
     "data": {
      "text/plain": [
       "VXX     0.03\n",
       "AAPL    0.00\n",
       "LULU    0.01\n",
       "TSLA   -0.07\n",
       "MSFT   -0.03\n",
       "dtype: float64"
      ]
     },
     "execution_count": 4,
     "metadata": {},
     "output_type": "execute_result"
    }
   ],
   "execution_count": 4
  },
  {
   "cell_type": "code",
   "metadata": {
    "ExecuteTime": {
     "end_time": "2024-11-03T02:12:17.022309Z",
     "start_time": "2024-11-03T02:12:17.017422Z"
    }
   },
   "source": [
    "ret3=pd.Series({'TSLA':-0.01,'AAPL':0.02})\n",
    "ret3"
   ],
   "outputs": [
    {
     "data": {
      "text/plain": [
       "TSLA   -0.01\n",
       "AAPL    0.02\n",
       "dtype: float64"
      ]
     },
     "execution_count": 5,
     "metadata": {},
     "output_type": "execute_result"
    }
   ],
   "execution_count": 5
  },
  {
   "cell_type": "code",
   "metadata": {
    "ExecuteTime": {
     "end_time": "2024-11-03T02:12:17.962216Z",
     "start_time": "2024-11-03T02:12:17.954794Z"
    }
   },
   "source": [
    "ret1+ret3"
   ],
   "outputs": [
    {
     "data": {
      "text/plain": [
       "AAPL    0.03\n",
       "LULU     NaN\n",
       "MSFT     NaN\n",
       "TSLA   -0.04\n",
       "VXX      NaN\n",
       "dtype: float64"
      ]
     },
     "execution_count": 6,
     "metadata": {},
     "output_type": "execute_result"
    }
   ],
   "execution_count": 6
  },
  {
   "cell_type": "code",
   "metadata": {
    "scrolled": true,
    "ExecuteTime": {
     "end_time": "2024-11-03T02:12:18.568900Z",
     "start_time": "2024-11-03T02:12:18.561489Z"
    }
   },
   "source": [
    "ret1.add(ret3,fill_value=0)\n",
    "# see also \"sub\",\"div\",\"mul\""
   ],
   "outputs": [
    {
     "data": {
      "text/plain": [
       "AAPL    0.03\n",
       "LULU   -0.01\n",
       "MSFT   -0.01\n",
       "TSLA   -0.04\n",
       "VXX     0.01\n",
       "dtype: float64"
      ]
     },
     "execution_count": 7,
     "metadata": {},
     "output_type": "execute_result"
    }
   ],
   "execution_count": 7
  },
  {
   "cell_type": "markdown",
   "metadata": {},
   "source": [
    "#### Boolean Alignment"
   ]
  },
  {
   "cell_type": "code",
   "metadata": {
    "ExecuteTime": {
     "end_time": "2024-11-03T02:12:20.143509Z",
     "start_time": "2024-11-03T02:12:20.138761Z"
    }
   },
   "source": [
    "ret1 > ret2"
   ],
   "outputs": [
    {
     "data": {
      "text/plain": [
       "VXX     False\n",
       "AAPL     True\n",
       "LULU    False\n",
       "TSLA     True\n",
       "MSFT     True\n",
       "dtype: bool"
      ]
     },
     "execution_count": 8,
     "metadata": {},
     "output_type": "execute_result"
    }
   ],
   "execution_count": 8
  },
  {
   "cell_type": "code",
   "metadata": {
    "ExecuteTime": {
     "end_time": "2024-11-03T02:12:21.187316Z",
     "start_time": "2024-11-03T02:12:20.806867Z"
    }
   },
   "source": [
    "ret1 > ret3"
   ],
   "outputs": [
    {
     "ename": "ValueError",
     "evalue": "Can only compare identically-labeled Series objects",
     "output_type": "error",
     "traceback": [
      "\u001B[0;31m---------------------------------------------------------------------------\u001B[0m",
      "\u001B[0;31mValueError\u001B[0m                                Traceback (most recent call last)",
      "Cell \u001B[0;32mIn[9], line 1\u001B[0m\n\u001B[0;32m----> 1\u001B[0m ret1 \u001B[38;5;241m>\u001B[39m ret3\n",
      "File \u001B[0;32m/opt/anaconda3/lib/python3.12/site-packages/pandas/core/ops/common.py:76\u001B[0m, in \u001B[0;36m_unpack_zerodim_and_defer.<locals>.new_method\u001B[0;34m(self, other)\u001B[0m\n\u001B[1;32m     72\u001B[0m             \u001B[38;5;28;01mreturn\u001B[39;00m \u001B[38;5;28mNotImplemented\u001B[39m\n\u001B[1;32m     74\u001B[0m other \u001B[38;5;241m=\u001B[39m item_from_zerodim(other)\n\u001B[0;32m---> 76\u001B[0m \u001B[38;5;28;01mreturn\u001B[39;00m method(\u001B[38;5;28mself\u001B[39m, other)\n",
      "File \u001B[0;32m/opt/anaconda3/lib/python3.12/site-packages/pandas/core/arraylike.py:56\u001B[0m, in \u001B[0;36mOpsMixin.__gt__\u001B[0;34m(self, other)\u001B[0m\n\u001B[1;32m     54\u001B[0m \u001B[38;5;129m@unpack_zerodim_and_defer\u001B[39m(\u001B[38;5;124m\"\u001B[39m\u001B[38;5;124m__gt__\u001B[39m\u001B[38;5;124m\"\u001B[39m)\n\u001B[1;32m     55\u001B[0m \u001B[38;5;28;01mdef\u001B[39;00m \u001B[38;5;21m__gt__\u001B[39m(\u001B[38;5;28mself\u001B[39m, other):\n\u001B[0;32m---> 56\u001B[0m     \u001B[38;5;28;01mreturn\u001B[39;00m \u001B[38;5;28mself\u001B[39m\u001B[38;5;241m.\u001B[39m_cmp_method(other, operator\u001B[38;5;241m.\u001B[39mgt)\n",
      "File \u001B[0;32m/opt/anaconda3/lib/python3.12/site-packages/pandas/core/series.py:6114\u001B[0m, in \u001B[0;36mSeries._cmp_method\u001B[0;34m(self, other, op)\u001B[0m\n\u001B[1;32m   6111\u001B[0m res_name \u001B[38;5;241m=\u001B[39m ops\u001B[38;5;241m.\u001B[39mget_op_result_name(\u001B[38;5;28mself\u001B[39m, other)\n\u001B[1;32m   6113\u001B[0m \u001B[38;5;28;01mif\u001B[39;00m \u001B[38;5;28misinstance\u001B[39m(other, Series) \u001B[38;5;129;01mand\u001B[39;00m \u001B[38;5;129;01mnot\u001B[39;00m \u001B[38;5;28mself\u001B[39m\u001B[38;5;241m.\u001B[39m_indexed_same(other):\n\u001B[0;32m-> 6114\u001B[0m     \u001B[38;5;28;01mraise\u001B[39;00m \u001B[38;5;167;01mValueError\u001B[39;00m(\u001B[38;5;124m\"\u001B[39m\u001B[38;5;124mCan only compare identically-labeled Series objects\u001B[39m\u001B[38;5;124m\"\u001B[39m)\n\u001B[1;32m   6116\u001B[0m lvalues \u001B[38;5;241m=\u001B[39m \u001B[38;5;28mself\u001B[39m\u001B[38;5;241m.\u001B[39m_values\n\u001B[1;32m   6117\u001B[0m rvalues \u001B[38;5;241m=\u001B[39m extract_array(other, extract_numpy\u001B[38;5;241m=\u001B[39m\u001B[38;5;28;01mTrue\u001B[39;00m, extract_range\u001B[38;5;241m=\u001B[39m\u001B[38;5;28;01mTrue\u001B[39;00m)\n",
      "\u001B[0;31mValueError\u001B[0m: Can only compare identically-labeled Series objects"
     ]
    }
   ],
   "execution_count": 9
  },
  {
   "cell_type": "code",
   "metadata": {
    "ExecuteTime": {
     "end_time": "2024-11-03T02:12:21.247621Z",
     "start_time": "2024-10-29T16:47:29.481492Z"
    }
   },
   "source": [
    "bool1 = (ret1 > 0)\n",
    "bool1"
   ],
   "outputs": [
    {
     "data": {
      "text/plain": [
       "VXX      True\n",
       "AAPL     True\n",
       "LULU    False\n",
       "TSLA    False\n",
       "MSFT    False\n",
       "dtype: bool"
      ]
     },
     "execution_count": 10,
     "metadata": {},
     "output_type": "execute_result"
    }
   ],
   "execution_count": 10
  },
  {
   "cell_type": "code",
   "metadata": {
    "ExecuteTime": {
     "end_time": "2024-11-03T02:12:21.451702Z",
     "start_time": "2024-11-03T02:12:21.448062Z"
    }
   },
   "source": [
    "bool2 = (ret2 > 0)\n",
    "bool2"
   ],
   "outputs": [
    {
     "data": {
      "text/plain": [
       "VXX      True\n",
       "AAPL    False\n",
       "LULU     True\n",
       "TSLA    False\n",
       "MSFT    False\n",
       "dtype: bool"
      ]
     },
     "execution_count": 10,
     "metadata": {},
     "output_type": "execute_result"
    }
   ],
   "execution_count": 10
  },
  {
   "cell_type": "code",
   "metadata": {
    "ExecuteTime": {
     "end_time": "2024-11-03T02:12:21.939082Z",
     "start_time": "2024-11-03T02:12:21.929645Z"
    }
   },
   "source": [
    "bool1 & bool2"
   ],
   "outputs": [
    {
     "ename": "NameError",
     "evalue": "name 'bool1' is not defined",
     "output_type": "error",
     "traceback": [
      "\u001B[0;31m---------------------------------------------------------------------------\u001B[0m",
      "\u001B[0;31mNameError\u001B[0m                                 Traceback (most recent call last)",
      "Cell \u001B[0;32mIn[11], line 1\u001B[0m\n\u001B[0;32m----> 1\u001B[0m bool1 \u001B[38;5;241m&\u001B[39m bool2\n",
      "\u001B[0;31mNameError\u001B[0m: name 'bool1' is not defined"
     ]
    }
   ],
   "execution_count": 11
  },
  {
   "cell_type": "code",
   "metadata": {
    "ExecuteTime": {
     "end_time": "2024-11-03T02:12:22.331785Z",
     "start_time": "2024-11-03T02:12:22.319324Z"
    }
   },
   "source": [
    "bool1 | bool2"
   ],
   "outputs": [
    {
     "ename": "NameError",
     "evalue": "name 'bool1' is not defined",
     "output_type": "error",
     "traceback": [
      "\u001B[0;31m---------------------------------------------------------------------------\u001B[0m",
      "\u001B[0;31mNameError\u001B[0m                                 Traceback (most recent call last)",
      "Cell \u001B[0;32mIn[12], line 1\u001B[0m\n\u001B[0;32m----> 1\u001B[0m bool1 \u001B[38;5;241m|\u001B[39m bool2\n",
      "\u001B[0;31mNameError\u001B[0m: name 'bool1' is not defined"
     ]
    }
   ],
   "execution_count": 12
  },
  {
   "cell_type": "code",
   "metadata": {
    "ExecuteTime": {
     "end_time": "2024-11-03T02:12:22.723009Z",
     "start_time": "2024-11-03T02:12:22.712999Z"
    }
   },
   "source": [
    "bool2 & bool1[['MSFT','TSLA','LULU','AAPL','VXX']]"
   ],
   "outputs": [
    {
     "ename": "NameError",
     "evalue": "name 'bool1' is not defined",
     "output_type": "error",
     "traceback": [
      "\u001B[0;31m---------------------------------------------------------------------------\u001B[0m",
      "\u001B[0;31mNameError\u001B[0m                                 Traceback (most recent call last)",
      "Cell \u001B[0;32mIn[13], line 1\u001B[0m\n\u001B[0;32m----> 1\u001B[0m bool2 \u001B[38;5;241m&\u001B[39m bool1[[\u001B[38;5;124m'\u001B[39m\u001B[38;5;124mMSFT\u001B[39m\u001B[38;5;124m'\u001B[39m,\u001B[38;5;124m'\u001B[39m\u001B[38;5;124mTSLA\u001B[39m\u001B[38;5;124m'\u001B[39m,\u001B[38;5;124m'\u001B[39m\u001B[38;5;124mLULU\u001B[39m\u001B[38;5;124m'\u001B[39m,\u001B[38;5;124m'\u001B[39m\u001B[38;5;124mAAPL\u001B[39m\u001B[38;5;124m'\u001B[39m,\u001B[38;5;124m'\u001B[39m\u001B[38;5;124mVXX\u001B[39m\u001B[38;5;124m'\u001B[39m]]\n",
      "\u001B[0;31mNameError\u001B[0m: name 'bool1' is not defined"
     ]
    }
   ],
   "execution_count": 13
  },
  {
   "cell_type": "code",
   "metadata": {
    "ExecuteTime": {
     "end_time": "2024-11-03T02:12:23.153763Z",
     "start_time": "2024-11-03T02:12:23.145506Z"
    }
   },
   "source": [
    "bool2 & bool1[['VXX']]"
   ],
   "outputs": [
    {
     "ename": "NameError",
     "evalue": "name 'bool1' is not defined",
     "output_type": "error",
     "traceback": [
      "\u001B[0;31m---------------------------------------------------------------------------\u001B[0m",
      "\u001B[0;31mNameError\u001B[0m                                 Traceback (most recent call last)",
      "Cell \u001B[0;32mIn[14], line 1\u001B[0m\n\u001B[0;32m----> 1\u001B[0m bool2 \u001B[38;5;241m&\u001B[39m bool1[[\u001B[38;5;124m'\u001B[39m\u001B[38;5;124mVXX\u001B[39m\u001B[38;5;124m'\u001B[39m]]\n",
      "\u001B[0;31mNameError\u001B[0m: name 'bool1' is not defined"
     ]
    }
   ],
   "execution_count": 14
  },
  {
   "cell_type": "code",
   "execution_count": null,
   "metadata": {},
   "outputs": [],
   "source": []
  }
 ],
 "metadata": {
  "kernelspec": {
   "display_name": "Python 3",
   "language": "python",
   "name": "python3"
  },
  "language_info": {
   "codemirror_mode": {
    "name": "ipython",
    "version": 3
   },
   "file_extension": ".py",
   "mimetype": "text/x-python",
   "name": "python",
   "nbconvert_exporter": "python",
   "pygments_lexer": "ipython3",
   "version": "3.8.8"
  }
 },
 "nbformat": 4,
 "nbformat_minor": 4
}
