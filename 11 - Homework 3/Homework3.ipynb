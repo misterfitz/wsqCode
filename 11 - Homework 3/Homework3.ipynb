{
 "cells": [
  {
   "cell_type": "markdown",
   "id": "d62019c7",
   "metadata": {},
   "source": [
    "# Homework 3 - Simple Momentum Strategy"
   ]
  },
  {
   "cell_type": "markdown",
   "id": "79257f3c",
   "metadata": {},
   "source": [
    "1. Download daily price data for QQQ, TLT, GLD, RWO from yahoo finance since 2016-01-01. Using the adjusted close price data, compute daily returns. This should be a DataFrame with index=date, columns=ticker and values=daily returns."
   ]
  },
  {
   "cell_type": "code",
   "id": "4201ac51",
   "metadata": {
    "ExecuteTime": {
     "end_time": "2024-11-15T02:26:38.597574Z",
     "start_time": "2024-11-15T02:24:08.208833Z"
    }
   },
   "source": [
    "import yfinance as yf\n",
    "tickers = ['QQQ', 'TLT', 'GLD', 'RWO']\n",
    "data = yf.download(tickers, start='2016-01-01')['Adj Close']\n",
    "ret = data.pct_change().dropna()\n",
    "ret.head()\n"
   ],
   "outputs": [
    {
     "name": "stderr",
     "output_type": "stream",
     "text": [
      "[*********************100%***********************]  4 of 4 completed\n"
     ]
    },
    {
     "data": {
      "text/plain": [
       "Ticker                          GLD       QQQ       RWO       TLT\n",
       "Date                                                             \n",
       "2016-01-05 00:00:00+00:00  0.002819 -0.001735  0.012116 -0.004035\n",
       "2016-01-06 00:00:00+00:00  0.014441 -0.009606 -0.007696  0.013476\n",
       "2016-01-07 00:00:00+00:00  0.014140 -0.031313 -0.017880  0.001795\n",
       "2016-01-08 00:00:00+00:00 -0.004428 -0.008201 -0.015135  0.004478\n",
       "2016-01-11 00:00:00+00:00 -0.008895  0.003076  0.003118 -0.010944"
      ],
      "text/html": [
       "<div>\n",
       "<style scoped>\n",
       "    .dataframe tbody tr th:only-of-type {\n",
       "        vertical-align: middle;\n",
       "    }\n",
       "\n",
       "    .dataframe tbody tr th {\n",
       "        vertical-align: top;\n",
       "    }\n",
       "\n",
       "    .dataframe thead th {\n",
       "        text-align: right;\n",
       "    }\n",
       "</style>\n",
       "<table border=\"1\" class=\"dataframe\">\n",
       "  <thead>\n",
       "    <tr style=\"text-align: right;\">\n",
       "      <th>Ticker</th>\n",
       "      <th>GLD</th>\n",
       "      <th>QQQ</th>\n",
       "      <th>RWO</th>\n",
       "      <th>TLT</th>\n",
       "    </tr>\n",
       "    <tr>\n",
       "      <th>Date</th>\n",
       "      <th></th>\n",
       "      <th></th>\n",
       "      <th></th>\n",
       "      <th></th>\n",
       "    </tr>\n",
       "  </thead>\n",
       "  <tbody>\n",
       "    <tr>\n",
       "      <th>2016-01-05 00:00:00+00:00</th>\n",
       "      <td>0.002819</td>\n",
       "      <td>-0.001735</td>\n",
       "      <td>0.012116</td>\n",
       "      <td>-0.004035</td>\n",
       "    </tr>\n",
       "    <tr>\n",
       "      <th>2016-01-06 00:00:00+00:00</th>\n",
       "      <td>0.014441</td>\n",
       "      <td>-0.009606</td>\n",
       "      <td>-0.007696</td>\n",
       "      <td>0.013476</td>\n",
       "    </tr>\n",
       "    <tr>\n",
       "      <th>2016-01-07 00:00:00+00:00</th>\n",
       "      <td>0.014140</td>\n",
       "      <td>-0.031313</td>\n",
       "      <td>-0.017880</td>\n",
       "      <td>0.001795</td>\n",
       "    </tr>\n",
       "    <tr>\n",
       "      <th>2016-01-08 00:00:00+00:00</th>\n",
       "      <td>-0.004428</td>\n",
       "      <td>-0.008201</td>\n",
       "      <td>-0.015135</td>\n",
       "      <td>0.004478</td>\n",
       "    </tr>\n",
       "    <tr>\n",
       "      <th>2016-01-11 00:00:00+00:00</th>\n",
       "      <td>-0.008895</td>\n",
       "      <td>0.003076</td>\n",
       "      <td>0.003118</td>\n",
       "      <td>-0.010944</td>\n",
       "    </tr>\n",
       "  </tbody>\n",
       "</table>\n",
       "</div>"
      ]
     },
     "execution_count": 1,
     "metadata": {},
     "output_type": "execute_result"
    }
   ],
   "execution_count": 1
  },
  {
   "cell_type": "markdown",
   "id": "d21d6024",
   "metadata": {},
   "source": [
    "2. Compute the signal. Complete the compute_momentum function which computes a simple momentum signal. The function takes in a DataFrame with index = date, columns=ticker and values containing daily returns. It returns a new DataFrame with index = date, columns=ticker and values containing the momentum signal for the ticker on that day. The momentum signal for each ticker is defined as the annualized sharpe ratio of the past 252 days."
   ]
  },
  {
   "cell_type": "code",
   "id": "30cf8a71",
   "metadata": {
    "ExecuteTime": {
     "end_time": "2024-11-15T02:26:46.466208Z",
     "start_time": "2024-11-15T02:26:46.439488Z"
    }
   },
   "source": [
    "def compute_momentum(ret):\n",
    "    # fill out the body here\n",
    "    # return a DataFrame \"momentum\" containing a simple momentum indicator\n",
    "    rolling_mean = ret.rolling(window=252).mean()\n",
    "    rolling_std = ret.rolling(window=252).std()\n",
    "    \n",
    "    # compute the sharpe ration\n",
    "    momentum = rolling_mean / rolling_std\n",
    "    \n",
    "    #annualize the sharpe ratio \n",
    "    momentum = momentum * np.ssafaqrt(252)\n",
    "    \n",
    "    return momentum.dropna()\n",
    "\n",
    "mom = compute_momentum(ret)"
   ],
   "outputs": [
    {
     "ename": "NameError",
     "evalue": "name 'np' is not defined",
     "output_type": "error",
     "traceback": [
      "\u001B[0;31m---------------------------------------------------------------------------\u001B[0m",
      "\u001B[0;31mNameError\u001B[0m                                 Traceback (most recent call last)",
      "Cell \u001B[0;32mIn[4], line 15\u001B[0m\n\u001B[1;32m     11\u001B[0m     momentum \u001B[38;5;241m=\u001B[39m momentum \u001B[38;5;241m*\u001B[39m np\u001B[38;5;241m.\u001B[39msqrt(\u001B[38;5;241m252\u001B[39m)\n\u001B[1;32m     13\u001B[0m     \u001B[38;5;28;01mreturn\u001B[39;00m momentum\u001B[38;5;241m.\u001B[39mdropna()\n\u001B[0;32m---> 15\u001B[0m mom \u001B[38;5;241m=\u001B[39m compute_momentum(ret)\n",
      "Cell \u001B[0;32mIn[4], line 11\u001B[0m, in \u001B[0;36mcompute_momentum\u001B[0;34m(ret)\u001B[0m\n\u001B[1;32m      8\u001B[0m momentum \u001B[38;5;241m=\u001B[39m rolling_mean \u001B[38;5;241m/\u001B[39m rolling_std\n\u001B[1;32m     10\u001B[0m \u001B[38;5;66;03m#annualize the sharpe ratio \u001B[39;00m\n\u001B[0;32m---> 11\u001B[0m momentum \u001B[38;5;241m=\u001B[39m momentum \u001B[38;5;241m*\u001B[39m np\u001B[38;5;241m.\u001B[39msqrt(\u001B[38;5;241m252\u001B[39m)\n\u001B[1;32m     13\u001B[0m \u001B[38;5;28;01mreturn\u001B[39;00m momentum\u001B[38;5;241m.\u001B[39mdropna()\n",
      "\u001B[0;31mNameError\u001B[0m: name 'np' is not defined"
     ]
    }
   ],
   "execution_count": 4
  },
  {
   "cell_type": "markdown",
   "id": "29828e83",
   "metadata": {},
   "source": [
    "3. Create a portfolio. Complete the function compute_portfolio. This function takes as input the DataFrame \"momentum\" from above. It returns a new DataFrame \"portfolio\" which has the same index/columns and has as values portfolio weights. The weights are computed as follows. On each date, equal-weight long the tickers with a momentum signal above 1."
   ]
  },
  {
   "cell_type": "code",
   "id": "e9b7ac56",
   "metadata": {
    "ExecuteTime": {
     "end_time": "2024-11-15T02:26:38.922063Z",
     "start_time": "2024-11-15T02:26:38.676634Z"
    }
   },
   "source": [
    "def compute_portfolio(momentum):\n",
    "    # fill out the body here\n",
    "    # return a DataFrame \"portfolio\" containing portfolio weights\n",
    "    return portfolio\n",
    "\n",
    "compute_portfolio(mom)\n"
   ],
   "outputs": [
    {
     "ename": "NameError",
     "evalue": "name 'mom' is not defined",
     "output_type": "error",
     "traceback": [
      "\u001B[0;31m---------------------------------------------------------------------------\u001B[0m",
      "\u001B[0;31mNameError\u001B[0m                                 Traceback (most recent call last)",
      "Cell \u001B[0;32mIn[3], line 6\u001B[0m\n\u001B[1;32m      1\u001B[0m \u001B[38;5;28;01mdef\u001B[39;00m \u001B[38;5;21mcompute_portfolio\u001B[39m(momentum):\n\u001B[1;32m      2\u001B[0m     \u001B[38;5;66;03m# fill out the body here\u001B[39;00m\n\u001B[1;32m      3\u001B[0m     \u001B[38;5;66;03m# return a DataFrame \"portfolio\" containing portfolio weights\u001B[39;00m\n\u001B[1;32m      4\u001B[0m     \u001B[38;5;28;01mreturn\u001B[39;00m portfolio\n\u001B[0;32m----> 6\u001B[0m compute_portfolio(mom)\n",
      "\u001B[0;31mNameError\u001B[0m: name 'mom' is not defined"
     ]
    }
   ],
   "execution_count": 3
  },
  {
   "cell_type": "markdown",
   "id": "c82b3276",
   "metadata": {},
   "source": [
    "4. Portfolio returns. Using the \"portfolio\" returned in part(3) and the returns generated in part(1), compute the returns to the simple momentum strategy. \n",
    "- What is the annualized sharpe ratio of the strategy? \n",
    "- How about the annualized sharpe ratio within each year? \n",
    "- How correlated is the strategy with the underlying tickers?\n",
    "- Plot the cumulative sum of the returns through time"
   ]
  },
  {
   "cell_type": "code",
   "execution_count": null,
   "id": "af8e39ff",
   "metadata": {},
   "outputs": [],
   "source": []
  }
 ],
 "metadata": {
  "kernelspec": {
   "display_name": "Python 3",
   "language": "python",
   "name": "python3"
  },
  "language_info": {
   "codemirror_mode": {
    "name": "ipython",
    "version": 3
   },
   "file_extension": ".py",
   "mimetype": "text/x-python",
   "name": "python",
   "nbconvert_exporter": "python",
   "pygments_lexer": "ipython3",
   "version": "3.8.8"
  }
 },
 "nbformat": 4,
 "nbformat_minor": 5
}
