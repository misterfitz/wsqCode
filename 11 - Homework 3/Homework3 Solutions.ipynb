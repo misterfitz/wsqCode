{
 "cells": [
  {
   "cell_type": "markdown",
   "id": "2f284b99",
   "metadata": {},
   "source": [
    "# Homework 3 Solutions"
   ]
  },
  {
   "cell_type": "markdown",
   "id": "e7d80077",
   "metadata": {},
   "source": [
    "1. Download daily price data for QQQ, TLT, GLD, RWO from yahoo finance since 2016-01-01. Using the adjusted close price data, compute daily returns. This should be a DataFrame with index=date, columns=ticker and values=daily returns."
   ]
  },
  {
   "cell_type": "code",
   "execution_count": null,
   "id": "58990f2a",
   "metadata": {},
   "outputs": [],
   "source": [
    "import yfinance as yf"
   ]
  },
  {
   "cell_type": "code",
   "execution_count": null,
   "id": "91a79d37",
   "metadata": {},
   "outputs": [],
   "source": [
    "univ = ['QQQ','TLT','GLD','RWO']\n",
    "px = yf.download(univ, start=\"2016-01-01\")"
   ]
  },
  {
   "cell_type": "code",
   "execution_count": null,
   "id": "9bae36c3",
   "metadata": {},
   "outputs": [],
   "source": [
    "adj_close = px['Adj Close']\n",
    "ret = adj_close / adj_close.shift() - 1"
   ]
  },
  {
   "cell_type": "markdown",
   "id": "45a1a61d",
   "metadata": {},
   "source": [
    "2. Compute the signal. Complete the compute_momentum function which computes a simple momentum signal. The function takes in a DataFrame with index = date, columns=ticker and values containing daily returns. It returns a new DataFrame with index = date, columns=ticker and values containing the momentum signal for the ticker on that day. The momentum signal for each ticker is defined as the annualized sharpe ratio of the past 252 days."
   ]
  },
  {
   "cell_type": "code",
   "execution_count": null,
   "id": "c46cdd1f",
   "metadata": {},
   "outputs": [],
   "source": [
    "import math\n",
    "\n",
    "def compute_momentum(ret):\n",
    "    momentum = ret.rolling(252).mean()/ret.rolling(252).std()*math.sqrt(252)\n",
    "    return momentum\n",
    "\n",
    "momentum = compute_momentum(ret)\n",
    "momentum"
   ]
  },
  {
   "cell_type": "markdown",
   "id": "f383a3f2",
   "metadata": {},
   "source": [
    "3. Create a portfolio. Complete the function compute_portfolio. This function takes as input the DataFrame \"momentum\" from above. It returns a new DataFrame \"portfolio\" which has the same index/columns and has as values portfolio weights. The weights are computed as follows. On each date, equal-weight long the tickers with a momentum signal above 1."
   ]
  },
  {
   "cell_type": "code",
   "execution_count": null,
   "id": "2e751b7e",
   "metadata": {},
   "outputs": [],
   "source": [
    "def compute_portfolio(momentum):\n",
    "    portfolio = (momentum > 1)*1\n",
    "    portfolio = portfolio.div(portfolio.abs().sum(1),0)\n",
    "    return portfolio\n",
    "\n",
    "portfolio = compute_portfolio(momentum)"
   ]
  },
  {
   "cell_type": "markdown",
   "id": "7132045e",
   "metadata": {},
   "source": [
    "4. Portfolio returns. Using the \"portfolio\" returned in part(3) and the returns generated in part(1), compute the returns to the simple momentum strategy. \n",
    "- What is the annualized sharpe ratio of the strategy? \n",
    "- How about the annualized sharpe ratio within each year? \n",
    "- How correlated is the strategy with the underlying tickers?\n",
    "- Plot the cumulative sum of the returns through time"
   ]
  },
  {
   "cell_type": "code",
   "execution_count": null,
   "id": "eb1d5fa8",
   "metadata": {},
   "outputs": [],
   "source": [
    "strat_ret = (portfolio.shift()*ret).sum(1)\n",
    "# minor, but should start returns when signal starts\n",
    "strat_ret = strat_ret.loc[momentum.dropna().index[0]:] "
   ]
  },
  {
   "cell_type": "code",
   "execution_count": null,
   "id": "c4696999",
   "metadata": {},
   "outputs": [],
   "source": [
    "# sharpe\n",
    "strat_ret.mean()/strat_ret.std()*math.sqrt(252)"
   ]
  },
  {
   "cell_type": "code",
   "execution_count": null,
   "id": "990fae26",
   "metadata": {},
   "outputs": [],
   "source": [
    "# sharpe within each year\n",
    "import numpy as np \n",
    "\n",
    "sharpe = lambda x: x.mean()/x.std()*math.sqrt(252) \n",
    "strat_ret.groupby([x.year for x in strat_ret.index]).apply(sharpe)"
   ]
  },
  {
   "cell_type": "code",
   "execution_count": null,
   "id": "688f2015",
   "metadata": {},
   "outputs": [],
   "source": [
    "# correlation\n",
    "ret.corrwith(strat_ret)"
   ]
  },
  {
   "cell_type": "code",
   "execution_count": null,
   "id": "041e303d",
   "metadata": {},
   "outputs": [],
   "source": [
    "# cumulative returns\n",
    "strat_ret.cumsum().plot()"
   ]
  },
  {
   "cell_type": "code",
   "execution_count": null,
   "id": "520414a4",
   "metadata": {},
   "outputs": [],
   "source": []
  }
 ],
 "metadata": {
  "kernelspec": {
   "display_name": "Python 3",
   "language": "python",
   "name": "python3"
  },
  "language_info": {
   "codemirror_mode": {
    "name": "ipython",
    "version": 3
   },
   "file_extension": ".py",
   "mimetype": "text/x-python",
   "name": "python",
   "nbconvert_exporter": "python",
   "pygments_lexer": "ipython3",
   "version": "3.8.8"
  }
 },
 "nbformat": 4,
 "nbformat_minor": 5
}
