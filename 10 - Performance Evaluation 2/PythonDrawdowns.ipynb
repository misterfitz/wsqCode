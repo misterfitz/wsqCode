{
 "cells": [
  {
   "cell_type": "code",
   "id": "015a0545",
   "metadata": {
    "ExecuteTime": {
     "end_time": "2024-11-26T02:12:43.635262Z",
     "start_time": "2024-11-26T02:12:42.623430Z"
    }
   },
   "source": [
    "import yfinance as yf\n",
    "import pandas as pd \n",
    "%matplotlib inline\n",
    "\n",
    "univ = ['TSLA','SPY']\n",
    "px = yf.download(univ, start=\"2021-01-01\")['Adj Close']"
   ],
   "outputs": [
    {
     "name": "stderr",
     "output_type": "stream",
     "text": [
      "[*********************100%***********************]  2 of 2 completed\n"
     ]
    }
   ],
   "execution_count": 1
  },
  {
   "cell_type": "code",
   "id": "d8af5c7c",
   "metadata": {
    "ExecuteTime": {
     "end_time": "2024-11-26T02:13:27.136820Z",
     "start_time": "2024-11-26T02:13:27.130340Z"
    }
   },
   "source": [
    "px"
   ],
   "outputs": [
    {
     "data": {
      "text/plain": [
       "Ticker                            SPY        TSLA\n",
       "Date                                             \n",
       "2021-01-04 00:00:00+00:00  349.471649  243.256668\n",
       "2021-01-05 00:00:00+00:00  351.878662  245.036667\n",
       "2021-01-06 00:00:00+00:00  353.982330  251.993332\n",
       "2021-01-07 00:00:00+00:00  359.241608  272.013336\n",
       "2021-01-08 00:00:00+00:00  361.288513  293.339996\n",
       "...                               ...         ...\n",
       "2024-11-19 00:00:00+00:00  590.299988  346.000000\n",
       "2024-11-20 00:00:00+00:00  590.500000  342.029999\n",
       "2024-11-21 00:00:00+00:00  593.669983  339.640015\n",
       "2024-11-22 00:00:00+00:00  595.510010  352.559998\n",
       "2024-11-25 00:00:00+00:00  597.530029  338.589996\n",
       "\n",
       "[981 rows x 2 columns]"
      ],
      "text/html": [
       "<div>\n",
       "<style scoped>\n",
       "    .dataframe tbody tr th:only-of-type {\n",
       "        vertical-align: middle;\n",
       "    }\n",
       "\n",
       "    .dataframe tbody tr th {\n",
       "        vertical-align: top;\n",
       "    }\n",
       "\n",
       "    .dataframe thead th {\n",
       "        text-align: right;\n",
       "    }\n",
       "</style>\n",
       "<table border=\"1\" class=\"dataframe\">\n",
       "  <thead>\n",
       "    <tr style=\"text-align: right;\">\n",
       "      <th>Ticker</th>\n",
       "      <th>SPY</th>\n",
       "      <th>TSLA</th>\n",
       "    </tr>\n",
       "    <tr>\n",
       "      <th>Date</th>\n",
       "      <th></th>\n",
       "      <th></th>\n",
       "    </tr>\n",
       "  </thead>\n",
       "  <tbody>\n",
       "    <tr>\n",
       "      <th>2021-01-04 00:00:00+00:00</th>\n",
       "      <td>349.471649</td>\n",
       "      <td>243.256668</td>\n",
       "    </tr>\n",
       "    <tr>\n",
       "      <th>2021-01-05 00:00:00+00:00</th>\n",
       "      <td>351.878662</td>\n",
       "      <td>245.036667</td>\n",
       "    </tr>\n",
       "    <tr>\n",
       "      <th>2021-01-06 00:00:00+00:00</th>\n",
       "      <td>353.982330</td>\n",
       "      <td>251.993332</td>\n",
       "    </tr>\n",
       "    <tr>\n",
       "      <th>2021-01-07 00:00:00+00:00</th>\n",
       "      <td>359.241608</td>\n",
       "      <td>272.013336</td>\n",
       "    </tr>\n",
       "    <tr>\n",
       "      <th>2021-01-08 00:00:00+00:00</th>\n",
       "      <td>361.288513</td>\n",
       "      <td>293.339996</td>\n",
       "    </tr>\n",
       "    <tr>\n",
       "      <th>...</th>\n",
       "      <td>...</td>\n",
       "      <td>...</td>\n",
       "    </tr>\n",
       "    <tr>\n",
       "      <th>2024-11-19 00:00:00+00:00</th>\n",
       "      <td>590.299988</td>\n",
       "      <td>346.000000</td>\n",
       "    </tr>\n",
       "    <tr>\n",
       "      <th>2024-11-20 00:00:00+00:00</th>\n",
       "      <td>590.500000</td>\n",
       "      <td>342.029999</td>\n",
       "    </tr>\n",
       "    <tr>\n",
       "      <th>2024-11-21 00:00:00+00:00</th>\n",
       "      <td>593.669983</td>\n",
       "      <td>339.640015</td>\n",
       "    </tr>\n",
       "    <tr>\n",
       "      <th>2024-11-22 00:00:00+00:00</th>\n",
       "      <td>595.510010</td>\n",
       "      <td>352.559998</td>\n",
       "    </tr>\n",
       "    <tr>\n",
       "      <th>2024-11-25 00:00:00+00:00</th>\n",
       "      <td>597.530029</td>\n",
       "      <td>338.589996</td>\n",
       "    </tr>\n",
       "  </tbody>\n",
       "</table>\n",
       "<p>981 rows × 2 columns</p>\n",
       "</div>"
      ]
     },
     "execution_count": 3,
     "metadata": {},
     "output_type": "execute_result"
    }
   ],
   "execution_count": 3
  },
  {
   "cell_type": "code",
   "id": "f2dedfb9",
   "metadata": {
    "ExecuteTime": {
     "end_time": "2024-11-26T02:13:28.155652Z",
     "start_time": "2024-11-26T02:13:28.153668Z"
    }
   },
   "source": [
    "def drawdown(px):\n",
    "    return (px / px.expanding(min_periods=1).max() - 1)"
   ],
   "outputs": [],
   "execution_count": 4
  },
  {
   "cell_type": "code",
   "id": "9f6528cc",
   "metadata": {
    "ExecuteTime": {
     "end_time": "2024-11-26T02:17:21.872592Z",
     "start_time": "2024-11-26T02:17:21.867398Z"
    }
   },
   "source": [
    "dd = drawdown(px)"
   ],
   "outputs": [],
   "execution_count": 7
  },
  {
   "cell_type": "code",
   "id": "362e77ba",
   "metadata": {
    "ExecuteTime": {
     "end_time": "2024-11-26T02:17:22.435829Z",
     "start_time": "2024-11-26T02:17:22.428690Z"
    }
   },
   "source": [
    "dd"
   ],
   "outputs": [
    {
     "data": {
      "text/plain": [
       "Ticker                          SPY      TSLA\n",
       "Date                                         \n",
       "2021-01-04 00:00:00+00:00  0.000000  0.000000\n",
       "2021-01-05 00:00:00+00:00  0.000000  0.000000\n",
       "2021-01-06 00:00:00+00:00  0.000000  0.000000\n",
       "2021-01-07 00:00:00+00:00  0.000000  0.000000\n",
       "2021-01-08 00:00:00+00:00  0.000000  0.000000\n",
       "...                             ...       ...\n",
       "2024-11-19 00:00:00+00:00 -0.014129 -0.156036\n",
       "2024-11-20 00:00:00+00:00 -0.013795 -0.165719\n",
       "2024-11-21 00:00:00+00:00 -0.008501 -0.171549\n",
       "2024-11-22 00:00:00+00:00 -0.005428 -0.140035\n",
       "2024-11-25 00:00:00+00:00 -0.002054 -0.174110\n",
       "\n",
       "[981 rows x 2 columns]"
      ],
      "text/html": [
       "<div>\n",
       "<style scoped>\n",
       "    .dataframe tbody tr th:only-of-type {\n",
       "        vertical-align: middle;\n",
       "    }\n",
       "\n",
       "    .dataframe tbody tr th {\n",
       "        vertical-align: top;\n",
       "    }\n",
       "\n",
       "    .dataframe thead th {\n",
       "        text-align: right;\n",
       "    }\n",
       "</style>\n",
       "<table border=\"1\" class=\"dataframe\">\n",
       "  <thead>\n",
       "    <tr style=\"text-align: right;\">\n",
       "      <th>Ticker</th>\n",
       "      <th>SPY</th>\n",
       "      <th>TSLA</th>\n",
       "    </tr>\n",
       "    <tr>\n",
       "      <th>Date</th>\n",
       "      <th></th>\n",
       "      <th></th>\n",
       "    </tr>\n",
       "  </thead>\n",
       "  <tbody>\n",
       "    <tr>\n",
       "      <th>2021-01-04 00:00:00+00:00</th>\n",
       "      <td>0.000000</td>\n",
       "      <td>0.000000</td>\n",
       "    </tr>\n",
       "    <tr>\n",
       "      <th>2021-01-05 00:00:00+00:00</th>\n",
       "      <td>0.000000</td>\n",
       "      <td>0.000000</td>\n",
       "    </tr>\n",
       "    <tr>\n",
       "      <th>2021-01-06 00:00:00+00:00</th>\n",
       "      <td>0.000000</td>\n",
       "      <td>0.000000</td>\n",
       "    </tr>\n",
       "    <tr>\n",
       "      <th>2021-01-07 00:00:00+00:00</th>\n",
       "      <td>0.000000</td>\n",
       "      <td>0.000000</td>\n",
       "    </tr>\n",
       "    <tr>\n",
       "      <th>2021-01-08 00:00:00+00:00</th>\n",
       "      <td>0.000000</td>\n",
       "      <td>0.000000</td>\n",
       "    </tr>\n",
       "    <tr>\n",
       "      <th>...</th>\n",
       "      <td>...</td>\n",
       "      <td>...</td>\n",
       "    </tr>\n",
       "    <tr>\n",
       "      <th>2024-11-19 00:00:00+00:00</th>\n",
       "      <td>-0.014129</td>\n",
       "      <td>-0.156036</td>\n",
       "    </tr>\n",
       "    <tr>\n",
       "      <th>2024-11-20 00:00:00+00:00</th>\n",
       "      <td>-0.013795</td>\n",
       "      <td>-0.165719</td>\n",
       "    </tr>\n",
       "    <tr>\n",
       "      <th>2024-11-21 00:00:00+00:00</th>\n",
       "      <td>-0.008501</td>\n",
       "      <td>-0.171549</td>\n",
       "    </tr>\n",
       "    <tr>\n",
       "      <th>2024-11-22 00:00:00+00:00</th>\n",
       "      <td>-0.005428</td>\n",
       "      <td>-0.140035</td>\n",
       "    </tr>\n",
       "    <tr>\n",
       "      <th>2024-11-25 00:00:00+00:00</th>\n",
       "      <td>-0.002054</td>\n",
       "      <td>-0.174110</td>\n",
       "    </tr>\n",
       "  </tbody>\n",
       "</table>\n",
       "<p>981 rows × 2 columns</p>\n",
       "</div>"
      ]
     },
     "execution_count": 8,
     "metadata": {},
     "output_type": "execute_result"
    }
   ],
   "execution_count": 8
  },
  {
   "cell_type": "code",
   "id": "6fc2ac66",
   "metadata": {
    "ExecuteTime": {
     "end_time": "2024-11-26T02:17:28.248440Z",
     "start_time": "2024-11-26T02:17:28.186925Z"
    }
   },
   "source": [
    "dd.plot()"
   ],
   "outputs": [
    {
     "data": {
      "text/plain": [
       "<Axes: xlabel='Date'>"
      ]
     },
     "execution_count": 10,
     "metadata": {},
     "output_type": "execute_result"
    }
   ],
   "execution_count": 10
  },
  {
   "cell_type": "code",
   "id": "447e93b5",
   "metadata": {
    "ExecuteTime": {
     "end_time": "2024-11-26T02:17:29.699795Z",
     "start_time": "2024-11-26T02:17:29.693883Z"
    }
   },
   "source": [
    "dd.min()"
   ],
   "outputs": [
    {
     "data": {
      "text/plain": [
       "Ticker\n",
       "SPY    -0.244964\n",
       "TSLA   -0.736322\n",
       "dtype: float64"
      ]
     },
     "execution_count": 11,
     "metadata": {},
     "output_type": "execute_result"
    }
   ],
   "execution_count": 11
  },
  {
   "cell_type": "code",
   "id": "f6652b59",
   "metadata": {
    "ExecuteTime": {
     "end_time": "2024-11-26T02:17:31.419653Z",
     "start_time": "2024-11-26T02:17:31.413710Z"
    }
   },
   "source": [
    "def duration(px):\n",
    "    \n",
    "    peak = px.expanding(min_periods=1).max()\n",
    "    res = pd.DataFrame(index=px.index,columns=px.columns)\n",
    "    \n",
    "    for col in px.columns:\n",
    "        for dt in px.index:\n",
    "            \n",
    "            if px.loc[dt,col] >= peak.loc[dt,col]:\n",
    "                 res.loc[dt,col] = 0\n",
    "    \n",
    "            else:    \n",
    "                res.loc[dt,col] = res.loc[:dt,col].iloc[-2] + 1\n",
    "\n",
    "    return res"
   ],
   "outputs": [],
   "execution_count": 12
  },
  {
   "cell_type": "code",
   "id": "a2450d42",
   "metadata": {
    "ExecuteTime": {
     "end_time": "2024-11-26T02:17:33.318779Z",
     "start_time": "2024-11-26T02:17:33.188370Z"
    }
   },
   "source": [
    "ddd = duration(px)"
   ],
   "outputs": [],
   "execution_count": 13
  },
  {
   "metadata": {},
   "cell_type": "markdown",
   "source": "",
   "id": "4bd4489f3ca0c46d"
  },
  {
   "cell_type": "code",
   "id": "d4f53605",
   "metadata": {
    "ExecuteTime": {
     "end_time": "2024-11-26T02:17:54.511998Z",
     "start_time": "2024-11-26T02:17:54.506495Z"
    }
   },
   "source": [
    "ddd"
   ],
   "outputs": [
    {
     "data": {
      "text/plain": [
       "Ticker                    SPY TSLA\n",
       "Date                              \n",
       "2021-01-04 00:00:00+00:00   0    0\n",
       "2021-01-05 00:00:00+00:00   0    0\n",
       "2021-01-06 00:00:00+00:00   0    0\n",
       "2021-01-07 00:00:00+00:00   0    0\n",
       "2021-01-08 00:00:00+00:00   0    0\n",
       "...                        ..  ...\n",
       "2024-11-19 00:00:00+00:00   6  764\n",
       "2024-11-20 00:00:00+00:00   7  765\n",
       "2024-11-21 00:00:00+00:00   8  766\n",
       "2024-11-22 00:00:00+00:00   9  767\n",
       "2024-11-25 00:00:00+00:00  10  768\n",
       "\n",
       "[981 rows x 2 columns]"
      ],
      "text/html": [
       "<div>\n",
       "<style scoped>\n",
       "    .dataframe tbody tr th:only-of-type {\n",
       "        vertical-align: middle;\n",
       "    }\n",
       "\n",
       "    .dataframe tbody tr th {\n",
       "        vertical-align: top;\n",
       "    }\n",
       "\n",
       "    .dataframe thead th {\n",
       "        text-align: right;\n",
       "    }\n",
       "</style>\n",
       "<table border=\"1\" class=\"dataframe\">\n",
       "  <thead>\n",
       "    <tr style=\"text-align: right;\">\n",
       "      <th>Ticker</th>\n",
       "      <th>SPY</th>\n",
       "      <th>TSLA</th>\n",
       "    </tr>\n",
       "    <tr>\n",
       "      <th>Date</th>\n",
       "      <th></th>\n",
       "      <th></th>\n",
       "    </tr>\n",
       "  </thead>\n",
       "  <tbody>\n",
       "    <tr>\n",
       "      <th>2021-01-04 00:00:00+00:00</th>\n",
       "      <td>0</td>\n",
       "      <td>0</td>\n",
       "    </tr>\n",
       "    <tr>\n",
       "      <th>2021-01-05 00:00:00+00:00</th>\n",
       "      <td>0</td>\n",
       "      <td>0</td>\n",
       "    </tr>\n",
       "    <tr>\n",
       "      <th>2021-01-06 00:00:00+00:00</th>\n",
       "      <td>0</td>\n",
       "      <td>0</td>\n",
       "    </tr>\n",
       "    <tr>\n",
       "      <th>2021-01-07 00:00:00+00:00</th>\n",
       "      <td>0</td>\n",
       "      <td>0</td>\n",
       "    </tr>\n",
       "    <tr>\n",
       "      <th>2021-01-08 00:00:00+00:00</th>\n",
       "      <td>0</td>\n",
       "      <td>0</td>\n",
       "    </tr>\n",
       "    <tr>\n",
       "      <th>...</th>\n",
       "      <td>...</td>\n",
       "      <td>...</td>\n",
       "    </tr>\n",
       "    <tr>\n",
       "      <th>2024-11-19 00:00:00+00:00</th>\n",
       "      <td>6</td>\n",
       "      <td>764</td>\n",
       "    </tr>\n",
       "    <tr>\n",
       "      <th>2024-11-20 00:00:00+00:00</th>\n",
       "      <td>7</td>\n",
       "      <td>765</td>\n",
       "    </tr>\n",
       "    <tr>\n",
       "      <th>2024-11-21 00:00:00+00:00</th>\n",
       "      <td>8</td>\n",
       "      <td>766</td>\n",
       "    </tr>\n",
       "    <tr>\n",
       "      <th>2024-11-22 00:00:00+00:00</th>\n",
       "      <td>9</td>\n",
       "      <td>767</td>\n",
       "    </tr>\n",
       "    <tr>\n",
       "      <th>2024-11-25 00:00:00+00:00</th>\n",
       "      <td>10</td>\n",
       "      <td>768</td>\n",
       "    </tr>\n",
       "  </tbody>\n",
       "</table>\n",
       "<p>981 rows × 2 columns</p>\n",
       "</div>"
      ]
     },
     "execution_count": 14,
     "metadata": {},
     "output_type": "execute_result"
    }
   ],
   "execution_count": 14
  },
  {
   "cell_type": "code",
   "id": "ab42b19e",
   "metadata": {
    "ExecuteTime": {
     "end_time": "2024-11-26T02:17:57.390480Z",
     "start_time": "2024-11-26T02:17:57.305248Z"
    }
   },
   "source": [
    "ddd.plot()"
   ],
   "outputs": [
    {
     "data": {
      "text/plain": [
       "<Axes: xlabel='Date'>"
      ]
     },
     "execution_count": 15,
     "metadata": {},
     "output_type": "execute_result"
    }
   ],
   "execution_count": 15
  },
  {
   "cell_type": "code",
   "execution_count": null,
   "id": "22694ef8",
   "metadata": {},
   "outputs": [],
   "source": [
    "ddd.max()"
   ]
  },
  {
   "cell_type": "code",
   "execution_count": null,
   "id": "d6f20f7a",
   "metadata": {},
   "outputs": [],
   "source": []
  }
 ],
 "metadata": {
  "kernelspec": {
   "display_name": "Python 3",
   "language": "python",
   "name": "python3"
  },
  "language_info": {
   "codemirror_mode": {
    "name": "ipython",
    "version": 3
   },
   "file_extension": ".py",
   "mimetype": "text/x-python",
   "name": "python",
   "nbconvert_exporter": "python",
   "pygments_lexer": "ipython3",
   "version": "3.8.8"
  }
 },
 "nbformat": 4,
 "nbformat_minor": 5
}
