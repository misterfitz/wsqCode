{
 "cells": [
  {
   "cell_type": "markdown",
   "id": "f3a65277719d5be8",
   "metadata": {},
   "source": [
    "# Homework 4 - Computing Point-in-Time Residual Returns\n",
    "In this homework, we will use regressions to compute beta-adjusted \"residual\" returns in a point-in-time fashion suitable for backtesting / live trading.\n",
    "\n",
    "\n",
    "1. Download Daily Bars for FB, AAPL, AMZN, NFLX, GOOGL and QQQ from yahoo finance starting 2016-01-01. Use the Adj Close to compute daily returns.\n",
    "\n",
    "\n"
   ]
  },
  {
   "cell_type": "code",
   "id": "28c95687207c27ff",
   "metadata": {
    "jupyter": {
     "is_executing": true
    }
   },
   "source": [
    "import yfinance as yf\n",
    "\n",
    "tickers = ['META', 'AAPL', 'AMZN', 'NFLX', 'GOOGL', 'QQQ']\n",
    "data = yf.download(tickers, start=\"2020-01-01\", end=\"2021-01-01\")\n",
    "ret = data['Adj Close'].pct_change().dropna()\n",
    "ret.head()"
   ],
   "outputs": [],
   "execution_count": null
  },
  {
   "cell_type": "markdown",
   "id": "a4304a02cd96dccf",
   "metadata": {},
   "source": [
    "2. Now, let's compute the beta of FB, AAPL, AMZN, NFLX, GOOGL using QQQ as our benchmark. You can think of this as the beta these stocks have to their industry (tech). In practice,  we have to use some lookback window to compute the beta. Let's use 252 (1 year, excluding wknds/holidays). So, for each day, the betas should be computed using the most recent 252 data points."
   ]
  },
  {
   "cell_type": "markdown",
   "metadata": {},
   "source": [
    "2. Now, let's compute the beta of FB, AAPL, AMZN, NFLX, GOOGL using QQQ as our benchmark. You can think of this as the beta these stocks have to their industry (tech). In practice,  we have to use some lookback window to compute the beta. Let's use 252 (1 year, excluding wknds/holidays). So, for each day, the betas should be computed using the most recent 252 data points."
   ],
   "id": "7641a1745b5b7152"
  },
  {
   "cell_type": "code",
   "execution_count": 2,
   "id": "6c0ca3d95018b55b",
   "metadata": {
    "ExecuteTime": {
     "end_time": "2024-12-23T14:59:38.824726Z",
     "start_time": "2024-12-23T14:59:38.818431Z"
    }
   },
   "outputs": [
    {
     "data": {
      "text/plain": [
       "Ticker\n",
       "AAPL     0.704854\n",
       "AMZN     0.644051\n",
       "GOOGL   -0.207015\n",
       "META     0.038807\n",
       "NFLX     0.786211\n",
       "QQQ      0.000000\n",
       "dtype: float64"
      ]
     },
     "execution_count": 2,
     "metadata": {},
     "output_type": "execute_result"
    }
   ],
   "source": [
    "beta = ret.sum()\n",
    "beta = ret.sum() - ret['QQQ'].sum()\n",
    "beta\n"
   ]
  },
  {
   "cell_type": "markdown",
   "id": "b7b23659ffb502c1",
   "metadata": {},
   "source": []
  },
  {
   "cell_type": "markdown",
   "id": "2667337add532197",
   "metadata": {},
   "source": [
    "\n",
    "\n",
    "\n",
    "5. Using the betas, compute an \"alpha\" on each day. This is also known as a \"residual return\".\n"
   ]
  },
  {
   "cell_type": "code",
   "execution_count": 3,
   "id": "5bbc5c213c9f8a34",
   "metadata": {
    "ExecuteTime": {
     "end_time": "2024-12-23T14:59:43.232544Z",
     "start_time": "2024-12-23T14:59:43.227610Z"
    }
   },
   "outputs": [
    {
     "data": {
      "text/plain": [
       "Ticker\n",
       "AAPL     0.064088\n",
       "AMZN     0.077291\n",
       "GOOGL    0.262091\n",
       "META     0.208713\n",
       "NFLX     0.046422\n",
       "QQQ      0.217140\n",
       "dtype: float64"
      ]
     },
     "execution_count": 3,
     "metadata": {},
     "output_type": "execute_result"
    }
   ],
   "source": [
    "alpha = ret.sum() - beta*ret['QQQ'].sum() - 1\n",
    "alpha\n",
    "\n",
    "4. Compare the volatility of the residual returns to that of the original returns. What do you notice?\n",
    "\n",
    "\n",
    "5. Compare the pairwise correlations of the residual returns to that of the original returns. What do you notice?\n",
    "6. Compute the information ratio for each of these stocks and compare that to the sharpe ratio"
   ]
  },
  {
   "cell_type": "code",
   "execution_count": null,
   "id": "7e9c2fa73d18a9ae",
   "metadata": {},
   "outputs": [],
   "source": []
  }
 ],
 "metadata": {
  "kernelspec": {
   "display_name": "Python 3",
   "language": "python",
   "name": "python3"
  },
  "language_info": {
   "codemirror_mode": {
    "name": "ipython",
    "version": 3
   },
   "file_extension": ".py",
   "mimetype": "text/x-python",
   "name": "python",
   "nbconvert_exporter": "python",
   "pygments_lexer": "ipython3",
   "version": "3.12.4"
  }
 },
 "nbformat": 4,
 "nbformat_minor": 5
}
