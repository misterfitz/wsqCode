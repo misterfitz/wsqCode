{
 "cells": [
  {
   "cell_type": "markdown",
   "id": "f3a65277719d5be8",
   "metadata": {},
   "source": [
    "# Homework 4 - Computing Point-in-Time Residual Returns\n",
    "In this homework, we will use regressions to compute beta-adjusted \"residual\" returns in a point-in-time fashion suitable for backtesting / live trading.\n",
    "\n",
    "\n",
    "1. Download Daily Bars for FB, AAPL, AMZN, NFLX, GOOGL and QQQ from yahoo finance starting 2016-01-01. Use the Adj Close to compute daily returns.\n",
    "\n",
    "\n"
   ]
  },
  {
   "metadata": {
    "ExecuteTime": {
     "end_time": "2024-12-23T14:59:33.453338Z",
     "start_time": "2024-12-23T14:59:32.594704Z"
    }
   },
   "cell_type": "code",
   "source": [
    "import yfinance as yf\n",
    "tickers = ['META', 'AAPL', 'AMZN', 'NFLX', 'GOOGL', 'QQQ']\n",
    "data = yf.download(tickers, start=\"2016-01-01\", end=\"2021-01-01\")\n",
    "ret = data['Adj Close'].pct_change().dropna()\n",
    "ret.head()"
   ],
   "id": "28c95687207c27ff",
   "outputs": [
    {
     "name": "stderr",
     "output_type": "stream",
     "text": [
      "[*********************100%***********************]  6 of 6 completed\n"
     ]
    },
    {
     "data": {
      "text/plain": [
       "Ticker                         AAPL      AMZN     GOOGL      META      NFLX  \\\n",
       "Date                                                                          \n",
       "2016-01-05 00:00:00+00:00 -0.025059 -0.005024  0.002752  0.004989 -0.020917   \n",
       "2016-01-06 00:00:00+00:00 -0.019570 -0.001799 -0.002889  0.002336  0.093071   \n",
       "2016-01-07 00:00:00+00:00 -0.042205 -0.039058 -0.024140 -0.049043 -0.026513   \n",
       "2016-01-08 00:00:00+00:00  0.005288 -0.001464 -0.013617 -0.006025 -0.027671   \n",
       "2016-01-11 00:00:00+00:00  0.016192  0.017610  0.002955  0.001849  0.032139   \n",
       "\n",
       "Ticker                          QQQ  \n",
       "Date                                 \n",
       "2016-01-05 00:00:00+00:00 -0.001735  \n",
       "2016-01-06 00:00:00+00:00 -0.009605  \n",
       "2016-01-07 00:00:00+00:00 -0.031314  \n",
       "2016-01-08 00:00:00+00:00 -0.008201  \n",
       "2016-01-11 00:00:00+00:00  0.003077  "
      ],
      "text/html": [
       "<div>\n",
       "<style scoped>\n",
       "    .dataframe tbody tr th:only-of-type {\n",
       "        vertical-align: middle;\n",
       "    }\n",
       "\n",
       "    .dataframe tbody tr th {\n",
       "        vertical-align: top;\n",
       "    }\n",
       "\n",
       "    .dataframe thead th {\n",
       "        text-align: right;\n",
       "    }\n",
       "</style>\n",
       "<table border=\"1\" class=\"dataframe\">\n",
       "  <thead>\n",
       "    <tr style=\"text-align: right;\">\n",
       "      <th>Ticker</th>\n",
       "      <th>AAPL</th>\n",
       "      <th>AMZN</th>\n",
       "      <th>GOOGL</th>\n",
       "      <th>META</th>\n",
       "      <th>NFLX</th>\n",
       "      <th>QQQ</th>\n",
       "    </tr>\n",
       "    <tr>\n",
       "      <th>Date</th>\n",
       "      <th></th>\n",
       "      <th></th>\n",
       "      <th></th>\n",
       "      <th></th>\n",
       "      <th></th>\n",
       "      <th></th>\n",
       "    </tr>\n",
       "  </thead>\n",
       "  <tbody>\n",
       "    <tr>\n",
       "      <th>2016-01-05 00:00:00+00:00</th>\n",
       "      <td>-0.025059</td>\n",
       "      <td>-0.005024</td>\n",
       "      <td>0.002752</td>\n",
       "      <td>0.004989</td>\n",
       "      <td>-0.020917</td>\n",
       "      <td>-0.001735</td>\n",
       "    </tr>\n",
       "    <tr>\n",
       "      <th>2016-01-06 00:00:00+00:00</th>\n",
       "      <td>-0.019570</td>\n",
       "      <td>-0.001799</td>\n",
       "      <td>-0.002889</td>\n",
       "      <td>0.002336</td>\n",
       "      <td>0.093071</td>\n",
       "      <td>-0.009605</td>\n",
       "    </tr>\n",
       "    <tr>\n",
       "      <th>2016-01-07 00:00:00+00:00</th>\n",
       "      <td>-0.042205</td>\n",
       "      <td>-0.039058</td>\n",
       "      <td>-0.024140</td>\n",
       "      <td>-0.049043</td>\n",
       "      <td>-0.026513</td>\n",
       "      <td>-0.031314</td>\n",
       "    </tr>\n",
       "    <tr>\n",
       "      <th>2016-01-08 00:00:00+00:00</th>\n",
       "      <td>0.005288</td>\n",
       "      <td>-0.001464</td>\n",
       "      <td>-0.013617</td>\n",
       "      <td>-0.006025</td>\n",
       "      <td>-0.027671</td>\n",
       "      <td>-0.008201</td>\n",
       "    </tr>\n",
       "    <tr>\n",
       "      <th>2016-01-11 00:00:00+00:00</th>\n",
       "      <td>0.016192</td>\n",
       "      <td>0.017610</td>\n",
       "      <td>0.002955</td>\n",
       "      <td>0.001849</td>\n",
       "      <td>0.032139</td>\n",
       "      <td>0.003077</td>\n",
       "    </tr>\n",
       "  </tbody>\n",
       "</table>\n",
       "</div>"
      ]
     },
     "execution_count": 1,
     "metadata": {},
     "output_type": "execute_result"
    }
   ],
   "execution_count": 1
  },
  {
   "metadata": {},
   "cell_type": "markdown",
   "source": "2. Now, let's compute the beta of FB, AAPL, AMZN, NFLX, GOOGL using QQQ as our benchmark. You can think of this as the beta these stocks have to their industry (tech). In practice,  we have to use some lookback window to compute the beta. Let's use 252 (1 year, excluding wknds/holidays). So, for each day, the betas should be computed using the most recent 252 data points.",
   "id": "a4304a02cd96dccf"
  },
  {
   "metadata": {
    "ExecuteTime": {
     "end_time": "2024-12-23T14:59:38.824726Z",
     "start_time": "2024-12-23T14:59:38.818431Z"
    }
   },
   "cell_type": "code",
   "source": [
    "beta = ret.sum()\n",
    "beta = ret.sum() - ret['QQQ'].sum()\n",
    "beta\n"
   ],
   "id": "6c0ca3d95018b55b",
   "outputs": [
    {
     "data": {
      "text/plain": [
       "Ticker\n",
       "AAPL     0.704854\n",
       "AMZN     0.644051\n",
       "GOOGL   -0.207015\n",
       "META     0.038807\n",
       "NFLX     0.786211\n",
       "QQQ      0.000000\n",
       "dtype: float64"
      ]
     },
     "execution_count": 2,
     "metadata": {},
     "output_type": "execute_result"
    }
   ],
   "execution_count": 2
  },
  {
   "metadata": {},
   "cell_type": "markdown",
   "source": "",
   "id": "b7b23659ffb502c1"
  },
  {
   "metadata": {},
   "cell_type": "markdown",
   "source": [
    "\n",
    "\n",
    "\n",
    "5. Using the betas, compute an \"alpha\" on each day. This is also known as a \"residual return\".\n"
   ],
   "id": "2667337add532197"
  },
  {
   "metadata": {
    "ExecuteTime": {
     "end_time": "2024-12-23T14:59:43.232544Z",
     "start_time": "2024-12-23T14:59:43.227610Z"
    }
   },
   "cell_type": "code",
   "source": [
    "alpha = ret.sum() - beta*ret['QQQ'].sum() - 1\n",
    "alpha\n",
    "\n",
    "4. Compare the volatility of the residual returns to that of the original returns. What do you notice?\n",
    "\n",
    "\n",
    "5. Compare the pairwise correlations of the residual returns to that of the original returns. What do you notice?\n",
    "6. Compute the information ratio for each of these stocks and compare that to the sharpe ratio"
   ],
   "id": "5bbc5c213c9f8a34",
   "outputs": [
    {
     "data": {
      "text/plain": [
       "Ticker\n",
       "AAPL     0.064088\n",
       "AMZN     0.077291\n",
       "GOOGL    0.262091\n",
       "META     0.208713\n",
       "NFLX     0.046422\n",
       "QQQ      0.217140\n",
       "dtype: float64"
      ]
     },
     "execution_count": 3,
     "metadata": {},
     "output_type": "execute_result"
    }
   ],
   "execution_count": 3
  },
  {
   "metadata": {},
   "cell_type": "code",
   "outputs": [],
   "execution_count": null,
   "source": "",
   "id": "7e9c2fa73d18a9ae"
  }
 ],
 "metadata": {
  "kernelspec": {
   "display_name": "Python 3",
   "language": "python",
   "name": "python3"
  },
  "language_info": {
   "codemirror_mode": {
    "name": "ipython",
    "version": 3
   },
   "file_extension": ".py",
   "mimetype": "text/x-python",
   "name": "python",
   "nbconvert_exporter": "python",
   "pygments_lexer": "ipython3",
   "version": "3.8.8"
  }
 },
 "nbformat": 4,
 "nbformat_minor": 5
}
