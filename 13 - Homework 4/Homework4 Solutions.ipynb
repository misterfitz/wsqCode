{
 "cells": [
  {
   "cell_type": "markdown",
   "id": "295b8087",
   "metadata": {},
   "source": [
    "# Homework 4 Solutions"
   ]
  },
  {
   "cell_type": "markdown",
   "id": "61e4c875",
   "metadata": {},
   "source": [
    "1. Download Daily Bars for FB, AAPL, AMZN, NFLX, GOOGL and QQQ from yahoo finance starting 2016-01-01. Use the Adj Close to compute daily returns."
   ]
  },
  {
   "cell_type": "code",
   "id": "cd7dd148",
   "metadata": {
    "ExecuteTime": {
     "end_time": "2024-12-23T15:00:49.396838Z",
     "start_time": "2024-12-23T15:00:49.179679Z"
    }
   },
   "source": [
    "import yfinance as yf\n",
    "import numpy as np\n",
    "import pandas as pd\n",
    "\n",
    "univ = ['META','AAPL','AMZN','NFLX','GOOGL','QQQ']\n",
    "px = yf.download(univ, start=\"2016-01-01\")['Adj Close']\n",
    "ret = px / px.shift() - 1"
   ],
   "outputs": [
    {
     "name": "stderr",
     "output_type": "stream",
     "text": [
      "[*********************100%***********************]  6 of 6 completed\n"
     ]
    }
   ],
   "execution_count": 2
  },
  {
   "cell_type": "markdown",
   "id": "f4761411",
   "metadata": {},
   "source": [
    "2. Now, let's compute the beta of FB, AAPL, AMZN, NFLX, GOOGL using QQQ as our benchmark. You can think of this as the beta these stocks have to their industry (tech). In practice,  we have to use some lookback window to compute the beta. Let's use 252 (1 year, excluding wknds/holidays). So, for each day, the betas should be computed using the most recent 252 data points."
   ]
  },
  {
   "cell_type": "markdown",
   "id": "1bc39c0b",
   "metadata": {},
   "source": [
    "While it's possible to use a loop + statsmodels OLS function here, the computation is simple enough we don't need that complexity and overhead. The formula for beta in a univariate regression (with a constant) is correlation*(vol_y/vol_benchmark). Here I computed this quickly using the pandas rolling function."
   ]
  },
  {
   "cell_type": "code",
   "execution_count": 3,
   "id": "5d66089f",
   "metadata": {},
   "outputs": [],
   "source": [
    "corr = ret.rolling(252).corr(ret['QQQ'])\n",
    "vol = ret.rolling(252).std()\n",
    "beta = (corr*vol).divide(vol['QQQ'],axis=0)  "
   ]
  },
  {
   "cell_type": "markdown",
   "id": "75b64672",
   "metadata": {},
   "source": [
    "3. Using the betas, compute an \"alpha\" on each day. This is also known as a \"residual return\"."
   ]
  },
  {
   "cell_type": "code",
   "execution_count": 4,
   "id": "201d730c",
   "metadata": {},
   "outputs": [],
   "source": [
    "resid = ret - beta.multiply(ret['QQQ'],0)"
   ]
  },
  {
   "cell_type": "markdown",
   "id": "9e76e5ae",
   "metadata": {},
   "source": [
    "4. Compare the volatility of the residual returns to that of the original returns. What do you notice?"
   ]
  },
  {
   "cell_type": "markdown",
   "id": "4447f87c",
   "metadata": {},
   "source": [
    "The residual returns generally have much lower volatility. This is because we've taken out the \"beta component\" which drives much of the stock returns."
   ]
  },
  {
   "cell_type": "code",
   "execution_count": 5,
   "id": "d240ac1c",
   "metadata": {},
   "outputs": [
    {
     "data": {
      "text/html": [
       "<div>\n",
       "<style scoped>\n",
       "    .dataframe tbody tr th:only-of-type {\n",
       "        vertical-align: middle;\n",
       "    }\n",
       "\n",
       "    .dataframe tbody tr th {\n",
       "        vertical-align: top;\n",
       "    }\n",
       "\n",
       "    .dataframe thead th {\n",
       "        text-align: right;\n",
       "    }\n",
       "</style>\n",
       "<table border=\"1\" class=\"dataframe\">\n",
       "  <thead>\n",
       "    <tr style=\"text-align: right;\">\n",
       "      <th></th>\n",
       "      <th>orig</th>\n",
       "      <th>resid</th>\n",
       "    </tr>\n",
       "  </thead>\n",
       "  <tbody>\n",
       "    <tr>\n",
       "      <th>AAPL</th>\n",
       "      <td>0.293689</td>\n",
       "      <td>0.161240</td>\n",
       "    </tr>\n",
       "    <tr>\n",
       "      <th>AMZN</th>\n",
       "      <td>0.294663</td>\n",
       "      <td>0.178961</td>\n",
       "    </tr>\n",
       "    <tr>\n",
       "      <th>FB</th>\n",
       "      <td>0.323751</td>\n",
       "      <td>0.224119</td>\n",
       "    </tr>\n",
       "    <tr>\n",
       "      <th>GOOGL</th>\n",
       "      <td>0.260801</td>\n",
       "      <td>0.148505</td>\n",
       "    </tr>\n",
       "    <tr>\n",
       "      <th>NFLX</th>\n",
       "      <td>0.394258</td>\n",
       "      <td>0.292946</td>\n",
       "    </tr>\n",
       "  </tbody>\n",
       "</table>\n",
       "</div>"
      ],
      "text/plain": [
       "           orig     resid\n",
       "AAPL   0.293689  0.161240\n",
       "AMZN   0.294663  0.178961\n",
       "FB     0.323751  0.224119\n",
       "GOOGL  0.260801  0.148505\n",
       "NFLX   0.394258  0.292946"
      ]
     },
     "execution_count": 5,
     "metadata": {},
     "output_type": "execute_result"
    }
   ],
   "source": [
    "vol = {}\n",
    "vol['orig'] = ret.std()*np.sqrt(252)\n",
    "vol['resid'] = resid.std()*np.sqrt(252)\n",
    "vol = pd.DataFrame(vol).drop('QQQ')\n",
    "vol"
   ]
  },
  {
   "cell_type": "markdown",
   "id": "9ae4b3c5",
   "metadata": {},
   "source": [
    "5. Compare the pairwise correlations of the residual returns to that of the original returns. What do you notice?"
   ]
  },
  {
   "cell_type": "markdown",
   "id": "3fe9cb77",
   "metadata": {},
   "source": [
    "The pairwise correlations of the residual returns in general are much lower between stocks. This is because we've taken out one of the major common forces (tides) moving these stocks. Also striking is the large drop in correlations with QQQ. The original returns are 0.6-0.8 correlated with QQQ, but the residual returns are nearly 0 correlated with QQQ. Note, however, that they are not perfectly 0 correlated. This is because in practice we have to estimate the beta using rolling windows rather than the full sample"
   ]
  },
  {
   "cell_type": "code",
   "execution_count": 6,
   "id": "976ff6fc",
   "metadata": {},
   "outputs": [
    {
     "data": {
      "text/html": [
       "<div>\n",
       "<style scoped>\n",
       "    .dataframe tbody tr th:only-of-type {\n",
       "        vertical-align: middle;\n",
       "    }\n",
       "\n",
       "    .dataframe tbody tr th {\n",
       "        vertical-align: top;\n",
       "    }\n",
       "\n",
       "    .dataframe thead th {\n",
       "        text-align: right;\n",
       "    }\n",
       "</style>\n",
       "<table border=\"1\" class=\"dataframe\">\n",
       "  <thead>\n",
       "    <tr style=\"text-align: right;\">\n",
       "      <th></th>\n",
       "      <th>AAPL</th>\n",
       "      <th>AMZN</th>\n",
       "      <th>FB</th>\n",
       "      <th>GOOGL</th>\n",
       "      <th>NFLX</th>\n",
       "      <th>QQQ</th>\n",
       "    </tr>\n",
       "  </thead>\n",
       "  <tbody>\n",
       "    <tr>\n",
       "      <th>AAPL</th>\n",
       "      <td>1.000000</td>\n",
       "      <td>0.597157</td>\n",
       "      <td>0.573683</td>\n",
       "      <td>0.642036</td>\n",
       "      <td>0.449424</td>\n",
       "      <td>0.832867</td>\n",
       "    </tr>\n",
       "    <tr>\n",
       "      <th>AMZN</th>\n",
       "      <td>0.597157</td>\n",
       "      <td>1.000000</td>\n",
       "      <td>0.608957</td>\n",
       "      <td>0.651436</td>\n",
       "      <td>0.563991</td>\n",
       "      <td>0.758396</td>\n",
       "    </tr>\n",
       "    <tr>\n",
       "      <th>FB</th>\n",
       "      <td>0.573683</td>\n",
       "      <td>0.608957</td>\n",
       "      <td>1.000000</td>\n",
       "      <td>0.679038</td>\n",
       "      <td>0.458043</td>\n",
       "      <td>0.721541</td>\n",
       "    </tr>\n",
       "    <tr>\n",
       "      <th>GOOGL</th>\n",
       "      <td>0.642036</td>\n",
       "      <td>0.651436</td>\n",
       "      <td>0.679038</td>\n",
       "      <td>1.000000</td>\n",
       "      <td>0.500437</td>\n",
       "      <td>0.830525</td>\n",
       "    </tr>\n",
       "    <tr>\n",
       "      <th>NFLX</th>\n",
       "      <td>0.449424</td>\n",
       "      <td>0.563991</td>\n",
       "      <td>0.458043</td>\n",
       "      <td>0.500437</td>\n",
       "      <td>1.000000</td>\n",
       "      <td>0.595634</td>\n",
       "    </tr>\n",
       "    <tr>\n",
       "      <th>QQQ</th>\n",
       "      <td>0.832867</td>\n",
       "      <td>0.758396</td>\n",
       "      <td>0.721541</td>\n",
       "      <td>0.830525</td>\n",
       "      <td>0.595634</td>\n",
       "      <td>1.000000</td>\n",
       "    </tr>\n",
       "  </tbody>\n",
       "</table>\n",
       "</div>"
      ],
      "text/plain": [
       "           AAPL      AMZN        FB     GOOGL      NFLX       QQQ\n",
       "AAPL   1.000000  0.597157  0.573683  0.642036  0.449424  0.832867\n",
       "AMZN   0.597157  1.000000  0.608957  0.651436  0.563991  0.758396\n",
       "FB     0.573683  0.608957  1.000000  0.679038  0.458043  0.721541\n",
       "GOOGL  0.642036  0.651436  0.679038  1.000000  0.500437  0.830525\n",
       "NFLX   0.449424  0.563991  0.458043  0.500437  1.000000  0.595634\n",
       "QQQ    0.832867  0.758396  0.721541  0.830525  0.595634  1.000000"
      ]
     },
     "execution_count": 6,
     "metadata": {},
     "output_type": "execute_result"
    }
   ],
   "source": [
    "ret.corr()"
   ]
  },
  {
   "cell_type": "code",
   "execution_count": 7,
   "id": "43a1f486",
   "metadata": {},
   "outputs": [
    {
     "data": {
      "text/html": [
       "<div>\n",
       "<style scoped>\n",
       "    .dataframe tbody tr th:only-of-type {\n",
       "        vertical-align: middle;\n",
       "    }\n",
       "\n",
       "    .dataframe tbody tr th {\n",
       "        vertical-align: top;\n",
       "    }\n",
       "\n",
       "    .dataframe thead th {\n",
       "        text-align: right;\n",
       "    }\n",
       "</style>\n",
       "<table border=\"1\" class=\"dataframe\">\n",
       "  <thead>\n",
       "    <tr style=\"text-align: right;\">\n",
       "      <th></th>\n",
       "      <th>AAPL</th>\n",
       "      <th>AMZN</th>\n",
       "      <th>FB</th>\n",
       "      <th>GOOGL</th>\n",
       "      <th>NFLX</th>\n",
       "      <th>QQQ</th>\n",
       "    </tr>\n",
       "  </thead>\n",
       "  <tbody>\n",
       "    <tr>\n",
       "      <th>AAPL</th>\n",
       "      <td>1.000000</td>\n",
       "      <td>-0.061590</td>\n",
       "      <td>-0.049798</td>\n",
       "      <td>-0.168590</td>\n",
       "      <td>-0.109972</td>\n",
       "      <td>-0.048033</td>\n",
       "    </tr>\n",
       "    <tr>\n",
       "      <th>AMZN</th>\n",
       "      <td>-0.061590</td>\n",
       "      <td>1.000000</td>\n",
       "      <td>0.088339</td>\n",
       "      <td>0.005021</td>\n",
       "      <td>0.220227</td>\n",
       "      <td>0.049032</td>\n",
       "    </tr>\n",
       "    <tr>\n",
       "      <th>FB</th>\n",
       "      <td>-0.049798</td>\n",
       "      <td>0.088339</td>\n",
       "      <td>1.000000</td>\n",
       "      <td>0.189888</td>\n",
       "      <td>0.051855</td>\n",
       "      <td>0.010215</td>\n",
       "    </tr>\n",
       "    <tr>\n",
       "      <th>GOOGL</th>\n",
       "      <td>-0.168590</td>\n",
       "      <td>0.005021</td>\n",
       "      <td>0.189888</td>\n",
       "      <td>1.000000</td>\n",
       "      <td>-0.019504</td>\n",
       "      <td>0.059638</td>\n",
       "    </tr>\n",
       "    <tr>\n",
       "      <th>NFLX</th>\n",
       "      <td>-0.109972</td>\n",
       "      <td>0.220227</td>\n",
       "      <td>0.051855</td>\n",
       "      <td>-0.019504</td>\n",
       "      <td>1.000000</td>\n",
       "      <td>0.031492</td>\n",
       "    </tr>\n",
       "    <tr>\n",
       "      <th>QQQ</th>\n",
       "      <td>-0.048033</td>\n",
       "      <td>0.049032</td>\n",
       "      <td>0.010215</td>\n",
       "      <td>0.059638</td>\n",
       "      <td>0.031492</td>\n",
       "      <td>1.000000</td>\n",
       "    </tr>\n",
       "  </tbody>\n",
       "</table>\n",
       "</div>"
      ],
      "text/plain": [
       "           AAPL      AMZN        FB     GOOGL      NFLX       QQQ\n",
       "AAPL   1.000000 -0.061590 -0.049798 -0.168590 -0.109972 -0.048033\n",
       "AMZN  -0.061590  1.000000  0.088339  0.005021  0.220227  0.049032\n",
       "FB    -0.049798  0.088339  1.000000  0.189888  0.051855  0.010215\n",
       "GOOGL -0.168590  0.005021  0.189888  1.000000 -0.019504  0.059638\n",
       "NFLX  -0.109972  0.220227  0.051855 -0.019504  1.000000  0.031492\n",
       "QQQ   -0.048033  0.049032  0.010215  0.059638  0.031492  1.000000"
      ]
     },
     "execution_count": 7,
     "metadata": {},
     "output_type": "execute_result"
    }
   ],
   "source": [
    "resid.corr()"
   ]
  },
  {
   "cell_type": "markdown",
   "id": "748eddbe",
   "metadata": {},
   "source": [
    "6. Compute the information ratio for each of these stocks and compare that to the sharpe ratio"
   ]
  },
  {
   "cell_type": "markdown",
   "id": "67390a65",
   "metadata": {},
   "source": [
    "The IRs are in general lower than the SRs, suggesting most of the performance of these stocks was driven by their exposure to QQQ. AAPL performed the best looking at IR or SR and FB performed the worst. "
   ]
  },
  {
   "cell_type": "code",
   "execution_count": 8,
   "id": "3b3c0ad2",
   "metadata": {},
   "outputs": [
    {
     "data": {
      "text/html": [
       "<div>\n",
       "<style scoped>\n",
       "    .dataframe tbody tr th:only-of-type {\n",
       "        vertical-align: middle;\n",
       "    }\n",
       "\n",
       "    .dataframe tbody tr th {\n",
       "        vertical-align: top;\n",
       "    }\n",
       "\n",
       "    .dataframe thead th {\n",
       "        text-align: right;\n",
       "    }\n",
       "</style>\n",
       "<table border=\"1\" class=\"dataframe\">\n",
       "  <thead>\n",
       "    <tr style=\"text-align: right;\">\n",
       "      <th></th>\n",
       "      <th>IR</th>\n",
       "      <th>SR</th>\n",
       "    </tr>\n",
       "  </thead>\n",
       "  <tbody>\n",
       "    <tr>\n",
       "      <th>AAPL</th>\n",
       "      <td>0.537986</td>\n",
       "      <td>1.233033</td>\n",
       "    </tr>\n",
       "    <tr>\n",
       "      <th>AMZN</th>\n",
       "      <td>0.352762</td>\n",
       "      <td>1.137797</td>\n",
       "    </tr>\n",
       "    <tr>\n",
       "      <th>FB</th>\n",
       "      <td>-0.144798</td>\n",
       "      <td>0.787312</td>\n",
       "    </tr>\n",
       "    <tr>\n",
       "      <th>GOOGL</th>\n",
       "      <td>0.118156</td>\n",
       "      <td>0.999067</td>\n",
       "    </tr>\n",
       "    <tr>\n",
       "      <th>NFLX</th>\n",
       "      <td>0.329492</td>\n",
       "      <td>0.966760</td>\n",
       "    </tr>\n",
       "  </tbody>\n",
       "</table>\n",
       "</div>"
      ],
      "text/plain": [
       "             IR        SR\n",
       "AAPL   0.537986  1.233033\n",
       "AMZN   0.352762  1.137797\n",
       "FB    -0.144798  0.787312\n",
       "GOOGL  0.118156  0.999067\n",
       "NFLX   0.329492  0.966760"
      ]
     },
     "execution_count": 8,
     "metadata": {},
     "output_type": "execute_result"
    }
   ],
   "source": [
    "df = {}\n",
    "df['IR'] = resid.mean() / resid.std()*np.sqrt(252)\n",
    "df['SR'] = ret.mean() / ret.std()*np.sqrt(252)\n",
    "df = pd.DataFrame(df).drop('QQQ')\n",
    "df"
   ]
  },
  {
   "cell_type": "code",
   "execution_count": null,
   "id": "5c9b6748",
   "metadata": {},
   "outputs": [],
   "source": []
  }
 ],
 "metadata": {
  "kernelspec": {
   "display_name": "Python 3",
   "language": "python",
   "name": "python3"
  },
  "language_info": {
   "codemirror_mode": {
    "name": "ipython",
    "version": 3
   },
   "file_extension": ".py",
   "mimetype": "text/x-python",
   "name": "python",
   "nbconvert_exporter": "python",
   "pygments_lexer": "ipython3",
   "version": "3.8.8"
  }
 },
 "nbformat": 4,
 "nbformat_minor": 5
}
