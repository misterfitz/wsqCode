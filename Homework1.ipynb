{
 "cells": [
  {
   "cell_type": "markdown",
   "id": "38d7926d",
   "metadata": {},
   "source": [
    "# Homework 1\n",
    "This homework provides practical finance applications of the python concepts learned in this module. Note that for most of these problems, there will be better solutions using pandas which we will learn. However, they are still useful for practicing and learning Python fundamentals.\n",
    "\n",
    "Solutions will be released next class."
   ]
  },
  {
   "cell_type": "markdown",
   "id": "76205f94",
   "metadata": {},
   "source": [
    "## Problem 1 -  Computing Dollar Profits\n",
    "\n",
    "- The \"pos\" dictionary below represents the dollars initially invested in each ticker. The \"ret\" dictionary represents the returns of each ticker\n",
    "- Please complete the function \"compute_profit\"\n",
    "- compute_profit takes as input \"pos\" and \"ret\" and should return a new dictionary that maps each ticker to the total dollar profit of that ticker (=ticker's return x dollars invested in ticker)"
   ]
  },
  {
   "cell_type": "code",
   "id": "509d1e58",
   "metadata": {
    "ExecuteTime": {
     "end_time": "2024-10-25T03:18:09.147138Z",
     "start_time": "2024-10-25T03:18:09.143022Z"
    }
   },
   "source": [
    "pos = {'AAPL':1000,'TSLA':500,'BAC':-250,'GS':1200}\n",
    "ret = {'AAPL':-0.01,'TSLA':0.05,'BAC':0.01,'GS':0.03}\n",
    "\n",
    "def compute_profit(pos,ret):\n",
    "    profit={}\n",
    "    # fill out the body here\n",
    "    for ticker in pos: \n",
    "        profit[ticker] = pos[ticker]*ret[ticker]\n",
    "        print(profit)\n",
    "    \n",
    "    profit\n",
    "    # return a dict profit with keys=tickers and values=dollar profits\n",
    "    return profit\n",
    "profit = compute_profit(pos,ret)"
   ],
   "outputs": [
    {
     "name": "stdout",
     "output_type": "stream",
     "text": [
      "{'AAPL': -10.0}\n",
      "{'AAPL': -10.0, 'TSLA': 25.0}\n",
      "{'AAPL': -10.0, 'TSLA': 25.0, 'BAC': -2.5}\n",
      "{'AAPL': -10.0, 'TSLA': 25.0, 'BAC': -2.5, 'GS': 36.0}\n"
     ]
    }
   ],
   "execution_count": 8
  },
  {
   "cell_type": "markdown",
   "id": "573d1dd6",
   "metadata": {},
   "source": [
    "## Problem 2 - Performance Stats\n",
    "- \"rets\" variable below is a list containing randomly generated, hypothetical daily returns\n",
    "- Please complete the function \"compute_stats\"\n",
    "- compute_stats takes as input rets and returns a new dictionary containing performance stats with (key:values) as specified below\n",
    "    1. \"avg\": average daily return\n",
    "    2. \"hit_rate\": percent of returns which are positive\n",
    "    3. \"max_ret\": max daily return"
   ]
  },
  {
   "cell_type": "code",
   "id": "0c2d8344",
   "metadata": {
    "ExecuteTime": {
     "end_time": "2024-10-25T03:18:52.462008Z",
     "start_time": "2024-10-25T03:18:52.396590Z"
    }
   },
   "source": [
    "# Generate random returns. \n",
    "# Don't worry about how to generate these for now.\n",
    "import numpy as np \n",
    "np.random.seed(2)\n",
    "rets = list(np.random.normal(0, 0.1/np.sqrt(252), 252))"
   ],
   "outputs": [],
   "execution_count": 9
  },
  {
   "cell_type": "code",
   "id": "4a8d8e26",
   "metadata": {
    "ExecuteTime": {
     "end_time": "2024-10-25T03:31:45.729622Z",
     "start_time": "2024-10-25T03:31:45.723475Z"
    }
   },
   "source": [
    "def compute_stats(rets):\n",
    "    stats = {}\n",
    "    # fill out the body here\n",
    "    # return a dict stats with keys avg, hit_rate and max_ret\n",
    "    cnt = 0 \n",
    "    avg = 0\n",
    "    sum = 0 \n",
    "    hit_rate = 0\n",
    "    max = -1 \n",
    "    for a in rets: \n",
    "        sum += a\n",
    "        cnt += 1\n",
    "        avg = sum / cnt\n",
    "        hit_rate +=1 if a > 0 else 0\n",
    "        max = a if a > max else max \n",
    "        # print(max)\n",
    "        \n",
    "    print(rets)\n",
    "    stats[\"avg\"] = avg\n",
    "    stats[\"hit_rate\"] = hit_rate\n",
    "    stats[\"max\"] = max\n",
    "    print(stats)\n",
    "    # max\n",
    "    \n",
    "    \n",
    "    print(stats)\n",
    "        \n",
    "    return stats\n",
    "compute_stats(rets)"
   ],
   "outputs": [
    {
     "name": "stdout",
     "output_type": "stream",
     "text": [
      "[-0.002625327669451144, -0.0003544476950083476, -0.013456770525728266, 0.010332734861520178, -0.011297582263902858, -0.005302509991119207, 0.00316785516370455, -0.007844577589986187, -0.006664472547854109, -0.005726209735620019, 0.003473833955596603, 0.01443955322651889, 0.00026167357972941245, -0.007042268362098935, 0.0033957482343259485, -0.0037554531127781733, -0.00012051080060036454, 0.007401811945227113, -0.004711144153812754, 5.685373713181409e-05, -0.005531559785230477, -0.0009854426461676656, 0.0016162419280068155, -0.0062287225348462505, -0.0021343777639029247, -0.0014878195459066418, -0.004016849012588686, -0.007481254199381623, -0.008952827005827323, -0.0009669288457247715, -0.001694899536291836, 0.014056289540863617, -0.015337594065995495, 0.0007101102331199471, 0.0023335812346511114, 0.008564888273175796, 0.00316140324478303, -0.005318046461253691, 6.149149112686686e-08, 0.003416500068625111, -0.001974916007678113, 0.004856917421055557, -0.011767864996427586, 0.010905438332649377, 0.00924550243022685, -0.0021145684726050994, 0.003851084926343837, 0.000302186324590009, -0.005223061376097069, 0.00055252244130382, 0.0063017127521090305, -0.002400657209174149, -0.002366494925328871, -0.0004691217108636439, 0.002730770199147085, 0.008053032201260803, -0.003998103818533003, 0.003202595299095241, 0.0013614028736051904, -0.011708157517493168, -0.0026414455533487345, -0.0008335937060255876, -0.0002492690798773747, 0.002053628598321814, -0.012852827098022143, 0.0002913824071336264, -0.00426895487426695, -0.009067613552836277, 0.0033027570644913436, 0.004631825958032205, -0.004115089886819222, 0.005306975741623745, -0.002403327932911254, 0.0004188413883804722, -0.006921404784601296, 0.009981330254342228, -0.01675295687127768, -0.0005760973736029866, 0.004378841919999471, -0.012809635191452118, -0.0011935441798076798, -0.00048643186927677204, 0.005195140613985245, 0.007863002312279441, -0.0025442821455469193, -0.008721647802811103, 0.008612773608069382, 0.007671958358060497, -0.0029103601323706165, 0.0022103897458812726, 0.0024055311656952533, 0.003567199980047757, 0.0012863893522425285, 0.00886135339439334, -0.010948115803101515, 0.006556574617311788, 0.002396748128618251, -0.0013678236237145876, 0.007392553573139563, -0.014763312417150731, 0.007316897635612139, 0.0024320630967153995, -0.0071380686772423525, 0.0027282266530839353, -0.0019155645098465311, 0.016285826873024618, 0.01156150942323656, 0.0027760852564646748, -0.004530873318911606, -0.0036751664964324426, -0.002047620191552782, -0.0035291456651958928, -0.005683615994048576, -0.0037227754110145464, -0.0017397672707417677, -0.0032560624750265763, -0.0044007030379541595, -0.00585146911225287, 0.016066250729447312, -0.009280119170932924, -0.0064343080057605775, 0.002723836887536871, -0.002038362844379371, 0.0026698447059469556, 0.005034360761048773, 0.007953718464546925, 0.004736933299249423, -0.0062601057713591625, 0.006986945930526338, -0.011117936651206474, -0.0007207864205503638, -0.0031382024445405685, -0.006682405812255464, 0.003727148745067337, -0.0011544079055679339, 0.006424480922200197, -0.009338654717993633, 0.005331263803358896, 0.003136728096126697, 0.000796901399219842, -0.008937666371079784, -0.001586027866116889, -0.009743134239388442, -0.013119474022591445, 0.020660454035591778, 0.0061158514532344095, 0.011292273546280414, -0.002702529880741888, 0.004385635041232051, 0.004393309563653489, 0.0037891934586573276, 2.305262465627629e-05, -0.0014378244674741847, -0.013037331803196356, 0.0038435464679731444, 0.0026677797132821928, 0.007042024501545898, -0.0017275627765708705, 0.010972385431615946, -0.0028189905473553468, -0.007908448116392207, 0.005909875626825563, -0.002950304119662831, -0.007903994994198098, 0.0007863150620885979, 0.004765515563820151, 0.001520926701311561, 0.003133487054285186, 0.025882330705223864, 0.005172575327834517, 0.009649183012219759, -0.01250965252281897, 0.0022996209993621265, 0.0048762584636953005, -0.0022960024630710066, -0.005518152027378319, 0.0024978422135926155, -0.001981903554453473, -0.0037403085996751853, 0.00724117293835558, 0.00841327604976423, 0.0019063856260947908, -0.0028613665288981073, 0.003240230952636773, 0.005225096976830868, 0.003972544992165648, -0.009155334841807106, -0.0021293118514366157, 0.002262327341524888, 0.003919620184165921, 0.006052357357657519, 0.004777284143545213, -0.007145534794388228, -0.004456332716062774, -0.007694280511725377, 0.011367134381535688, 0.0011364749599169842, 0.0034846073894931524, 0.006507471441775794, -0.0020725205308400854, -0.007250637020239636, -0.0026868390153900914, -0.0009332395840187683, 0.00945816354052587, 0.005477953741080816, -0.006848026937227022, 0.004184201607925389, 0.004629338269421165, -0.006685975734581094, -0.0006835917360862345, -0.01165644938013792, 0.0020818791157531935, -0.0019886802977446497, -0.00850421388825552, -0.0043980638861957425, 0.0015115504700524017, -0.0034832540587543467, 0.0018868415682628632, 0.0034814540410062177, -0.005294293338510599, -0.001967120318229463, 0.01351020206208816, 0.000762893455328816, -0.005334519715946322, 0.0003808776279038824, -0.008432317342591967, 0.007135629560723636, 0.0023327012456954227, 0.006839937421437597, 0.005683195995958097, 0.0024586365328349495, 0.00614513168180851, 0.0012068005397094126, -0.004171524669412906, -0.006447538364103909, -0.0028232360153559624, -0.01578290270893636, 0.011502683878477919, -0.010797609762286709, -0.0004827838736320415, -0.008299893646113185, -0.01276004024114379, -0.0005180971638640559, -0.001919219086437027, -0.0010061674444697844, 0.003458038286559739, -0.003895399405716496, 0.002386180843495807, 0.003233180194493363, -0.0021093197236477026, -0.0017860050765014957, 0.0033917540456839665]\n",
      "{'avg': -0.00012053243427670066, 'hit_rate': 124, 'max': 0.025882330705223864}\n",
      "{'avg': -0.00012053243427670066, 'hit_rate': 124, 'max': 0.025882330705223864}\n"
     ]
    },
    {
     "data": {
      "text/plain": [
       "{'avg': -0.00012053243427670066, 'hit_rate': 124, 'max': 0.025882330705223864}"
      ]
     },
     "execution_count": 22,
     "metadata": {},
     "output_type": "execute_result"
    }
   ],
   "execution_count": 22
  },
  {
   "cell_type": "markdown",
   "id": "dca0dae2",
   "metadata": {},
   "source": [
    "## Problem 3 - Signal Analysis\n",
    "- \"rets\" variable below is a list containing randomly generated, hypothetical daily returns\n",
    "- \"signal\" variable below represents a daily hypothetical signal that could be predictive of \"rets\"\n",
    "- Please complete the function \"analyze_signal\"\n",
    "- analyze_signal takes as input rets and signal and returns a new dictionary with (key:values) as specified below\n",
    "    1. \"pos_ret\": average daily return when the signal is > 1\n",
    "    2. \"neg_ret\": average daily return when the signal is < -1\n",
    "    3. \"spread\":pos_ret - neg_ret\n",
    "   \n",
    "Hint: Look up and use the python \"range\" function"
   ]
  },
  {
   "cell_type": "code",
   "execution_count": null,
   "id": "116dc54e",
   "metadata": {},
   "outputs": [],
   "source": [
    "# Generate random returns and a signal.\n",
    "# Don't worry about how to generate these for now.\n",
    "import numpy as np \n",
    "np.random.seed(2)\n",
    "rets = list(np.random.normal(0, 0.1/np.sqrt(252), 252))\n",
    "signal = list(np.random.normal(0,1,252))"
   ]
  },
  {
   "cell_type": "code",
   "execution_count": null,
   "id": "3957eb67",
   "metadata": {},
   "outputs": [],
   "source": [
    "def analyze_signal(rets,signal):\n",
    "    analysis = {}\n",
    "    # fill out the body here\n",
    "    # return the analysis dict with keys pos_ret, neg_ret, spread\n",
    "    return analysis"
   ]
  }
 ],
 "metadata": {
  "kernelspec": {
   "display_name": "Python 3",
   "language": "python",
   "name": "python3"
  },
  "language_info": {
   "codemirror_mode": {
    "name": "ipython",
    "version": 3
   },
   "file_extension": ".py",
   "mimetype": "text/x-python",
   "name": "python",
   "nbconvert_exporter": "python",
   "pygments_lexer": "ipython3",
   "version": "3.8.8"
  }
 },
 "nbformat": 4,
 "nbformat_minor": 5
}
